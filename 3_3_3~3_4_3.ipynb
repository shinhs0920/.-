{
  "nbformat": 4,
  "nbformat_minor": 0,
  "metadata": {
    "colab": {
      "name": "3.3.3~",
      "provenance": [],
      "collapsed_sections": [],
      "include_colab_link": true
    },
    "kernelspec": {
      "name": "python3",
      "display_name": "Python 3"
    }
  },
  "cells": [
    {
      "cell_type": "markdown",
      "metadata": {
        "id": "view-in-github",
        "colab_type": "text"
      },
      "source": [
        "<a href=\"https://colab.research.google.com/github/shinhs0920/Engineering-computing-application/blob/master/3_3_3~3_4_3.ipynb\" target=\"_parent\"><img src=\"https://colab.research.google.com/assets/colab-badge.svg\" alt=\"Open In Colab\"/></a>"
      ]
    },
    {
      "cell_type": "markdown",
      "metadata": {
        "id": "8gobs_bB76Ka",
        "colab_type": "text"
      },
      "source": [
        "## 3.3.3 Configuration Around Tetrahedral Centers - 사면체 중심의 구조"
      ]
    },
    {
      "cell_type": "markdown",
      "metadata": {
        "id": "byub4zsg8bAx",
        "colab_type": "text"
      },
      "source": [
        "SMILES은 국부 카이랄성(분자 비대칭성)을 기초로 한 카이랄성(분자 비대칭성) 설명의 일반적인 방식을 사용합니다.. \n",
        "<br>카이랄 중심 주위 원자들의 번호 매기기 규칙을 사용하는 것 대신에, 방향은 SMILES 문자열에서 발생하는 이웃 원소들의 순서에 기초되어 있습니다."
      ]
    },
    {
      "cell_type": "markdown",
      "metadata": {
        "id": "UIbgbC5XBp3U",
        "colab_type": "text"
      },
      "source": [
        "가장 간단하고 가장 흔한 카이랄성의 종류는 사면체입니다. 4개의 이웃 원자는 \"카이랄 중심\"으로 알려진 중심 원자에 대해 고르게 분포되어 있습니다."
      ]
    },
    {
      "cell_type": "markdown",
      "metadata": {
        "id": "-6Mg0zsy8bGl",
        "colab_type": "text"
      },
      "source": [
        "만약 모든 4개의 이웃원자들이 모두 어떤식으로라도 서로 다르다면, 구조의 대칭된 모습은 동일하지 않을 것이다.\n",
        "<br>두 개의 대칭된 구조들은 \"거울상 이성질체\"로 알려져 있으며 사면체 중심이 가질 수 있는 두 가지 형태들이다.\n",
        "<br>만약 4개의 이웃원자들 중 두개 혹은 그 이상이 서로 같다면, 중심 원자는 카이랄성을 갖지 않을 것이다.(그것의 거울상 이미지는 고정된 한가지의 형태가 될 수 있다.)"
      ]
    },
    {
      "cell_type": "markdown",
      "metadata": {
        "id": "tJGJHoEC8bNV",
        "colab_type": "text"
      },
      "source": [
        " SMILES에서, 사면체의 중심은 카이랄 원자의 원자 기호에 카이랄이라는 명시(@ 혹은 @@)함으로써 나타내질 수 있다."
      ]
    },
    {
      "cell_type": "markdown",
      "metadata": {
        "id": "0NLDUP1H8bLm",
        "colab_type": "text"
      },
      "source": [
        "만약 카이랄의 명시가 카이랄 원자에 대해 제시되지 않은 경우, 그것의 카이랄성은 암묵적으로 명시되지 않는다."
      ]
    },
    {
      "cell_type": "markdown",
      "metadata": {
        "id": "Y9xLkwyqEQ96",
        "colab_type": "text"
      },
      "source": [
        "예를 들면,"
      ]
    },
    {
      "cell_type": "markdown",
      "metadata": {
        "id": "vFhFx9lsBAwt",
        "colab_type": "text"
      },
      "source": [
        "unspecified chirality | specified chirality\n",
        "---- | ----\n",
        "![u.c](http://www.daylight.com/dayhtml/doc/theory/theory13.gif) | ![s.c](http://www.daylight.com/dayhtml/doc/theory/theory14.gif)\n",
        "NC(C)(F)C(=O)O | N$[C@]$(C)(F)C(=O)O(anticlockwise)\n",
        "NC(F)(C)C(=O)O | N$[C@@]$(F)(C)C(=O)O(clockwise)\n",
        "\n",
        "* '@'는 이웃하는 원자들이 반시계로 표현되어 있다는 것을 의미하고 '@@'는 이웃하는 원자들이 시계로 표현되어 있다는 것을 의미한다.(시계와 반시계는 카이랄 중심, @@:anti-anti-clockwise)\n",
        "<br><br>\n",
        "cf)**카이랄 중심의 R or S 배열 결정**(in Organic chemistry)<br>\n",
        "1. 카이랄 중심을 정하고 4개의 치환기를 확인한 후, 우선순위가 가장 높은 것(1)부터 가장 낮은 것(4)까지 번호를 배정\n",
        "> **우선순위**<br>\n",
        "카이랄 중심에서 결합된 원자의 번호가 클수록 높은 우선순위 -> 비교가 안된다면 두 번째 쌍을 살펴본다 -> 이중 결합의 경우 결합과 같은 수만큼의 '가상'의 원자들이 단일 결합으로 취급\n",
        "2. 가장 낮은 우선순위(4)를 갖는 치환기를 자동차의 운전대 기둥처럼 당신으로 부터 가장 멀리 위치하도록 분자를 배치\n",
        "3. 당신 쪽으로 향하고 있는 세 개의 치환기들을 우선순위가 가장 높은(1)치환기 부터 우선순위가 가장 낮은(3) 치환기 순서대로 읽어라\n",
        "4. 치환기가 시계방향으로 읽혀지면 배열을 **R(라틴어 rectus,똑바른, 올바른); SMILE에선 @@**, 반시계 방향이라면 **S(라틴어 sinister, 왼쪽); SMILE에선 @**로 배정 \n",
        "\n",
        "<br>\n",
        " 임의의 원자를 기준으로 카이랄 중심과 그 다음 원자(구조식이 복합한)까지 선형이라 가정후 방향성에 맞춰 카이랄 중심을 기준으로 가지를 붙히는 것으로 표현"
      ]
    },
    {
      "cell_type": "markdown",
      "metadata": {
        "id": "o_yFOJAWEbVs",
        "colab_type": "text"
      },
      "source": [
        "아미노기 N에서 카이랄 C에 이르기까지(SMILES가 쓰여진 대로), 다른 세 이웃 원자들은  상단 SMILES에서 N$[C@]$(C)(F)C(=O)O (메틸-C,F,카복시-C) 로 쓰이기 위해 반시계방향으로 나타내며, 하단에서는 N$[C@@]$(F)(C)C(=O)O 로 표현하기 위해 시계방향으로 나타낸다."
      ]
    },
    {
      "cell_type": "markdown",
      "metadata": {
        "id": "VsdrCVV88bEf",
        "colab_type": "text"
      },
      "source": [
        "'@'는 이웃하는 원자들이 반시계로 표현되어 있다는 것을 의미하고 '@@'는 이웃하는 원자들이 시계로 표현되어 있다는 것을 의미한다.(시계와 반시계는 카이랄 중심, @@:anti-anti-clockwise)"
      ]
    },
    {
      "cell_type": "markdown",
      "metadata": {
        "id": "fAl9QuUBGBzh",
        "colab_type": "text"
      },
      "source": [
        "만약 중심 탄소가 SMILES의 첫번째 원소가 아니며 내포되어 있는 수소가 부착된 경우(수소는 최소 1개만 가질 수 있으며 여전히 카이랄일 수 있다), 내포되어 있는 수소는 사면체 구조를 따르는 3개의 이웃 원자들 중 첫 번째 이웃 원자로 취해진다. \n",
        "<br>만약 중심 탄소원자가 SMILES에서 첫번째라면, 내포된 수소는 'from'원자로 취해진다.\n",
        "<br>수소는 아마도 명시적으로 [H]로 쓰여지며 이 경우에 다른 원자들 처럼 취급된다.\n",
        "<br> 각각의 경우에 암시된 순서는 SMILES에 쓰여진 순서와 정확히 일치한다.\n"
      ]
    },
    {
      "cell_type": "markdown",
      "metadata": {
        "id": "7OgcEYbkGBw1",
        "colab_type": "text"
      },
      "source": [
        "alanine의 가능한 SMILES 형태는 다음과 같다."
      ]
    },
    {
      "cell_type": "markdown",
      "metadata": {
        "id": "g8cbzmfbGBtO",
        "colab_type": "text"
      },
      "source": [
        "(1) | (2)\n",
        "---- | ----\n",
        "![u.c](https://www.daylight.com/dayhtml/doc/theory/theory15.gif) | ![s.c](https://www.daylight.com/dayhtml/doc/theory/theory16.gif)\n",
        "N$[C@@]$([H])(C)C(=O)O |\tN$[C@]$([H])(C)C(=O)O\n",
        "N$[C@@H]$(C)C(=O)O | N$[C@H]$(C)C(=O)O\n",
        "N$[C@H]$(C(=O)O)C | N$[C@@H]$(C(=O)O)C\n",
        "[H]$[C@]$(N)(C)C(=O)O | \t[H]$[C@@]$(N)(C)C(=O)O\n",
        "$[C@H]$(N)(C)C(=O)O\t| $[C@@H]$(N)(C)C(=O)O\n"
      ]
    },
    {
      "cell_type": "markdown",
      "metadata": {
        "id": "0cnG38huGBm0",
        "colab_type": "text"
      },
      "source": [
        "고리닫힘 결합에서의 카이랄 순서는 고리 닫힘 숫자가 카이랄 원자에서 나타나는 어휘순서로 표현한다.(치환기 원자의 어휘순서에서가 아니다)"
      ]
    },
    {
      "cell_type": "markdown",
      "metadata": {
        "id": "LpUyY0cAGBjB",
        "colab_type": "text"
      },
      "source": [
        "|  |\n",
        "|---\n",
        "![u.c](https://www.daylight.com/dayhtml/doc/theory/theory17.gif) |\n",
        "<center>C$[C@H]$1CCCCO1 |\t\n",
        "<center>**$or$** | \n",
        "<center>O1CCCC$[C@@H]$1C| "
      ]
    },
    {
      "cell_type": "markdown",
      "metadata": {
        "id": "q_9pkTWqLGAx",
        "colab_type": "text"
      },
      "source": [
        "## 3.3.4 General Chiral Sepcification(일반적 카이랄 규격"
      ]
    },
    {
      "cell_type": "markdown",
      "metadata": {
        "id": "3VSkGdPVNl4P",
        "colab_type": "text"
      },
      "source": [
        "사면체 구조에서와 달리 보다 많은 종류의 카이랄성이 있다. \"@\"기호를 사용함으로 특별한 경우의 카이랄 규격의 문법을 보았다."
      ]
    },
    {
      "cell_type": "markdown",
      "metadata": {
        "id": "fuDWVBMrNmTI",
        "colab_type": "text"
      },
      "source": [
        "SMILES에서 사용되는 일반적인 카이랄 규격은 3부분이 있다.\n",
        "<BR> - '@'기호, 잇따르는 두 글자의 카이랄 표시, 그리고 잇따르는 수적인 카이랄 지정자가 있다."
      ]
    },
    {
      "cell_type": "markdown",
      "metadata": {
        "id": "HdffcaNXNmQe",
        "colab_type": "text"
      },
      "source": [
        "가장 기초가 되는 카이랄 class는 각각의 degree(연결의 수); 4개의 연결에 기초가 되는 클라스는 사면체(TH)이다."
      ]
    },
    {
      "cell_type": "markdown",
      "metadata": {
        "id": "Pe5skHChNmOK",
        "colab_type": "text"
      },
      "source": [
        "대부분의 경우 '@1'표시는 'SMILE의 순서를 기준으로한 축에 반시계 방향'으로, '@2'표시는 '시계방향'을 의미한다.\n",
        "<BR> '@@'와 '@@@'는 '@2'와'@3'으로 해석된다."
      ]
    },
    {
      "cell_type": "markdown",
      "metadata": {
        "id": "DfSzu4rmNmL7",
        "colab_type": "text"
      },
      "source": [
        "위에서 사용된 '@'와 '@@'는 '@TH1'과 '@TH2'를 간략하게 표현한 것이다.\n",
        "<BR>이 장의 나머지 부분은 다음의 여러 카이랄성 사면체, 알렌식(allen-like),사각 평면, trigonal-bipyramidal(삼각 쌍뿔), 그리고 octahedra(8면체)들로 제한 될 것이다. <br> 이 5개 종류는 화학에서 매우 흔하고 자주 다뤄지는 부분이다. "
      ]
    },
    {
      "cell_type": "markdown",
      "metadata": {
        "id": "WVrTjeYCNmH1",
        "colab_type": "text"
      },
      "source": [
        "**Tetrahedral** : TH라는 기호로 표시되며, 4방위가 붙어있는 카이랄 클래스의 default이다.\n",
        ">1과 2만이 가능하다. @TH1(or @)는 이어지는 3개의 연결된 원자들이 반시계 방향으로 연결된 것이다. @TH2(or @@)는 시계방향이다."
      ]
    },
    {
      "cell_type": "markdown",
      "metadata": {
        "id": "yDIYr_5dNmCp",
        "colab_type": "text"
      },
      "source": [
        "**Allen-like** : AL의 기호로 표시되며, 카이랄 중심이 이중결합으로 연결된 2개가 붙어있는 카이랄 클래스의 default이다. 비록 C=C=C의 구조가 가장 흔하나, C=C=C=C=C 구조들도 또한 allen-like이.  이중결합된 원자가 일렬로 짝수개가 연결된 것이다.\n",
        ">@AL1(or @)과 @AL2(or @)의 값이 가능하다; 이들은 대체된 원자의 중첩과 각각의 사면체의 평가에 의해 해석된다.<br>\n",
        "대체된 allen-like 원자에 부착된 수소는 그 원자의 바로 뒤에 있는 것으로 간주된다"
      ]
    },
    {
      "cell_type": "markdown",
      "metadata": {
        "id": "hDl8YVtWNmAD",
        "colab_type": "text"
      },
      "source": [
        "(1) | (2)\n",
        "---- | ----\n",
        "![u.c](https://www.daylight.com/dayhtml/doc/theory/theory18.gif) | ![s.c](https://www.daylight.com/dayhtml/doc/theory/theory19.gif)\n",
        "<center>OC(Cl)=$[C@]$=C(C)F\t |\t<center>OC=$[C@]$=CF\n",
        "<center>OC(Cl)=$[C@AL1]$=C(C)FO | <center>OC([H])=$[C@AL1]$=C([H])F\n"
      ]
    },
    {
      "cell_type": "markdown",
      "metadata": {
        "id": "aSNHJDOdNl-O",
        "colab_type": "text"
      },
      "source": [
        "**Square-planar** : SP 기호로 표시한다.\n",
        ">@SP1,@SP2, @SP3; 4방위가 연결된 카이랄 class의 default는 아니고, 줄이는 표현 또한 없다. 또한 시계와 반시계방향이 없다."
      ]
    },
    {
      "cell_type": "markdown",
      "metadata": {
        "id": "jqkAbi47Nl8S",
        "colab_type": "text"
      },
      "source": [
        "![SP](http://www.daylight.com/dayhtml/doc/theory/theory20.gif) | -\n",
        "---- | ----\n",
        "F$[Po@SP1]$(Cl)(Br)I | (SP1 lists in a \"U shape\")\n",
        "F$[Po@SP2]$(Br)(Cl)I | (SP2 lists in a \"4-shape\")\n",
        "F$[Po@SP3]$(Cl)(I)Br | (SP3 lists in a \"Z shape\")"
      ]
    },
    {
      "cell_type": "markdown",
      "metadata": {
        "id": "ACOt0RI0Nl1h",
        "colab_type": "text"
      },
      "source": [
        "**Trigonal-bipyramidal** : TB기호로 사용한다. 5개의 방향의 카이랄 class의 default이다.\n",
        ">가능한 값은 @TB1~@TB2 : @TB1(or @)는 한 개의 축으로 부터 다른 축까지 SMILE에 의해 나열될 때, 3개의 중간, 수평적으로(equatorially) 연결된 원자들을 반시계 방향으로 나열시킨 것. @TB2(or @@)는 시계 방향\n",
        "\n",
        "|  |\n",
        "|---\n",
        "<center>![TB](http://www.daylight.com/dayhtml/doc/theory/theory21.gif) |\n",
        "<center>S$[As@@]$(F)(Cl)(Br)C=O<br> |\t\n",
        "<center>O=C$[As@]$(F)(Cl)(Br)S<br> |"
      ]
    },
    {
      "cell_type": "markdown",
      "metadata": {
        "id": "Kl0DxvH6NlzP",
        "colab_type": "text"
      },
      "source": [
        "**Octahedral** : OH기호로 사용. 6개의 방향의 카이랄 class의 default이다.\n",
        ">가능한 값은 @OH1~ @OH2 : @OH1(or @)는 한 개의 축이 다른 것과 연결을 SMILE에 의해 나열될 때, 4개의 중간, 수평적으로 연결된 원자들을 시계방향으로 나열시킨 것.;@OH2(or @@)는 시계방향\n",
        "\n",
        "|  |\n",
        "|---\n",
        "<center>![OH](http://www.daylight.com/dayhtml/doc/theory/theory22.gif) |\n",
        "<center>S$[Co@@]$(F)(Cl)(Br)(I)C=O<br> |\t\n",
        "<center>O=C$[Co@]$(F)(Cl)(Br)(I)S<br> |"
      ]
    },
    {
      "cell_type": "markdown",
      "metadata": {
        "id": "3_w4sz9CNlwn",
        "colab_type": "text"
      },
      "source": [
        "## 3.4 SMILES Conventions"
      ]
    },
    {
      "cell_type": "markdown",
      "metadata": {
        "id": "hA72vac6UJBP",
        "colab_type": "text"
      },
      "source": [
        "위의 규칙들과는 별개로, 소수의 규약들은 SMILES에서 보편적으로 사용된다. 아래에 간략히 설명하겠습니다."
      ]
    },
    {
      "cell_type": "markdown",
      "metadata": {
        "id": "FuXpHYaNUI-5",
        "colab_type": "text"
      },
      "source": [
        "## 3.4.1 Hydrogens"
      ]
    },
    {
      "cell_type": "markdown",
      "metadata": {
        "id": "-Z-Di2GZUI8d",
        "colab_type": "text"
      },
      "source": [
        "대부분의 유기 구조물에 대해 SMILES를 작성할 때 수소 원자를 지정할 필요는 없다. 수소의 존재는 다음 세 가지 바법으로 지정할 수 있다."
      ]
    },
    {
      "cell_type": "markdown",
      "metadata": {
        "id": "PGbrvrRoUI6T",
        "colab_type": "text"
      },
      "source": [
        "* 암시적으로 괄호 없이 명시된 원자들에 대해\n",
        "*  명시적으로 괄호 안, 수소 수, 지정되지 않은 경우 0\n",
        "* 명시적인 [H]원자\n",
        "\n"
      ]
    },
    {
      "cell_type": "markdown",
      "metadata": {
        "id": "dzCRfudqUI4Y",
        "colab_type": "text"
      },
      "source": [
        "'유기'와 '무기' SMILES 명명법은 구별되지 않는다. 어떤 SMILES의 어떤 원자에 대한 부착된 수소의 수를 지정할 수 있다.\n",
        "<BR>예를 들어 프로판은 [CH3]로 입력할 수 있다. 또한 CCC대신 [CH3][CH2][CH3]로 표현 가능하다."
      ]
    },
    {
      "cell_type": "markdown",
      "metadata": {
        "id": "f51TdAnMUI2f",
        "colab_type": "text"
      },
      "source": [
        "그리고 분명한 수소 명시가 요구되는 네가지 상황이 있다."
      ]
    },
    {
      "cell_type": "markdown",
      "metadata": {
        "id": "RSNF1XfSUIzU",
        "colab_type": "text"
      },
      "source": [
        "* 양성자 [H+]\n",
        "* 다른 수소와 연결된 수소(예: 분자 수소 -> [H][H]\n",
        "* 한 개의 다른 원자와 연결된 수소\n",
        "* 동위원소 수소 (예: 중수 -> [2H]0[2H] )"
      ]
    },
    {
      "cell_type": "markdown",
      "metadata": {
        "id": "LrIKY3xSUIxO",
        "colab_type": "text"
      },
      "source": [
        "## 3.4.2 Aromaticity(방향족성)"
      ]
    },
    {
      "cell_type": "markdown",
      "metadata": {
        "id": "PAk52vcjUIuz",
        "colab_type": "text"
      },
      "source": [
        "분자의 대칭성을 특징짓는 근본적인 요건때문에 불분명한 화학 명명법을 생성하는 SMILES와 같은 시스템에서는 방향성을 추론해야 한다."
      ]
    },
    {
      "cell_type": "markdown",
      "metadata": {
        "id": "7CXwYaILW90J",
        "colab_type": "text"
      },
      "source": [
        "효과적인 방향성 감지 알고리즘을 고려할 때, 사용자가 aliphatic(지방족) 구조 입력을 선호할 경우 방향성으로 입력할 필요가 없다."
      ]
    },
    {
      "cell_type": "markdown",
      "metadata": {
        "id": "f4vLUMxoW9yQ",
        "colab_type": "text"
      },
      "source": [
        "방향성으로 직접 구조물을 입력하는 것(소문자 원자 기호를 사용)은 정확한 화학적 사양을 얻을 수 있는 지름길을 제공하며 보편적으로 알려진 구조물에 가깝다."
      ]
    },
    {
      "cell_type": "markdown",
      "metadata": {
        "id": "WGJAo3q2W9wL",
        "colab_type": "text"
      },
      "source": [
        "SMILES 알고리즘은 후켈의 법칙의 확장 버전을 사용하여 방향성 분자와 이온을 식별합니다. 방향성을 갖추기 위해서, 고리의 모든 원자들은 SP2 혼성이 갖추어져야합니다.\n",
        "<br>예를 들어 벤젠은 c1ccccc1으로 표기됩니다. 하지만 C1=CC=CC=C1(사이클로헥사트리엔) -> 케큘러 양식의 입력은 방향성을 검출하여 내부 구조적인 표현을 방향성으로 변환하는 결과를 도출합니다.\n",
        "<br>반대로 c1ccc1과 c1ccccc1의 입력은  사이클로부타디엔과 사이클로옥타테트라엔, C1=CC=C1 and C1=CC=CC=CC=C1은 정확한 고리모양을 도출합니다. "
      ]
    },
    {
      "cell_type": "markdown",
      "metadata": {
        "id": "4qOQ8XepW9sz",
        "colab_type": "text"
      },
      "source": [
        "그러나 c1cc1과 같이 일부 입력은 부정확할 뿐 아니라 불가능 할 수도 있습니다.\n",
        "<br> 여기서 c1cc1은 탄소 원자 중 하나가 두 개의 수소가 부착된 sp3이기 때문에  C1=CC=C1 and C1=CC=CC=CC=C1로 변환할 수 없습니다. "
      ]
    },
    {
      "cell_type": "markdown",
      "metadata": {
        "id": "JmJeTyErY-nK",
        "colab_type": "text"
      },
      "source": [
        "|![SP](https://www.daylight.com/dayhtml/doc/theory/theory27.gif) |![SP](https://www.daylight.com/dayhtml/doc/theory/theory28.gif) |![SP](https://www.daylight.com/dayhtml/doc/theory/theory29.gif)|\n",
        "|------|---|---| \n",
        "|<CENTER>C1=COC=C1\t | <CENTER>C1=CN=C[NH]C(=O)1 | <CENTER>C1=C*=CC=C1 |\n",
        "|<CENTER> c1cocc1\t |<CENTER> c1cnc[nH]c(=O)1\t | <CENTER>c1c*ccc1\n"
      ]
    },
    {
      "cell_type": "markdown",
      "metadata": {
        "id": "jW8mKkywW9qc",
        "colab_type": "text"
      },
      "source": [
        "SMILES 방향성 감지 알고리즘의 목적은 화학적 정보 표시의 목적에만 있습니다. "
      ]
    },
    {
      "cell_type": "markdown",
      "metadata": {
        "id": "CnO-MnSWW9ol",
        "colab_type": "text"
      },
      "source": [
        "## 3.4.3 Aromatic Nitrogen Compounds(방향족 질소 화합물)"
      ]
    },
    {
      "cell_type": "markdown",
      "metadata": {
        "id": "xzFGUGq9aYnu",
        "colab_type": "text"
      },
      "source": [
        "질소 화합물의 세 가지 일반적인 유형의 방향성 질소 화합물은 모두 방향성 질소 기호 n으로 지정할 수 있으며 대표적인 예로는 피리딘, 피리딘-N-산화물, 피롤 등이 있다"
      ]
    },
    {
      "cell_type": "markdown",
      "metadata": {
        "id": "a1CBJNc4aZPX",
        "colab_type": "text"
      },
      "source": [
        "|![SP](https://www.daylight.com/dayhtml/doc/theory/theory23.gif) |![SP](https://www.daylight.com/dayhtml/doc/theory/theory24.gif) |![SP](https://www.daylight.com/dayhtml/doc/theory/theory25.gif)|\n",
        "|------|---|---| \n",
        "|<CENTER>n1ccccc1\t\t | <CENTER>O=n1ccccc1     [O-][n+]1ccccc1\t | <CENTER>Cn1cccc1    [nH]1cccc1\n",
        " |\n",
        "|<CENTER>**Pyridine**\t |<CENTER> **Pyridine-N-oxide**\t\t | <CENTER>**Methyl and 1H-pyrrole**\n"
      ]
    }
  ]
}