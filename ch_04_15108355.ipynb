{
  "nbformat": 4,
  "nbformat_minor": 0,
  "metadata": {
    "colab": {
      "name": "ch.04 15108355",
      "provenance": [],
      "collapsed_sections": [],
      "include_colab_link": true
    },
    "kernelspec": {
      "name": "python3",
      "display_name": "Python 3"
    }
  },
  "cells": [
    {
      "cell_type": "markdown",
      "metadata": {
        "id": "view-in-github",
        "colab_type": "text"
      },
      "source": [
        "<a href=\"https://colab.research.google.com/github/shinhs0920/Engineering-computing-application/blob/master/ch_04_15108355.ipynb\" target=\"_parent\"><img src=\"https://colab.research.google.com/assets/colab-badge.svg\" alt=\"Open In Colab\"/></a>"
      ]
    },
    {
      "cell_type": "markdown",
      "metadata": {
        "id": "vEedm3_mbc0G",
        "colab_type": "text"
      },
      "source": [
        "### 04장 연습문제"
      ]
    },
    {
      "cell_type": "markdown",
      "metadata": {
        "id": "0QGeItLyYHdb",
        "colab_type": "text"
      },
      "source": [
        "# Q1.\n",
        "주어진 자연수가 홀수인지 짝수인지 판별해 주는 함수(is_odd)를 작성해 보자."
      ]
    },
    {
      "cell_type": "code",
      "metadata": {
        "id": "DZ3ZPsvIX9nI",
        "colab_type": "code",
        "colab": {
          "base_uri": "https://localhost:8080/",
          "height": 34
        },
        "outputId": "df49ba5d-e956-4a16-d237-c7d3a7107cdc"
      },
      "source": [
        ">>> def is_odd(number):\n",
        "  if number % 2 == 1:   # 2로 나누었을 때 나머지가 1이면 홀수이다.\n",
        "         return True\n",
        "  else:\n",
        "         return False\n",
        "is_odd(3)\n",
        "True\n",
        ">>> is_odd(4)\n",
        "False"
      ],
      "execution_count": 2,
      "outputs": [
        {
          "output_type": "execute_result",
          "data": {
            "text/plain": [
              "False"
            ]
          },
          "metadata": {
            "tags": []
          },
          "execution_count": 2
        }
      ]
    },
    {
      "cell_type": "markdown",
      "metadata": {
        "id": "VEkFI9XNYZGF",
        "colab_type": "text"
      },
      "source": [
        "람다와 조건부 표현식을 사용하면 다음과 같이 간단하게도 만들 수 있다."
      ]
    },
    {
      "cell_type": "code",
      "metadata": {
        "id": "1NgqP_wzYGqR",
        "colab_type": "code",
        "colab": {
          "base_uri": "https://localhost:8080/",
          "height": 34
        },
        "outputId": "04bb327a-8ed3-4011-dec0-035af44a3ef8"
      },
      "source": [
        "is_odd = lambda x: True if x % 2 == 1 else False\n",
        "is_odd(3)"
      ],
      "execution_count": 4,
      "outputs": [
        {
          "output_type": "execute_result",
          "data": {
            "text/plain": [
              "True"
            ]
          },
          "metadata": {
            "tags": []
          },
          "execution_count": 4
        }
      ]
    },
    {
      "cell_type": "markdown",
      "metadata": {
        "id": "D80FF3cwYhdO",
        "colab_type": "text"
      },
      "source": [
        "# Q2.\n",
        "입력으로 들어오는 모든 수의 평균 값을 계산해 주는 함수를 작성해 보자. (단 입력으로 들어오는 수의 개수는 정해져 있지 않다.)"
      ]
    },
    {
      "cell_type": "code",
      "metadata": {
        "id": "zamiMrbXYdkF",
        "colab_type": "code",
        "colab": {
          "base_uri": "https://localhost:8080/",
          "height": 34
        },
        "outputId": "77857560-ecd9-49c1-f9a1-4fda96366040"
      },
      "source": [
        "def avg_numbers(*args):   # 입력 개수에 상관없이 사용하기 위해 *args를 사용\n",
        "    result = 0\n",
        "    for i in args:\n",
        "      result += i\n",
        "      return result / len(args)\n",
        "\n",
        "avg_numbers(1, 2)\n",
        "avg_numbers(1,2,3,4,5)"
      ],
      "execution_count": 7,
      "outputs": [
        {
          "output_type": "execute_result",
          "data": {
            "text/plain": [
              "0.2"
            ]
          },
          "metadata": {
            "tags": []
          },
          "execution_count": 7
        }
      ]
    },
    {
      "cell_type": "markdown",
      "metadata": {
        "id": "UhucfujTY501",
        "colab_type": "text"
      },
      "source": [
        "# Q3.\n",
        "다음은 두 개의 숫자를 입력받아 더하여 돌려주는 프로그램이다.\n",
        "\n"
      ]
    },
    {
      "cell_type": "markdown",
      "metadata": {
        "id": "UdGqDyuNZ1EZ",
        "colab_type": "text"
      },
      "source": [
        "input1 = input(\"첫 번째 숫자를 입력하세요:\")\n",
        "<br>input2 = input(\"두 번째 숫자를 입력하세요:\")\n",
        "\n",
        "total = (input1) + (input2)\n",
        "<br>print(\"두수의 합은 %s 입니다\" % total)"
      ]
    },
    {
      "cell_type": "code",
      "metadata": {
        "id": "bcZ-zwPMYxzt",
        "colab_type": "code",
        "colab": {
          "base_uri": "https://localhost:8080/",
          "height": 70
        },
        "outputId": "4c91f4a9-1bd5-4ca9-af1e-1545d9e2cd79"
      },
      "source": [
        "input1 = input(\"첫 번째 숫자를 입력하세요:\")\n",
        "input2 = input(\"두 번째 숫자를 입력하세요:\")\n",
        "\n",
        "total = int(input1) + int(input2)\n",
        "print(\"두수의 합은 %s 입니다\" % total)"
      ],
      "execution_count": 8,
      "outputs": [
        {
          "output_type": "stream",
          "text": [
            "첫 번째 숫자를 입력하세요:3\n",
            "두 번째 숫자를 입력하세요:6\n",
            "두수의 합은 9 입니다\n"
          ],
          "name": "stdout"
        }
      ]
    },
    {
      "cell_type": "markdown",
      "metadata": {
        "id": "TWHeyeY3Zc_3",
        "colab_type": "text"
      },
      "source": [
        "# Q4.\n",
        "다음 중 출력 결과가 다른 것 한 개를 골라 보자."
      ]
    },
    {
      "cell_type": "markdown",
      "metadata": {
        "id": "gvkOSrdoZ8QN",
        "colab_type": "text"
      },
      "source": [
        "print(\"you\" \"need\" \"python\")\n",
        "<br>print(\"you\"+\"need\"+\"python\")\n",
        "<br>print(\"you\", \"need\", \"python\")\n",
        "<br>print(\"\".join([\"you\", \"need\", \"python\"]))"
      ]
    },
    {
      "cell_type": "code",
      "metadata": {
        "id": "4emvsoFoZbVm",
        "colab_type": "code",
        "colab": {
          "base_uri": "https://localhost:8080/",
          "height": 34
        },
        "outputId": "7bb69f21-0cdc-43f3-ce69-bdc5aec0be75"
      },
      "source": [
        "print(\"you\" \"need\" \"python\")"
      ],
      "execution_count": 10,
      "outputs": [
        {
          "output_type": "stream",
          "text": [
            "youneedpython\n"
          ],
          "name": "stdout"
        }
      ]
    },
    {
      "cell_type": "code",
      "metadata": {
        "id": "QvFUVrHdaBs9",
        "colab_type": "code",
        "colab": {
          "base_uri": "https://localhost:8080/",
          "height": 34
        },
        "outputId": "253117b8-e07c-49b5-f63b-58dd59b2f1ac"
      },
      "source": [
        "print(\"you\"+\"need\"+\"python\")"
      ],
      "execution_count": 11,
      "outputs": [
        {
          "output_type": "stream",
          "text": [
            "youneedpython\n"
          ],
          "name": "stdout"
        }
      ]
    },
    {
      "cell_type": "code",
      "metadata": {
        "id": "M6vf0fH_aDFZ",
        "colab_type": "code",
        "colab": {
          "base_uri": "https://localhost:8080/",
          "height": 34
        },
        "outputId": "a06ef31a-944b-4835-a58c-52befaf9437d"
      },
      "source": [
        "print(\"you\", \"need\", \"python\")"
      ],
      "execution_count": 12,
      "outputs": [
        {
          "output_type": "stream",
          "text": [
            "you need python\n"
          ],
          "name": "stdout"
        }
      ]
    },
    {
      "cell_type": "markdown",
      "metadata": {
        "id": "30-UZpc_aGK2",
        "colab_type": "text"
      },
      "source": [
        "콤마가 있는 경우 공백이 삽입되어 더해진다"
      ]
    },
    {
      "cell_type": "code",
      "metadata": {
        "id": "64K49IveaETN",
        "colab_type": "code",
        "colab": {
          "base_uri": "https://localhost:8080/",
          "height": 34
        },
        "outputId": "e17bcf2a-46fa-4138-e6d2-bba4d13ded20"
      },
      "source": [
        "print(\"\".join([\"you\", \"need\", \"python\"]))"
      ],
      "execution_count": 14,
      "outputs": [
        {
          "output_type": "stream",
          "text": [
            "youneedpython\n"
          ],
          "name": "stdout"
        }
      ]
    },
    {
      "cell_type": "markdown",
      "metadata": {
        "id": "00l0TDQWaUMK",
        "colab_type": "text"
      },
      "source": [
        "# Q5.\n",
        "다음은 \"test.txt\"라는 파일에 \"Life is too short\" 문자열을 저장한 후 다시 그 파일을 읽어서 출력하는 프로그램이다.\n",
        "\n",
        "<br>f1 = open(\"test.txt\", 'w')\n",
        "<br>f1.write(\"Life is too short!\")\n",
        "\n",
        "<br>f2 = open(\"test.txt\", 'r')\n",
        "<br>print(f2.read())\n",
        "\n",
        "<br>이 프로그램은 우리가 예상한 \"Life is too short\"라는 문장을 출력하지 않는다. 우리가 예상한 값을 출력할 수 있도록 프로그램을 수정해 보자.\n",
        "\n"
      ]
    },
    {
      "cell_type": "markdown",
      "metadata": {
        "id": "U6i-YKiyaoUf",
        "colab_type": "text"
      },
      "source": [
        "문제의 예와 같이 파일을 닫지 않은 상태에서 다시 열면 파일에 저장한 데이터를 읽을 수 없다. 따라서 열린 파일 객체를 close로 닫아준 후 다시 열어서 파일의 내용을 읽어야 한다."
      ]
    },
    {
      "cell_type": "code",
      "metadata": {
        "id": "vzH3ubrQafB9",
        "colab_type": "code",
        "colab": {}
      },
      "source": [
        "f1 = open(\"test.txt\", 'w')\n",
        "f1.write(\"Life is too short!\")\n",
        "f1.close() # 열린 파일 객체를 닫는다.\n",
        "\n",
        "f2 = open(\"test.txt\", 'r')\n",
        "print(f2.read())\n",
        "f2.close()"
      ],
      "execution_count": 0,
      "outputs": []
    },
    {
      "cell_type": "markdown",
      "metadata": {
        "id": "SkpSMG3yaqYQ",
        "colab_type": "text"
      },
      "source": [
        "또는 다음과 같이 close를 명시적으로 할 필요가 없는 with구문을 사용한다.\n",
        "\n"
      ]
    },
    {
      "cell_type": "code",
      "metadata": {
        "id": "CIPMkfekar-7",
        "colab_type": "code",
        "colab": {
          "base_uri": "https://localhost:8080/",
          "height": 34
        },
        "outputId": "1593deaa-798c-4b72-c8a9-ac7d22b9f709"
      },
      "source": [
        "with open(\"test.txt\", 'w') as f1:\n",
        "    f1.write(\"Life is too short! \")\n",
        "with open(\"test.txt\", 'r') as f2:\n",
        "    print(f2.read())"
      ],
      "execution_count": 15,
      "outputs": [
        {
          "output_type": "stream",
          "text": [
            "Life is too short! \n"
          ],
          "name": "stdout"
        }
      ]
    },
    {
      "cell_type": "markdown",
      "metadata": {
        "id": "8EDumErwauwV",
        "colab_type": "text"
      },
      "source": [
        "#Q6.\n",
        "사용자의 입력을 파일(test.txt)에 저장하는 프로그램을 작성해 보자. (단 프로그램을 다시 실행하더라도 기존에 작성한 내용을 유지하고 새로 입력한 내용을 추가해야 한다.)\n",
        "\n"
      ]
    },
    {
      "cell_type": "markdown",
      "metadata": {
        "id": "mX-OzDFEa0Mq",
        "colab_type": "text"
      },
      "source": [
        "기존 내용을 유지하고 새로운 내용을 덧붙이기 위해서 다음과 같이 'a' 모드를 사용해야 한다.\n",
        "\n"
      ]
    },
    {
      "cell_type": "code",
      "metadata": {
        "id": "kyFa4bXSas7H",
        "colab_type": "code",
        "colab": {
          "base_uri": "https://localhost:8080/",
          "height": 34
        },
        "outputId": "8f54932c-cd1e-46c4-b98f-353ef75a227a"
      },
      "source": [
        "user_input = input(\"저장할 내용을 입력하세요:\")\n",
        "f = open('test.txt', 'a')   # 내용을 추가하기 위해서 'a'를 사용\n",
        "f.write(user_input)\n",
        "f.write(\"\\n\")               # 입력된 내용을 줄 단위로 구분하기 위해 줄 바꿈 문자 삽입\n",
        "f.close()"
      ],
      "execution_count": 16,
      "outputs": [
        {
          "output_type": "stream",
          "text": [
            "저장할 내용을 입력하세요:안녕하세요\n"
          ],
          "name": "stdout"
        }
      ]
    },
    {
      "cell_type": "markdown",
      "metadata": {
        "id": "cvgYzysZa56m",
        "colab_type": "text"
      },
      "source": [
        "#Q7.\n",
        "다음과 같은 내용을 지닌 파일 test.txt가 있다. 이 파일의 내용 중 \"java\"라는 문자열을 \"python\"으로 바꾸어서 저장해 보자\n",
        "\n",
        "<br>Life is too short\n",
        "<br>you need java"
      ]
    },
    {
      "cell_type": "markdown",
      "metadata": {
        "id": "q5clsFwfbDR-",
        "colab_type": "text"
      },
      "source": [
        "파일을 모두 읽은 후에 문자열의 replace 함수를 사용하여 java라는 문자열을 python으로 변경한 다음 저장한다.\n",
        "\n"
      ]
    },
    {
      "cell_type": "code",
      "metadata": {
        "id": "RVo_VFAQa2qL",
        "colab_type": "code",
        "colab": {}
      },
      "source": [
        "f = open('test.txt', 'r')\n",
        "body = f.read()\n",
        "f.close()\n",
        "\n",
        "body = body.replace('java', 'python')\n",
        "\n",
        "f = open('test.txt', 'w')\n",
        "f.write(body)\n",
        "f.close()"
      ],
      "execution_count": 0,
      "outputs": []
    }
  ]
}