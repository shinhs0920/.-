{
  "nbformat": 4,
  "nbformat_minor": 0,
  "metadata": {
    "kernelspec": {
      "display_name": "Python 3",
      "language": "python",
      "name": "python3"
    },
    "language_info": {
      "codemirror_mode": {
        "name": "ipython",
        "version": 3
      },
      "file_extension": ".py",
      "mimetype": "text/x-python",
      "name": "python",
      "nbconvert_exporter": "python",
      "pygments_lexer": "ipython3",
      "version": "3.7.3"
    },
    "colab": {
      "name": "SMILES_1",
      "provenance": [],
      "collapsed_sections": [],
      "include_colab_link": true
    }
  },
  "cells": [
    {
      "cell_type": "markdown",
      "metadata": {
        "id": "view-in-github",
        "colab_type": "text"
      },
      "source": [
        "<a href=\"https://colab.research.google.com/github/shinhs0920/Engineering-computing-application/blob/master/SMILES_1.ipynb\" target=\"_parent\"><img src=\"https://colab.research.google.com/assets/colab-badge.svg\" alt=\"Open In Colab\"/></a>"
      ]
    },
    {
      "cell_type": "markdown",
      "metadata": {
        "id": "BqmIEq6x31SW",
        "colab_type": "text"
      },
      "source": [
        "# SMILES (Simplified Molecular Input Line Entry System)\n",
        "\n",
        "\n",
        "SMILES는 ASCII 문자들로 표현한 원자와 결합들을 통해 분자 및 분자간 반응들을 표현한 간단하면서 포괄적인 화학 언어이다. 사람이 이해하기 쉬우며 매우 간결하고 표준화된 경우 특정 구조 및 물질을 나타내는데 있어서 범용적으로 쓰입니다. 즉, 스마일 문자열은 분자 및 분자간 반응들을 매우 올바르고 이해하기 쉽게 표현 가능합니다."
      ]
    },
    {
      "cell_type": "code",
      "metadata": {
        "id": "L4SYoRd74GJJ",
        "colab_type": "code",
        "outputId": "5920635b-ba67-4cbd-cc4d-b8fb36c2c55a",
        "colab": {
          "base_uri": "https://localhost:8080/",
          "height": 179
        }
      },
      "source": [
        "import sys\n",
        "import os\n",
        "import requests\n",
        "import subprocess\n",
        "import shutil\n",
        "from logging import getLogger, StreamHandler, INFO\n",
        "\n",
        "\n",
        "logger = getLogger(__name__)\n",
        "logger.addHandler(StreamHandler())\n",
        "logger.setLevel(INFO)\n",
        "\n",
        "\n",
        "def install(\n",
        "        chunk_size=4096,\n",
        "        file_name=\"Miniconda3-latest-Linux-x86_64.sh\",\n",
        "        url_base=\"https://repo.continuum.io/miniconda/\",\n",
        "        conda_path=os.path.expanduser(os.path.join(\"~\", \"miniconda\")),\n",
        "        rdkit_version=None,\n",
        "        add_python_path=True,\n",
        "        force=False):\n",
        "    \"\"\"install rdkit from miniconda\n",
        "    ```\n",
        "    import rdkit_installer\n",
        "    rdkit_installer.install()\n",
        "    ```\n",
        "    \"\"\"\n",
        "\n",
        "    python_path = os.path.join(\n",
        "        conda_path,\n",
        "        \"lib\",\n",
        "        \"python{0}.{1}\".format(*sys.version_info),\n",
        "        \"site-packages\",\n",
        "    )\n",
        "\n",
        "    if add_python_path and python_path not in sys.path:\n",
        "        logger.info(\"add {} to PYTHONPATH\".format(python_path))\n",
        "        sys.path.append(python_path)\n",
        "\n",
        "    if os.path.isdir(os.path.join(python_path, \"rdkit\")):\n",
        "        logger.info(\"rdkit is already installed\")\n",
        "        if not force:\n",
        "            return\n",
        "\n",
        "        logger.info(\"force re-install\")\n",
        "\n",
        "    url = url_base + file_name\n",
        "    python_version = \"{0}.{1}.{2}\".format(*sys.version_info)\n",
        "\n",
        "    logger.info(\"python version: {}\".format(python_version))\n",
        "\n",
        "    if os.path.isdir(conda_path):\n",
        "        logger.warning(\"remove current miniconda\")\n",
        "        shutil.rmtree(conda_path)\n",
        "    elif os.path.isfile(conda_path):\n",
        "        logger.warning(\"remove {}\".format(conda_path))\n",
        "        os.remove(conda_path)\n",
        "\n",
        "    logger.info('fetching installer from {}'.format(url))\n",
        "    res = requests.get(url, stream=True)\n",
        "    res.raise_for_status()\n",
        "    with open(file_name, 'wb') as f:\n",
        "        for chunk in res.iter_content(chunk_size):\n",
        "            f.write(chunk)\n",
        "    logger.info('done')\n",
        "\n",
        "    logger.info('installing miniconda to {}'.format(conda_path))\n",
        "    subprocess.check_call([\"bash\", file_name, \"-b\", \"-p\", conda_path])\n",
        "    logger.info('done')\n",
        "\n",
        "    logger.info(\"installing rdkit\")\n",
        "    subprocess.check_call([\n",
        "        os.path.join(conda_path, \"bin\", \"conda\"),\n",
        "        \"install\",\n",
        "        \"--yes\",\n",
        "        \"-c\", \"rdkit\",\n",
        "        \"python=={}\".format(python_version),\n",
        "        \"rdkit\" if rdkit_version is None else \"rdkit=={}\".format(rdkit_version)])\n",
        "    logger.info(\"done\")\n",
        "\n",
        "    import rdkit\n",
        "    logger.info(\"rdkit-{} installation finished!\".format(rdkit.__version__))\n",
        "\n",
        "\n",
        "if __name__ == \"__main__\":\n",
        "    install()"
      ],
      "execution_count": 0,
      "outputs": [
        {
          "output_type": "stream",
          "text": [
            "add /root/miniconda/lib/python3.6/site-packages to PYTHONPATH\n",
            "python version: 3.6.8\n",
            "fetching installer from https://repo.continuum.io/miniconda/Miniconda3-latest-Linux-x86_64.sh\n",
            "done\n",
            "installing miniconda to /root/miniconda\n",
            "done\n",
            "installing rdkit\n",
            "done\n",
            "rdkit-2019.09.2 installation finished!\n"
          ],
          "name": "stderr"
        }
      ]
    },
    {
      "cell_type": "code",
      "metadata": {
        "id": "K99uCMn031Sa",
        "colab_type": "code",
        "colab": {}
      },
      "source": [
        "#RDkit 적용\n",
        "from __future__ import print_function #2.X대 python호환을 위해\n",
        "from rdkit import Chem\n",
        "from rdkit.Chem import AllChem"
      ],
      "execution_count": 0,
      "outputs": []
    },
    {
      "cell_type": "code",
      "metadata": {
        "id": "t1VNO9Pg31Sg",
        "colab_type": "code",
        "colab": {}
      },
      "source": [
        "from rdkit.Chem.Draw import IPythonConsole\n",
        "from rdkit.Chem import Draw"
      ],
      "execution_count": 0,
      "outputs": []
    },
    {
      "cell_type": "markdown",
      "metadata": {
        "id": "RIPOyHeh31Sm",
        "colab_type": "text"
      },
      "source": [
        "##  1. Canonicalization (정규화)\n",
        "* generic SMILES : 동위원소 및 카이랄 정보가 없이 분자 그림만으로 설명\n",
        "* 주어진 구조에 대해 유효한 다양한 SMILES들이 존재한다.\n",
        "* unique SMILES : 수 많은 generic SMILES 중 Canonicalization을 통해 단 하나 스마일 형태로 변형된 것\n",
        "* isomeric SMILES: 동위원소, 카이랄을 표현하기 위한 스마일\n",
        "* absolute SMILES: 모든 구조까지 파악한 스마일, unique + isomeric SMILES"
      ]
    },
    {
      "cell_type": "markdown",
      "metadata": {
        "id": "jLPiC3v3PUuX",
        "colab_type": "text"
      },
      "source": [
        "Input SMILES | Unique SMILES\n",
        "---| ---|\n",
        "OCC\t|CCO\n",
        "[CH3][CH2][OH]|\tCCO\n",
        "C-C-O|\tCCO\n",
        "C(O)C\t|CCO\n",
        "OC(=O)C(Br)(Cl)N|\tNC(Cl)(Br)C(=O)O\n",
        "ClC(Br)(N)C(=O)O|\tNC(Cl)(Br)C(=O)O\n",
        "O=C(O)C(N)(Br)Cl|\tNC(Cl)(Br)C(=O)O\n"
      ]
    },
    {
      "cell_type": "code",
      "metadata": {
        "id": "P0X5qhrq31Sn",
        "colab_type": "code",
        "outputId": "b6a2cdde-ea30-4924-c9f6-98fcd32dadda",
        "colab": {
          "base_uri": "https://localhost:8080/",
          "height": 35
        }
      },
      "source": [
        "# Chem.MolFromSmiles('원소') Smiles언어를 이용해 파이썬에 저장한다. Chem.MolToSmiles을 통해 불러온다\n",
        "m = Chem.MolFromSmiles('OCC')\n",
        "Chem.MolToSmiles(Chem.MolFromSmiles('OCC'))\n",
        "# OCC로 입력했지만 결과값은 자동으로 CCO로 나타난다"
      ],
      "execution_count": 0,
      "outputs": [
        {
          "output_type": "execute_result",
          "data": {
            "text/plain": [
              "'CCO'"
            ]
          },
          "metadata": {
            "tags": []
          },
          "execution_count": 4
        }
      ]
    },
    {
      "cell_type": "code",
      "metadata": {
        "id": "GD9nVMrE31S4",
        "colab_type": "code",
        "outputId": "40394059-88ec-4583-a053-eedb34c839a1",
        "colab": {
          "base_uri": "https://localhost:8080/",
          "height": 167
        }
      },
      "source": [
        "m"
      ],
      "execution_count": 0,
      "outputs": [
        {
          "output_type": "execute_result",
          "data": {
            "image/png": "[encoded data removed]",
            "text/plain": [
              "<rdkit.Chem.rdchem.Mol at 0x7fb016f2e4e0>"
            ]
          },
          "metadata": {
            "tags": []
          },
          "execution_count": 16
        }
      ]
    },
    {
      "cell_type": "code",
      "metadata": {
        "id": "vb2h7wEi31S-",
        "colab_type": "code",
        "outputId": "9f7cf697-961d-444b-e074-3647243b76a9",
        "colab": {
          "base_uri": "https://localhost:8080/",
          "height": 55
        }
      },
      "source": [
        "Chem.MolToMolBlock(m)"
      ],
      "execution_count": 0,
      "outputs": [
        {
          "output_type": "execute_result",
          "data": {
            "text/plain": [
              "'\\n     RDKit          2D\\n\\n  3  2  0  0  0  0  0  0  0  0999 V2000\\n    2.5981   -0.0000    0.0000 O   0  0  0  0  0  0  0  0  0  0  0  0\\n    1.2990    0.7500    0.0000 C   0  0  0  0  0  0  0  0  0  0  0  0\\n    0.0000    0.0000    0.0000 C   0  0  0  0  0  0  0  0  0  0  0  0\\n  1  2  1  0\\n  2  3  1  0\\nM  END\\n'"
            ]
          },
          "metadata": {
            "tags": []
          },
          "execution_count": 8
        }
      ]
    },
    {
      "cell_type": "markdown",
      "metadata": {
        "id": "qhuH62b931TF",
        "colab_type": "text"
      },
      "source": [
        "## 2. SMILES Specification Rules\n",
        "* 스마일 표기법은 공백없이 표현합니다.\n",
        "* 수소원자는 생략이 가능합니다\n",
        "* 방향족 구조들은 직관적으로 명시하거나 `Kekulé form`으로 분류할 수 있다.\n",
        "\n",
        "케쿨레 구조: 이중결합과 단일결합으로 방향족 구조물을 표현<br>\n",
        "EX) 벤젠<br>\n",
        "<img src=\"https://github.com/legi1993/seq2seq-smile/blob/master/%EB%B2%A4%EC%A0%A0%20%EA%B5%AC%EC%A1%B0.png?raw=true\" width=\"40%\">\n",
        "\n",
        "\n"
      ]
    },
    {
      "cell_type": "markdown",
      "metadata": {
        "id": "TxQHJBHbaNRU",
        "colab_type": "text"
      },
      "source": [
        "### 2.1 Atom\n",
        "* 수소를 포함하지 않는 개별원자는 [ ]를 사용한다. <br>\n",
        "EX) [Li] :\tLithium\n",
        "* 두 문자의 두 번쨰 원소기호는 소문자로 입력한다.\n",
        "* 미지의 원자는 * 로 [ ] 없이 입력한다<br>\n",
        "EX) *F : Fluorine과 미지의 원자가 결합한 형태\n",
        "* 유기물집합(organic subset, B, C, N, O, P, S, F, Cl Br, I)는 [ ] 없이 쓰이면 최소 원자가 전자 수 만큼 수소가 결합했다고 여긴다. B (3), C (4), N (3,5), O (2), P (3,5), S (2,4,6), 할로겐족(1).\n",
        "* 지방족 탄소는 대문자 'C' 로, 방향족 탄소는 'c'로 명시한다.\n",
        "\n",
        "입력|이름|출력값|\n",
        ":---:|:---|:---:|\n",
        "C|\tmethane|\t(CH4)\n",
        "P|\tphosphine\t|(PH3)\n",
        "N\t|ammonia\t|(NH3)\n",
        "S\t|hydrogen sulfide\t|(H2S)\n",
        "O|\twater\t|(H2O)\n",
        "Cl|\thydrochloric acid\t|(HCl)\n",
        "\n",
        "* 유기물집합 혹은  최소 원자가 전자 이외에 값을 가질 경우 [ ] 사용한다.\n",
        "\n",
        "입력값| 이름|\n",
        "---|:---|\n",
        "[S]|\telemental sulfur\n",
        "[Au]|\telemental gold\n",
        "\n",
        "* [ ]속의 수소와 형식전하는 반드시 명시되어야 한다. 결합된 수소의 수는 H와 숫자로 표현된다.\n",
        "* 형식전하는 `+` 혹은 `-` 로 표시되어야 한다. 명시되어 있지 않으면 전하는 0으로 가정한다.\n",
        "\n",
        "\n",
        " 입력값 | 이름|\n",
        " :----:|:---|\n",
        "[H+]|\tproton\n",
        "[Fe+2]\t|iron (II) cation\n",
        "[OH-]|\thydroxyl anion\n",
        "[Fe++]|\tiron (II) cation\n",
        "[OH3+]|\thydronium cation\n",
        "[NH4+]|\tammonium cation\n",
        "\n"
      ]
    },
    {
      "cell_type": "code",
      "metadata": {
        "id": "D1AvVa2831TR",
        "colab_type": "code",
        "colab": {}
      },
      "source": [
        "iron2 = Chem.MolFromSmiles('[Fe++]')\n",
        "iron22 = Chem.MolFromSmiles('[Fe+2]')\n",
        "methan = Chem.MolFromSmiles('C')\n",
        "water = Chem.MolFromSmiles('O')\n",
        "ox = Chem.MolFromSmiles('O=O')\n",
        "carbon = Chem.MolFromSmiles('[C]')"
      ],
      "execution_count": 0,
      "outputs": []
    },
    {
      "cell_type": "code",
      "metadata": {
        "id": "NRtjK6DY31TX",
        "colab_type": "code",
        "outputId": "816d5595-b1e3-4414-ac24-a5a0d8ba9d60",
        "colab": {
          "base_uri": "https://localhost:8080/",
          "height": 167
        }
      },
      "source": [
        "iron2"
      ],
      "execution_count": 0,
      "outputs": [
        {
          "output_type": "execute_result",
          "data": {
            "image/png": "[encoded data removed]",
            "text/plain": [
              "<rdkit.Chem.rdchem.Mol at 0x7fb016e7fa80>"
            ]
          },
          "metadata": {
            "tags": []
          },
          "execution_count": 77
        }
      ]
    },
    {
      "cell_type": "code",
      "metadata": {
        "id": "VooYc6vUO9iP",
        "colab_type": "code",
        "outputId": "782679bb-ba5d-44d2-8728-538cbf039572",
        "colab": {
          "base_uri": "https://localhost:8080/",
          "height": 167
        }
      },
      "source": [
        "water"
      ],
      "execution_count": 0,
      "outputs": [
        {
          "output_type": "execute_result",
          "data": {
            "image/png": "[encoded data removed]",
            "text/plain": [
              "<rdkit.Chem.rdchem.Mol at 0x7f8ee311c6c0>"
            ]
          },
          "metadata": {
            "tags": []
          },
          "execution_count": 8
        }
      ]
    },
    {
      "cell_type": "code",
      "metadata": {
        "id": "JPple-AGPAL0",
        "colab_type": "code",
        "outputId": "2582558e-3e46-4e14-c3fe-3316546530a8",
        "colab": {
          "base_uri": "https://localhost:8080/",
          "height": 167
        }
      },
      "source": [
        "ox"
      ],
      "execution_count": 0,
      "outputs": [
        {
          "output_type": "execute_result",
          "data": {
            "image/png": "[encoded data removed]",
            "text/plain": [
              "<rdkit.Chem.rdchem.Mol at 0x7f8ee311ca30>"
            ]
          },
          "metadata": {
            "tags": []
          },
          "execution_count": 9
        }
      ]
    },
    {
      "cell_type": "markdown",
      "metadata": {
        "id": "0Pw6fR8131Tp",
        "colab_type": "text"
      },
      "source": [
        "### 2.2 Bonds\n",
        "* `-` : 단일결합\n",
        "* `=` : 이중결합\n",
        "* `#` : 삼중결합\n",
        "* `:` : 방향족 결합\n",
        "* 인접 원자의 경우 단일결합, 방향족 결합은 생략 가능합니다\n",
        "\n",
        "입력 | 이름 | 스마일\n",
        ":---:|:---|:---|\n",
        "CC\t|ethane\t|(CH3CH3)\n",
        "C=O\t|formaldehyde\t|(CH2O)\n",
        "C=C\t|ethene\t|(CH2=CH2)\n",
        "O=C=O\t|carbon dioxide|\t(CO2)\n",
        "COC\t|dimethyl ether|\t(CH3OCH3)\n",
        "C#N\t|hydrogen cyanide|\t(HCN)\n",
        "CCO|\tethanol\t|(CH3CH2OH)\n",
        "[H][H]|\tmolecular hydrogen\t|(H2)\n",
        "\n",
        "\n",
        "\n",
        "* 선형 구조의 경우 단일 결합 및 수소를 생략한다.\n",
        "\n",
        "구조\t|유효한 SMILES|\n",
        ":---:|:---:|\n",
        " \t                          | C = CCC = CCO\n",
        "CH2 = CH-CH2-CH = CH-CH2-OH |\tC = CCC = CCO\n",
        " \t                          | OCC = CCC = C\n"
      ]
    },
    {
      "cell_type": "code",
      "metadata": {
        "id": "KPe5kAlD31Tr",
        "colab_type": "code",
        "colab": {}
      },
      "source": [
        "ethane = Chem.MolFromSmiles('CC')"
      ],
      "execution_count": 0,
      "outputs": []
    },
    {
      "cell_type": "code",
      "metadata": {
        "id": "n30JA5BH31Tv",
        "colab_type": "code",
        "outputId": "60f4e9d9-ce65-4cea-b0ed-db616b6c6c61",
        "colab": {}
      },
      "source": [
        "ethane"
      ],
      "execution_count": 0,
      "outputs": [
        {
          "output_type": "execute_result",
          "data": {
            "image/png": "[encoded data removed]",
            "text/plain": [
              "<rdkit.Chem.rdchem.Mol at 0x20c35ea3ad0>"
            ]
          },
          "metadata": {
            "tags": []
          },
          "execution_count": 15
        }
      ]
    },
    {
      "cell_type": "code",
      "metadata": {
        "id": "fRCvr9jM31T0",
        "colab_type": "code",
        "outputId": "c7b37f91-65f5-4794-f5b7-2f6a68c6ee0b",
        "colab": {}
      },
      "source": [
        "CO2 = Chem.MolFromSmiles('O=C=O')\n",
        "CO2"
      ],
      "execution_count": 0,
      "outputs": [
        {
          "output_type": "execute_result",
          "data": {
            "image/png": "[encoded data removed]",
            "text/plain": [
              "<rdkit.Chem.rdchem.Mol at 0x1ed56002f30>"
            ]
          },
          "metadata": {
            "tags": []
          },
          "execution_count": 3
        }
      ]
    },
    {
      "cell_type": "code",
      "metadata": {
        "id": "imu9CmpHka0I",
        "colab_type": "code",
        "outputId": "b7a9060d-16ad-4b89-ab26-d741a12c1006",
        "colab": {
          "base_uri": "https://localhost:8080/",
          "height": 167
        }
      },
      "source": [
        "hcn = Chem.MolFromSmiles('C#N') ; hcn\n"
      ],
      "execution_count": 0,
      "outputs": [
        {
          "output_type": "execute_result",
          "data": {
            "image/png": "[encoded data removed]",
            "text/plain": [
              "<rdkit.Chem.rdchem.Mol at 0x7fb016e69990>"
            ]
          },
          "metadata": {
            "tags": []
          },
          "execution_count": 103
        }
      ]
    },
    {
      "cell_type": "code",
      "metadata": {
        "id": "t5EuxTwa31T4",
        "colab_type": "code",
        "outputId": "a9e869cb-d396-4d9e-cc1f-edf76e1ca3ef",
        "colab": {
          "base_uri": "https://localhost:8080/",
          "height": 167
        }
      },
      "source": [
        "H2 = Chem.MolFromSmiles('[H][H]')\n",
        "H2  # 수소분자의 경우엔 예외적으로 위와같이 표기한다."
      ],
      "execution_count": 0,
      "outputs": [
        {
          "output_type": "execute_result",
          "data": {
            "image/png": "[encoded data removed]",
            "text/plain": [
              "<rdkit.Chem.rdchem.Mol at 0x7fb016e7f6c0>"
            ]
          },
          "metadata": {
            "tags": []
          },
          "execution_count": 85
        }
      ]
    },
    {
      "cell_type": "code",
      "metadata": {
        "id": "JYxuUrXr31T9",
        "colab_type": "code",
        "outputId": "a4ad91ba-e65f-4e3c-94fc-4be92a2343c8",
        "colab": {}
      },
      "source": [
        "#Ex) 6-hydroxy-1,4-hexadiene\n",
        "A1 = Chem.MolFromSmiles('C=CCC=CCO')\n",
        "A1"
      ],
      "execution_count": 0,
      "outputs": [
        {
          "output_type": "execute_result",
          "data": {
            "image/png": "[encoded data removed]",
            "text/plain": [
              "<rdkit.Chem.rdchem.Mol at 0x1ed56129710>"
            ]
          },
          "metadata": {
            "tags": []
          },
          "execution_count": 4
        }
      ]
    },
    {
      "cell_type": "code",
      "metadata": {
        "id": "QrdqOkFP31UH",
        "colab_type": "code",
        "outputId": "b70becd7-641e-4663-d386-4e30c20be066",
        "colab": {}
      },
      "source": [
        "A2 = Chem.MolFromSmiles('C=C-C-C=C-C-O')\n",
        "A2"
      ],
      "execution_count": 0,
      "outputs": [
        {
          "output_type": "execute_result",
          "data": {
            "image/png": "[encoded data removed]",
            "text/plain": [
              "<rdkit.Chem.rdchem.Mol at 0x1ed56129cb0>"
            ]
          },
          "metadata": {
            "tags": []
          },
          "execution_count": 5
        }
      ]
    },
    {
      "cell_type": "markdown",
      "metadata": {
        "id": "L40ihsyH31UO",
        "colab_type": "text"
      },
      "source": [
        "###  2.3 Branches\n",
        "* 가지들은 괄호로 묶어 지정하면 중첩되거나 쌓을 수 있습니다.\n",
        "* 모든 경우에 대해 괄호에 대한 암시적 연결은 왼쪽입니다.\n",
        "\n",
        "\t\t\n",
        "\n",
        "![트리에틸아민](https://www.daylight.com/dayhtml/doc/theory/theory1.gif) | ![이소부티르산](https://www.daylight.com/dayhtml/doc/theory/theory2.gif) | ![3프로필-4](https://www.daylight.com/dayhtml/doc/theory/theory3.gif)\n",
        "---|---|---|\n",
        "CCN (CC) CC\t|CC (C) C (= O) O\t|C = CC (CCC) C (C (C) C) CCC\n",
        "트리 에틸 아민|\t이소 부티르산\t|3- 프로필 -4- 이소 프로필 -1- 헵텐\n"
      ]
    },
    {
      "cell_type": "code",
      "metadata": {
        "id": "9eGU61cM0Vm5",
        "colab_type": "code",
        "outputId": "6043e7f9-cc45-412d-82d3-dc87d1105af3",
        "colab": {
          "base_uri": "https://localhost:8080/",
          "height": 167
        }
      },
      "source": [
        "tea = Chem.MolFromSmiles('CCN(CC)CC') ; tea"
      ],
      "execution_count": 0,
      "outputs": [
        {
          "output_type": "execute_result",
          "data": {
            "image/png": "[encoded data removed]",
            "text/plain": [
              "<rdkit.Chem.rdchem.Mol at 0x7fb016e742b0>"
            ]
          },
          "metadata": {
            "tags": []
          },
          "execution_count": 102
        }
      ]
    },
    {
      "cell_type": "code",
      "metadata": {
        "id": "XNBGK7ec31UQ",
        "colab_type": "code",
        "outputId": "625cfcf0-a121-48d0-8fa2-28c49881e40b",
        "colab": {
          "base_uri": "https://localhost:8080/",
          "height": 167
        }
      },
      "source": [
        "iba = Chem.MolFromSmiles('CC(C)C(=O)O')\n",
        "iba"
      ],
      "execution_count": 0,
      "outputs": [
        {
          "output_type": "execute_result",
          "data": {
            "image/png": "[encoded data removed]",
            "text/plain": [
              "<rdkit.Chem.rdchem.Mol at 0x7fb016e69d50>"
            ]
          },
          "metadata": {
            "tags": []
          },
          "execution_count": 91
        }
      ]
    },
    {
      "cell_type": "code",
      "metadata": {
        "id": "0vwheBY0z5Z9",
        "colab_type": "code",
        "outputId": "9669f8fe-5f03-4fe2-96f0-f0cf33c3400c",
        "colab": {
          "base_uri": "https://localhost:8080/",
          "height": 167
        }
      },
      "source": [
        "p4i1h = Chem.MolFromSmiles('C=CC(CCC)C(C(C)C)CCC') ; p4i1h"
      ],
      "execution_count": 0,
      "outputs": [
        {
          "output_type": "execute_result",
          "data": {
            "image/png": "[encoded data removed]",
            "text/plain": [
              "<rdkit.Chem.rdchem.Mol at 0x7fb016e655d0>"
            ]
          },
          "metadata": {
            "tags": []
          },
          "execution_count": 98
        }
      ]
    },
    {
      "cell_type": "markdown",
      "metadata": {
        "id": "eXizMY3I31UU",
        "colab_type": "text"
      },
      "source": [
        "### 2.4 Cyclic Structures\n",
        "\n",
        "* 고리에서 하나의 결합을 끊는 것으로 표시한다. 결합은 임의의 순서로 번호가 매겨지며, 숫자로 고리 개방(고리 폐쇄) 결합을 지정한다\n",
        "\n",
        "> Ex)Cyclohexane <br>\n",
        "![Cyclohexane](https://www.daylight.com/dayhtml/doc/theory/theory4.gif)\n",
        "\n",
        "\n",
        "* 동일한 화학물을 여러 방법으로 표현할 수 있다.\n",
        "* 한 가지의 분자의 다양한 표현은 우선순위가 없다.\n",
        "* (a) Br을 가지로 본 경우 , (b) (CCC1)을 가지로 본 경우\n",
        "\n",
        ">Ex)1-methyl-3-bromo-cyclohexene-1 <br>\n",
        "![1-methyl-3-bromo-cyclohexene-1](http://www.daylight.com/dayhtml/doc/theory/theory5.gif)\n",
        "\n",
        "\n",
        "* 한 원자는 하나 이상의 고리 개방(고리 폐쇄) 결합을 가질 수 있다.\n",
        "\n",
        "\n",
        ">EX) SMILES for cubane: C12C3C4C1C5C4C3C25.<br>\n",
        "![Atom with 2ring](https://www.daylight.com/dayhtml/doc/theory/theory6.gif) \n",
        "\n",
        "\n",
        "\n",
        "* 필요한 경우, 링 클로징을 나타내는 숫자를 재사용 할 수 있습니다\n",
        "\n",
        "> EX)O1CCCCC1N1CCCCC1<br>\n",
        "![재사용](https://www.daylight.com/dayhtml/doc/theory/theory7.gif)\n",
        "\n",
        "\n",
        "* 한 번에 10 개 이상의 링 클로징을 열어야하는 경우,두 자리 숫자 이상의 경우 앞에 % 기호를 사용하여  10개 이사의 링 클로저 구조를 만들 수 있습니다. 예를 들어, C2 % 13 % 24 는 고리 폐쇄 2, 13 및 24를 갖는 탄소 원자이다."
      ]
    },
    {
      "cell_type": "code",
      "metadata": {
        "id": "iLItWnPv31UW",
        "colab_type": "code",
        "outputId": "d0088d29-5c0f-421d-f24c-fceb7d34027e",
        "colab": {}
      },
      "source": [
        "Cyclohexane = Chem.MolFromSmiles('C1CCCCC1')\n",
        "Cyclohexane"
      ],
      "execution_count": 0,
      "outputs": [
        {
          "output_type": "execute_result",
          "data": {
            "image/png": "[encoded data removed]",
            "text/plain": [
              "<rdkit.Chem.rdchem.Mol at 0x20c35ea7530>"
            ]
          },
          "metadata": {
            "tags": []
          },
          "execution_count": 21
        }
      ]
    },
    {
      "cell_type": "code",
      "metadata": {
        "id": "Wb4wb-7I31Ua",
        "colab_type": "code",
        "outputId": "107ea9d6-34cc-43fb-8953-c9247016cc79",
        "colab": {}
      },
      "source": [
        "M1 = Chem.MolFromSmiles('CC1=CC(Br)CCC1')\n",
        "M2 = Chem.MolFromSmiles('CC1=CC(CCC1)Br')\n",
        "M1"
      ],
      "execution_count": 0,
      "outputs": [
        {
          "output_type": "execute_result",
          "data": {
            "image/png": "[encoded data removed]",
            "text/plain": [
              "<rdkit.Chem.rdchem.Mol at 0x20c35ea7760>"
            ]
          },
          "metadata": {
            "tags": []
          },
          "execution_count": 22
        }
      ]
    },
    {
      "cell_type": "code",
      "metadata": {
        "id": "Ezj1MvmY31Ue",
        "colab_type": "code",
        "outputId": "7cf228cb-11ed-4edb-bc7b-40a958a04671",
        "colab": {}
      },
      "source": [
        "M2"
      ],
      "execution_count": 0,
      "outputs": [
        {
          "output_type": "execute_result",
          "data": {
            "image/png": "[encoded data removed]",
            "text/plain": [
              "<rdkit.Chem.rdchem.Mol at 0x20c35ea76c0>"
            ]
          },
          "metadata": {
            "tags": []
          },
          "execution_count": 23
        }
      ]
    },
    {
      "cell_type": "code",
      "metadata": {
        "id": "r8ABuPOJrmZO",
        "colab_type": "code",
        "outputId": "084cb600-a978-4ddc-b9ea-20b9d0efb806",
        "colab": {
          "base_uri": "https://localhost:8080/",
          "height": 167
        }
      },
      "source": [
        "M3 = Chem.MolFromSmiles('C12C3C4C1C5C4C3C25')\n",
        "M3"
      ],
      "execution_count": 0,
      "outputs": [
        {
          "output_type": "execute_result",
          "data": {
            "image/png": "[encoded data removed]",
            "text/plain": [
              "<rdkit.Chem.rdchem.Mol at 0x7fb016e66a30>"
            ]
          },
          "metadata": {
            "tags": []
          },
          "execution_count": 93
        }
      ]
    },
    {
      "cell_type": "code",
      "metadata": {
        "id": "IBuEwGjo31Ui",
        "colab_type": "code",
        "outputId": "b529677c-0081-4f96-ae79-69f96a98c052",
        "colab": {}
      },
      "source": [
        "print(Chem.MolToSmiles(M1))\n",
        "print(Chem.MolToSmiles(M2))"
      ],
      "execution_count": 0,
      "outputs": [
        {
          "output_type": "stream",
          "text": [
            "CC1=CC(Br)CCC1\n",
            "CC1=CC(Br)CCC1\n"
          ],
          "name": "stdout"
        }
      ]
    },
    {
      "cell_type": "markdown",
      "metadata": {
        "id": "4o9mShHH31Un",
        "colab_type": "text"
      },
      "source": [
        "### 2.5 Disconnected Structures\n",
        "\n",
        "* Disconnected Structures은 '.'(마침표)를 사용하여 각각의 구조들을 분리시킨다. <br>\n",
        "EX) 이온, 리간드, 혼합물\n",
        "* `이온` 혹은 `리간드(ligands)`의 연결은 순서에 상관없이 사용가능하다. \n",
        "* 전하끼리 반드시 연결되는 것도 아니고, 알짜 전하를 반드시 0으로 가질 필요도 없다.\n",
        "* 필요에 따라, 한 이온의 SMILE이 sodium phenoxide(석탄산나트륨)와 같이 다른 이온사이에 삽입될 수 있다.\n",
        ">![sodium phenoxide](https://www.daylight.com/dayhtml/doc/theory/theory8.gif)\n",
        "\n",
        "* 원자들이 숫자쌍 사이에 나열된 것들은 결합되었다고 간주한다.\n",
        "* 명시적 결합 : 결합 기호들, E/Z, 고리 닫힘 기호 <br>\n",
        "  암묵적(생략가능) 결합 : 단일결합, 방향족 결합\n",
        "* 점(.)으로 분리된 인접한 원자들은 원자가 서로 결합하지 않는다는 것을 의미한다. 이는 원자가 같은 화합물로 연결되어 있는지를 확인하기 위한 사실이다.<br>\n",
        "EX) C1.COCC1의 의미는 이 물질은 COCCC와 같다는 의미이며 CCOCC가 아니다란 뜻이다."
      ]
    },
    {
      "cell_type": "code",
      "metadata": {
        "id": "aFFBr50o31Uo",
        "colab_type": "code",
        "colab": {}
      },
      "source": [
        "N1 = Chem.MolFromSmiles('[Na+].[O-]c1ccccc1')\n",
        "N2 = Chem.MolFromSmiles('c1cc([O-].[Na+])ccc1')\n",
        "mixture = Chem.MolFromSmiles('CCO.O')\n",
        "ethane = Chem.MolFromSmiles('CC')"
      ],
      "execution_count": 0,
      "outputs": []
    },
    {
      "cell_type": "code",
      "metadata": {
        "id": "-YO7SSbHTjLq",
        "colab_type": "code",
        "outputId": "01c991ad-6fa3-4217-8a05-82670bee136b",
        "colab": {
          "base_uri": "https://localhost:8080/",
          "height": 167
        }
      },
      "source": [
        "N1"
      ],
      "execution_count": 0,
      "outputs": [
        {
          "output_type": "execute_result",
          "data": {
            "image/png": "[encoded data removed]",
            "text/plain": [
              "<rdkit.Chem.rdchem.Mol at 0x7f8ee301a710>"
            ]
          },
          "metadata": {
            "tags": []
          },
          "execution_count": 20
        }
      ]
    },
    {
      "cell_type": "code",
      "metadata": {
        "id": "Oj9Rso0N31Ut",
        "colab_type": "code",
        "outputId": "608ed59b-8694-4313-e0a8-aa740a69e42f",
        "colab": {}
      },
      "source": [
        "N2"
      ],
      "execution_count": 0,
      "outputs": [
        {
          "output_type": "execute_result",
          "data": {
            "image/png": "[encoded data removed]",
            "text/plain": [
              "<rdkit.Chem.rdchem.Mol at 0x20c35ea7df0>"
            ]
          },
          "metadata": {
            "tags": []
          },
          "execution_count": 26
        }
      ]
    },
    {
      "cell_type": "code",
      "metadata": {
        "id": "-BoktpIWTlYp",
        "colab_type": "code",
        "outputId": "0b84889a-c24a-469d-8e8c-912693704c05",
        "colab": {
          "base_uri": "https://localhost:8080/",
          "height": 167
        }
      },
      "source": [
        "mixture # CCO가 물과 결합한 형태가 아닌 녹아 있는 혼합물"
      ],
      "execution_count": 0,
      "outputs": [
        {
          "output_type": "execute_result",
          "data": {
            "image/png": "[encoded data removed]",
            "text/plain": [
              "<rdkit.Chem.rdchem.Mol at 0x7f8ee30c5710>"
            ]
          },
          "metadata": {
            "tags": []
          },
          "execution_count": 22
        }
      ]
    },
    {
      "cell_type": "code",
      "metadata": {
        "id": "huKft5dp31Uz",
        "colab_type": "code",
        "outputId": "7359d4a3-c6cb-457f-9c9b-0ee9fd839ffe",
        "colab": {
          "base_uri": "https://localhost:8080/",
          "height": 167
        }
      },
      "source": [
        "ethane"
      ],
      "execution_count": 0,
      "outputs": [
        {
          "output_type": "execute_result",
          "data": {
            "image/png": "[encoded data removed]",
            "text/plain": [
              "<rdkit.Chem.rdchem.Mol at 0x7f8ee3041990>"
            ]
          },
          "metadata": {
            "tags": []
          },
          "execution_count": 28
        }
      ]
    },
    {
      "cell_type": "code",
      "metadata": {
        "id": "fQkdfJyP31U4",
        "colab_type": "code",
        "outputId": "1a46fddc-65e8-42b1-feb8-e742d4f17047",
        "colab": {
          "base_uri": "https://localhost:8080/",
          "height": 167
        }
      },
      "source": [
        "CdotC = Chem.MolFromSmiles('C1.COCC1') ; CdotC"
      ],
      "execution_count": 0,
      "outputs": [
        {
          "output_type": "execute_result",
          "data": {
            "image/png": "[encoded data removed]",
            "text/plain": [
              "<rdkit.Chem.rdchem.Mol at 0x7f8ee2fcfcb0>"
            ]
          },
          "metadata": {
            "tags": []
          },
          "execution_count": 46
        }
      ]
    },
    {
      "cell_type": "markdown",
      "metadata": {
        "id": "xV5ZIA_W31U_",
        "colab_type": "text"
      },
      "source": [
        "##  3.Isomeric SMILES(이성질체)\n",
        "\n",
        "* 동위 원소, 이중결합의 구조, 그리고 카이랄성을 추가적으로 규정.\n",
        "* IUPAC와 CIP에서의 화학적 명명법과는 다르게 설명할 규칙들은 카이랄성의 부분적 명시를 위해 고안되었다.\n",
        "* 모든 화합물의 카이랄성이 알려져 있지 않기에, 이용 가능한 카이랄성만을 표기한다.\n",
        "* SMILE에서 모든 이성질체의 명시 규칙은 선택적이다. 특성의 규격이 없다는 것은 해당하는 특성의 값이 지정되지 않았음을 의미한다. "
      ]
    },
    {
      "cell_type": "markdown",
      "metadata": {
        "id": "HRD5gZRf31VB",
        "colab_type": "text"
      },
      "source": [
        "### 3.1 Isotopic Specification(동위원소)\n",
        "\n",
        "* 동위원소는 해당되는 원소의 원자를 `[ 원자량+원자기호 ]` 로 표기한다."
      ]
    },
    {
      "cell_type": "markdown",
      "metadata": {
        "id": "u6cyoLRo31VE",
        "colab_type": "text"
      },
      "source": [
        "SMILES | Name\n",
        ":---- | :----\n",
        "$[12C]$ | carbon-12\n",
        "$[13C]$ | carbon-13\n",
        "$[C]$ | carbon(unspecified mass)\n",
        "$[13CH4]$ | C-13 methane"
      ]
    },
    {
      "cell_type": "code",
      "metadata": {
        "id": "-gN5Yavc31VG",
        "colab_type": "code",
        "outputId": "6ab1b034-97b0-41a3-bece-dfd55393a43e",
        "colab": {}
      },
      "source": [
        "C12 = Chem.MolFromSmiles('[12C]')\n",
        "C12"
      ],
      "execution_count": 0,
      "outputs": [
        {
          "output_type": "execute_result",
          "data": {
            "image/png": "[encoded data removed]",
            "text/plain": [
              "<rdkit.Chem.rdchem.Mol at 0x20c347cf580>"
            ]
          },
          "metadata": {
            "tags": []
          },
          "execution_count": 29
        }
      ]
    },
    {
      "cell_type": "code",
      "metadata": {
        "id": "Ht-KZNqX1tDS",
        "colab_type": "code",
        "outputId": "0120fdd7-8c5d-4aa1-80e8-2c64cb86eb23",
        "colab": {
          "base_uri": "https://localhost:8080/",
          "height": 167
        }
      },
      "source": [
        "C13H4 =  Chem.MolFromSmiles('[13CH4]') ;C13H4"
      ],
      "execution_count": 0,
      "outputs": [
        {
          "output_type": "execute_result",
          "data": {
            "image/png": "[encoded data removed]",
            "text/plain": [
              "<rdkit.Chem.rdchem.Mol at 0x7fb016e66ad0>"
            ]
          },
          "metadata": {
            "tags": []
          },
          "execution_count": 104
        }
      ]
    },
    {
      "cell_type": "markdown",
      "metadata": {
        "id": "xMQy5ncb31VL",
        "colab_type": "text"
      },
      "source": [
        "### 3.2 Configuration Around Double Bonds(이중결합의 배치)\n",
        "\n",
        "* / or \\ : tans/cis or E/Z 결합을 나타내는 기호\n",
        "\n",
        "> **E/Z** : cis/trans 결합의 확장편, 세 개이상 다른 치환기를 가질 경우 에도 이중 결합을 잘 표현 가능하다<br>\n",
        "E(독일어 entgegen) : 반대편이라는 어원, 높은 우선순위를 갖는 탄소가 포함된 치환기가 이중결합의 **반대 위치**에 존재할 경우(≒trans-)<br>\n",
        "Z(독일어 zusammen) : 함께라는 어원, 높은 우선순위를 갖는 탄소가 포함된 치환기가 이중결합의 **같은 위치**에 존재할 경우(≒cis-)<br>\n",
        "\n",
        "\n",
        "Ex) E- and Z-1,2-difluoroethene\n",
        "\n",
        "![c2f2trans](https://www.daylight.com/dayhtml/doc/theory/theory9.gif)|![c2f2cis](https://www.daylight.com/dayhtml/doc/theory/theory10.gif)\n",
        "---|---|\n",
        "F / C = C / F\t| F / C = C \\ F\n",
        "F \\ C = C \\ F\t| F \\ C = C / F"
      ]
    },
    {
      "cell_type": "code",
      "metadata": {
        "id": "X8EfWT1j31VM",
        "colab_type": "code",
        "outputId": "8758120b-a6dd-4413-e1a6-5c2cb1007a32",
        "colab": {}
      },
      "source": [
        "E1 = Chem.MolFromSmiles('F/C=C/F')\n",
        "E2 = Chem.MolFromSmiles('F/C=C\\F')\n",
        "E1"
      ],
      "execution_count": 0,
      "outputs": [
        {
          "output_type": "execute_result",
          "data": {
            "image/png": "[encoded data removed]",
            "text/plain": [
              "<rdkit.Chem.rdchem.Mol at 0x20c35ee1120>"
            ]
          },
          "metadata": {
            "tags": []
          },
          "execution_count": 30
        }
      ]
    },
    {
      "cell_type": "code",
      "metadata": {
        "id": "062K27bJ31VR",
        "colab_type": "code",
        "outputId": "14e067aa-b1ef-469e-eec0-b88ceff09e41",
        "colab": {}
      },
      "source": [
        "E2"
      ],
      "execution_count": 0,
      "outputs": [
        {
          "output_type": "execute_result",
          "data": {
            "image/png": "[encoded data removed]",
            "text/plain": [
              "<rdkit.Chem.rdchem.Mol at 0x20c35ee10d0>"
            ]
          },
          "metadata": {
            "tags": []
          },
          "execution_count": 31
        }
      ]
    },
    {
      "cell_type": "markdown",
      "metadata": {
        "id": "C_mnRP7231VX",
        "colab_type": "text"
      },
      "source": [
        "* 전체 구조를 다 입력해주는게 좋지만 스마일은 전체 구조를 다 파악해 입력할 필요 없이 부분적으로 원소만 입력하는 것이 가능하다"
      ]
    },
    {
      "cell_type": "markdown",
      "metadata": {
        "id": "nlvyNYh431VZ",
        "colab_type": "text"
      },
      "source": [
        "completely specified | partially specified\n",
        "---- | ----\n",
        "![complete](http://www.daylight.com/dayhtml/doc/theory/theory11.gif) | ![partial](http://www.daylight.com/dayhtml/doc/theory/theory12.gif)\n",
        "F/C=C/C=C/C | F/C=C/C=CC"
      ]
    },
    {
      "cell_type": "code",
      "metadata": {
        "id": "yA5f2Uyl31Ve",
        "colab_type": "code",
        "colab": {}
      },
      "source": [
        "S1 = Chem.MolFromSmiles('F/C=C/C=C/C')\n",
        "S2 = Chem.MolFromSmiles('F/C=C/C=CC')"
      ],
      "execution_count": 0,
      "outputs": []
    },
    {
      "cell_type": "code",
      "metadata": {
        "id": "tS8mHBvZ31Vk",
        "colab_type": "code",
        "outputId": "a16f29ca-ca34-4cf1-d548-8c6e6df8af40",
        "colab": {
          "base_uri": "https://localhost:8080/",
          "height": 167
        }
      },
      "source": [
        "S1"
      ],
      "execution_count": 0,
      "outputs": [
        {
          "output_type": "execute_result",
          "data": {
            "image/png": "[encoded data removed]",
            "text/plain": [
              "<rdkit.Chem.rdchem.Mol at 0x7fb016e2bcb0>"
            ]
          },
          "metadata": {
            "tags": []
          },
          "execution_count": 121
        }
      ]
    },
    {
      "cell_type": "code",
      "metadata": {
        "id": "ianIMj6g31Vq",
        "colab_type": "code",
        "outputId": "94970cee-8116-4b30-8357-4810a58078de",
        "colab": {
          "base_uri": "https://localhost:8080/",
          "height": 167
        }
      },
      "source": [
        "S2 # 부분적으로 입력해도 알아서 구조를 그려준다"
      ],
      "execution_count": 0,
      "outputs": [
        {
          "output_type": "execute_result",
          "data": {
            "image/png": "[encoded data removed]",
            "text/plain": [
              "<rdkit.Chem.rdchem.Mol at 0x7fb016e322b0>"
            ]
          },
          "metadata": {
            "tags": []
          },
          "execution_count": 118
        }
      ]
    },
    {
      "cell_type": "code",
      "metadata": {
        "id": "tyvRtxhI31Vv",
        "colab_type": "code",
        "outputId": "a3add8e4-f075-4ffe-9d5a-659187f0f1d5",
        "colab": {
          "base_uri": "https://localhost:8080/",
          "height": 167
        }
      },
      "source": [
        "S3 = Chem.MolFromSmiles('F/C=C/C=C\\C')\n",
        "S3"
      ],
      "execution_count": 0,
      "outputs": [
        {
          "output_type": "execute_result",
          "data": {
            "image/png": "[encoded data removed]",
            "text/plain": [
              "<rdkit.Chem.rdchem.Mol at 0x7fb016e2bd00>"
            ]
          },
          "metadata": {
            "tags": []
          },
          "execution_count": 119
        }
      ]
    }
  ]
}