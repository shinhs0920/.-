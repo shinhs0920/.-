{
  "nbformat": 4,
  "nbformat_minor": 0,
  "metadata": {
    "kernelspec": {
      "display_name": "Python 3",
      "language": "python",
      "name": "python3"
    },
    "language_info": {
      "codemirror_mode": {
        "name": "ipython",
        "version": 3
      },
      "file_extension": ".py",
      "mimetype": "text/x-python",
      "name": "python",
      "nbconvert_exporter": "python",
      "pygments_lexer": "ipython3",
      "version": "3.7.3"
    },
    "colab": {
      "name": "ch02 .ipynb",
      "provenance": [],
      "include_colab_link": true
    }
  },
  "cells": [
    {
      "cell_type": "markdown",
      "metadata": {
        "id": "view-in-github",
        "colab_type": "text"
      },
      "source": [
        "<a href=\"https://colab.research.google.com/github/shinhs0920/Engineering-computing-application/blob/master/ch02_.ipynb\" target=\"_parent\"><img src=\"https://colab.research.google.com/assets/colab-badge.svg\" alt=\"Open In Colab\"/></a>"
      ]
    },
    {
      "cell_type": "markdown",
      "metadata": {
        "id": "sDMhfjLoPctj",
        "colab_type": "text"
      },
      "source": [
        "# 02장 연습문제"
      ]
    },
    {
      "cell_type": "markdown",
      "metadata": {
        "id": "F_n3eX7OPctn",
        "colab_type": "text"
      },
      "source": [
        "**Q1** 홍길동 씨의 과목별 점수는 다음과 같다. 홍길동 씨의 평균 점수를 구해보자"
      ]
    },
    {
      "cell_type": "code",
      "metadata": {
        "id": "8ISZZxmaPctq",
        "colab_type": "code",
        "colab": {},
        "outputId": "910753ac-3d24-4d56-8f0a-d65fd0eea8d2"
      },
      "source": [
        "from pandas import Series, DataFrame\n",
        "import pandas as pd\n",
        "data={'과목':['국어','영어','수학'],'점수':[80,75,55]}\n",
        "frame=DataFrame(data)\n",
        "frame"
      ],
      "execution_count": 0,
      "outputs": [
        {
          "output_type": "execute_result",
          "data": {
            "text/html": [
              "<div>\n",
              "<style scoped>\n",
              "    .dataframe tbody tr th:only-of-type {\n",
              "        vertical-align: middle;\n",
              "    }\n",
              "\n",
              "    .dataframe tbody tr th {\n",
              "        vertical-align: top;\n",
              "    }\n",
              "\n",
              "    .dataframe thead th {\n",
              "        text-align: right;\n",
              "    }\n",
              "</style>\n",
              "<table border=\"1\" class=\"dataframe\">\n",
              "  <thead>\n",
              "    <tr style=\"text-align: right;\">\n",
              "      <th></th>\n",
              "      <th>과목</th>\n",
              "      <th>점수</th>\n",
              "    </tr>\n",
              "  </thead>\n",
              "  <tbody>\n",
              "    <tr>\n",
              "      <th>0</th>\n",
              "      <td>국어</td>\n",
              "      <td>80</td>\n",
              "    </tr>\n",
              "    <tr>\n",
              "      <th>1</th>\n",
              "      <td>영어</td>\n",
              "      <td>75</td>\n",
              "    </tr>\n",
              "    <tr>\n",
              "      <th>2</th>\n",
              "      <td>수학</td>\n",
              "      <td>55</td>\n",
              "    </tr>\n",
              "  </tbody>\n",
              "</table>\n",
              "</div>"
            ],
            "text/plain": [
              "   과목  점수\n",
              "0  국어  80\n",
              "1  영어  75\n",
              "2  수학  55"
            ]
          },
          "metadata": {
            "tags": []
          },
          "execution_count": 12
        }
      ]
    },
    {
      "cell_type": "markdown",
      "metadata": {
        "id": "Wydve8bGPctz",
        "colab_type": "text"
      },
      "source": [
        "**풀이**"
      ]
    },
    {
      "cell_type": "code",
      "metadata": {
        "id": "t07-1ppiPct1",
        "colab_type": "code",
        "colab": {},
        "outputId": "8c8be395-37de-461a-f3d0-a74813d3f861"
      },
      "source": [
        "a=80\n",
        "b=75\n",
        "c=55\n",
        "(a+b+c)/3"
      ],
      "execution_count": 0,
      "outputs": [
        {
          "output_type": "execute_result",
          "data": {
            "text/plain": [
              "70.0"
            ]
          },
          "metadata": {
            "tags": []
          },
          "execution_count": 14
        }
      ]
    },
    {
      "cell_type": "markdown",
      "metadata": {
        "id": "nhOy2sROPct9",
        "colab_type": "text"
      },
      "source": [
        "**Q2** 자연수 13이 홀수인지 짝수인지 판별할 수 있는 방법에 대해서 말해 보자"
      ]
    },
    {
      "cell_type": "markdown",
      "metadata": {
        "id": "uR32C0A8Pct_",
        "colab_type": "text"
      },
      "source": [
        "나머지(%) 연산자를 사용하여 값이 1이면 홀수, 0이면 짝수로써 쉽게 판별 할 수 있다."
      ]
    },
    {
      "cell_type": "code",
      "metadata": {
        "id": "ydoIflSaPcuB",
        "colab_type": "code",
        "colab": {},
        "outputId": "c484f681-9e12-49c5-a434-71de3b79365c"
      },
      "source": [
        "13%2"
      ],
      "execution_count": 0,
      "outputs": [
        {
          "output_type": "execute_result",
          "data": {
            "text/plain": [
              "1"
            ]
          },
          "metadata": {
            "tags": []
          },
          "execution_count": 15
        }
      ]
    },
    {
      "cell_type": "markdown",
      "metadata": {
        "id": "VhMsh4HiPcuO",
        "colab_type": "text"
      },
      "source": [
        "2로 나눴을 때 나머지가 1이므로 자연수 13은 홀수다"
      ]
    },
    {
      "cell_type": "markdown",
      "metadata": {
        "id": "GKxmTPigPcuT",
        "colab_type": "text"
      },
      "source": [
        "**Q4** 홍길동 씨의 주민등록번호는 881120-1068234이다. 홍길동 씨의 주민등록번호를 연월일(YYYMMDD) 부분과 그 뒤의 숫자 부분으로 나누어 출력해 보자."
      ]
    },
    {
      "cell_type": "markdown",
      "metadata": {
        "id": "VswLjN_hPcuZ",
        "colab_type": "text"
      },
      "source": [
        "문자열 슬라이싱 기법을 사용한다"
      ]
    },
    {
      "cell_type": "code",
      "metadata": {
        "id": "bI7xE0o9Pcue",
        "colab_type": "code",
        "colab": {},
        "outputId": "2a7cec74-150d-4345-c6a0-dbc960a68ab9"
      },
      "source": [
        "pin= \"881120-1068234\"\n",
        "yyymmdd=pin[:6]\n",
        "num=pin[7:]\n",
        "print(yyymmdd)\n",
        "print(num)"
      ],
      "execution_count": 0,
      "outputs": [
        {
          "output_type": "stream",
          "text": [
            "881120\n",
            "1068234\n"
          ],
          "name": "stdout"
        }
      ]
    },
    {
      "cell_type": "markdown",
      "metadata": {
        "id": "RMRRC5flPcul",
        "colab_type": "text"
      },
      "source": [
        "**Q5** 다음과 같은 문자열 a:b:c:d가 있다. 문자열의 replace 함수를 사용하여 a#b#c#d로 바꿔서 출력해 보자."
      ]
    },
    {
      "cell_type": "code",
      "metadata": {
        "id": "zJKGqlsrPcuo",
        "colab_type": "code",
        "colab": {},
        "outputId": "69e7d6bc-1070-42f2-e126-6da2ffebd21d"
      },
      "source": [
        "a=\"a:b:c:d\"\n",
        "b=a.replace(\":\",\"#\")\n",
        "print(b)"
      ],
      "execution_count": 0,
      "outputs": [
        {
          "output_type": "stream",
          "text": [
            "a#b#c#d\n"
          ],
          "name": "stdout"
        }
      ]
    },
    {
      "cell_type": "markdown",
      "metadata": {
        "id": "_4knBaP9Pcuz",
        "colab_type": "text"
      },
      "source": [
        "**Q6**  [1,3,5,4,2] 리스트를 [5,4,3,2,1]로 만들어 보자."
      ]
    },
    {
      "cell_type": "code",
      "metadata": {
        "id": "h-Vr4RqmPcu1",
        "colab_type": "code",
        "colab": {},
        "outputId": "4bed6e20-e84d-46fb-b07f-6af8c61931f6"
      },
      "source": [
        "a=[1,3,5,4,2]\n",
        "a.sort()\n",
        "a.reverse()\n",
        "print(a)"
      ],
      "execution_count": 0,
      "outputs": [
        {
          "output_type": "stream",
          "text": [
            "[5, 4, 3, 2, 1]\n"
          ],
          "name": "stdout"
        }
      ]
    },
    {
      "cell_type": "markdown",
      "metadata": {
        "id": "SgEkuqI3PcvD",
        "colab_type": "text"
      },
      "source": [
        "리스트의 내장 함수인 sort를 사용하여 리스트 값들을 먼저 정렬한 후 reverse 함수를 사용하여 순서를 뒤집는다"
      ]
    },
    {
      "cell_type": "markdown",
      "metadata": {
        "id": "3hdJA-iEPcvJ",
        "colab_type": "text"
      },
      "source": [
        "**Q7**  ['Life','is','too','short'] 리스트를 Life is too short 문자열로 만들어 출력해 보자."
      ]
    },
    {
      "cell_type": "code",
      "metadata": {
        "id": "iDGkD3vAPcvO",
        "colab_type": "code",
        "colab": {},
        "outputId": "1202263a-8286-44bd-b37f-15cce9ee4de4"
      },
      "source": [
        "a=['Life',' is',' too',' short']\n",
        "result=\"\".join(a)\n",
        "print(result)"
      ],
      "execution_count": 0,
      "outputs": [
        {
          "output_type": "stream",
          "text": [
            "Life is too short\n"
          ],
          "name": "stdout"
        }
      ]
    },
    {
      "cell_type": "markdown",
      "metadata": {
        "id": "9E5B_eZtPcvW",
        "colab_type": "text"
      },
      "source": [
        "a 리스트의 각 단어들을 한 문장으로 조립할 때 단어들 사이마다 공백을 넣어 주여아한다. 1개의 공백문자(\"\")를 사용하여 join 한다."
      ]
    },
    {
      "cell_type": "markdown",
      "metadata": {
        "id": "Vp6lZ4DEPcva",
        "colab_type": "text"
      },
      "source": [
        "**Q8**  (1,2,3) 튜플에 값 4를 추가하여 (1,2,3,4)를 만들어 출력해 보자"
      ]
    },
    {
      "cell_type": "code",
      "metadata": {
        "id": "NvYvK-u-Pcvc",
        "colab_type": "code",
        "colab": {},
        "outputId": "374df659-e2ab-4ab0-9cf1-ac73afdfcb69"
      },
      "source": [
        "a=(1,2,3)\n",
        "a=a+(4,)\n",
        "print(a)"
      ],
      "execution_count": 0,
      "outputs": [
        {
          "output_type": "stream",
          "text": [
            "(1, 2, 3, 4)\n"
          ],
          "name": "stdout"
        }
      ]
    },
    {
      "cell_type": "markdown",
      "metadata": {
        "id": "KmDEEBajPcvl",
        "colab_type": "text"
      },
      "source": [
        "a 튜플에 (4,)라는 튜플을 더하면 된다. 단, 이때 만들어지는 a+(4,)의 결과는 a 값이 변경되는 것이 아니라 (튜플은 그 값을 변경할 수 없다) 새로운 튜플이 생성되고 그 값이 a 변수에 대입되는 것임에 유념하자.\n",
        "다음 코드를 실행해 보면 a의 고유 주소 값이 변경됨을 확인할 수 있다."
      ]
    },
    {
      "cell_type": "code",
      "metadata": {
        "id": "V1pesunjPcvo",
        "colab_type": "code",
        "colab": {},
        "outputId": "6078d0b9-2c26-46a7-a943-d9f6b1a3e692"
      },
      "source": [
        "a=(1,2,3)\n",
        "print(id(a))"
      ],
      "execution_count": 0,
      "outputs": [
        {
          "output_type": "stream",
          "text": [
            "2319305608576\n"
          ],
          "name": "stdout"
        }
      ]
    },
    {
      "cell_type": "code",
      "metadata": {
        "id": "DTVAKxd1Pcvw",
        "colab_type": "code",
        "colab": {},
        "outputId": "c5a11c1c-67e4-4b50-d241-e5468eca1001"
      },
      "source": [
        "a=a+(4,)\n",
        "print(a)\n",
        "print(id(a))"
      ],
      "execution_count": 0,
      "outputs": [
        {
          "output_type": "stream",
          "text": [
            "(1, 2, 3, 4)\n",
            "2319303937224\n"
          ],
          "name": "stdout"
        }
      ]
    },
    {
      "cell_type": "markdown",
      "metadata": {
        "id": "rKsKpsXnPcv7",
        "colab_type": "text"
      },
      "source": [
        "**Q9**  다음과 같은 딕셔너리 a가 있다"
      ]
    },
    {
      "cell_type": "code",
      "metadata": {
        "id": "X0S_B2cDPcv-",
        "colab_type": "code",
        "colab": {},
        "outputId": "db142bd0-d61e-49b2-bf50-fbc6344cd239"
      },
      "source": [
        "a=dict()\n",
        "a"
      ],
      "execution_count": 0,
      "outputs": [
        {
          "output_type": "execute_result",
          "data": {
            "text/plain": [
              "{}"
            ]
          },
          "metadata": {
            "tags": []
          },
          "execution_count": 27
        }
      ]
    },
    {
      "cell_type": "markdown",
      "metadata": {
        "id": "YzbeSEI1PcwF",
        "colab_type": "text"
      },
      "source": [
        "다음 중 오류가 발생하는 경우를 고르고, 그 이유를 설명해 보자."
      ]
    },
    {
      "cell_type": "markdown",
      "metadata": {
        "id": "CkNUfl9xPcwO",
        "colab_type": "text"
      },
      "source": [
        "1. a['name']='python'\n",
        "2. a[('a',)]='python'\n",
        "3. a[[1]]='python'\n",
        "4. a[250]='python'"
      ]
    },
    {
      "cell_type": "markdown",
      "metadata": {
        "id": "pwcGnboIPcwQ",
        "colab_type": "text"
      },
      "source": [
        "3번째 예를 실행하면 다음과 같은 오류가 발생한다"
      ]
    },
    {
      "cell_type": "code",
      "metadata": {
        "id": "h6Ehhj6sPcwX",
        "colab_type": "code",
        "colab": {},
        "outputId": "ce088550-a802-4ee4-ec0e-873bf7a0a8ba"
      },
      "source": [
        "a[[1]]='python'"
      ],
      "execution_count": 0,
      "outputs": [
        {
          "output_type": "error",
          "ename": "TypeError",
          "evalue": "unhashable type: 'list'",
          "traceback": [
            "\u001b[1;31m---------------------------------------------------------------------------\u001b[0m",
            "\u001b[1;31mTypeError\u001b[0m                                 Traceback (most recent call last)",
            "\u001b[1;32m<ipython-input-28-172a07164315>\u001b[0m in \u001b[0;36m<module>\u001b[1;34m\u001b[0m\n\u001b[1;32m----> 1\u001b[1;33m \u001b[0ma\u001b[0m\u001b[1;33m[\u001b[0m\u001b[1;33m[\u001b[0m\u001b[1;36m1\u001b[0m\u001b[1;33m]\u001b[0m\u001b[1;33m]\u001b[0m\u001b[1;33m=\u001b[0m\u001b[1;34m'python'\u001b[0m\u001b[1;33m\u001b[0m\u001b[1;33m\u001b[0m\u001b[0m\n\u001b[0m",
            "\u001b[1;31mTypeError\u001b[0m: unhashable type: 'list'"
          ]
        }
      ]
    },
    {
      "cell_type": "markdown",
      "metadata": {
        "id": "nUXlvupnPcwg",
        "colab_type": "text"
      },
      "source": [
        "오류가 발생하는 이유는 딕셔너리의 키로는 변하는(mutable)값을 사용할 수 없기 때문이다. 위 예에서 키로 사용된 [1]은 **리스트**이므로 변하는 값이다. 다른 예에서 키로 사용된 문자열,튜플,숫자는 변하지않는(immutable)값이므로 딕셔너리의 키로 사용이 가능하다."
      ]
    },
    {
      "cell_type": "markdown",
      "metadata": {
        "id": "F3Pj4bszPcwl",
        "colab_type": "text"
      },
      "source": [
        "**Q10**  딕셔너리 a에서 'B'에 해당되는 값을 추출해 보자."
      ]
    },
    {
      "cell_type": "code",
      "metadata": {
        "id": "TT7O82cNPcws",
        "colab_type": "code",
        "colab": {}
      },
      "source": [
        "a={'A':90,'B':80,'C':70}"
      ],
      "execution_count": 0,
      "outputs": []
    },
    {
      "cell_type": "markdown",
      "metadata": {
        "id": "6WyJS4KePcw8",
        "colab_type": "text"
      },
      "source": [
        "딕셔너리도 리스트와 마찬가지로 다음과 같이 pop 함수를 사용할 수 있다."
      ]
    },
    {
      "cell_type": "code",
      "metadata": {
        "id": "Ieymif9TPcw-",
        "colab_type": "code",
        "colab": {},
        "outputId": "b514c5d0-01e9-4a4a-cfa5-a6059253b12c"
      },
      "source": [
        "a={'A':90,'B':80,'C':70}\n",
        "result=a.pop('B')\n",
        "print(a)\n",
        "print(result)"
      ],
      "execution_count": 0,
      "outputs": [
        {
          "output_type": "stream",
          "text": [
            "{'A': 90, 'C': 70}\n",
            "80\n"
          ],
          "name": "stdout"
        }
      ]
    },
    {
      "cell_type": "markdown",
      "metadata": {
        "id": "O5V6V267PcxQ",
        "colab_type": "text"
      },
      "source": [
        "'B'키 값에 해당되는 값이 리턴되고 딕셔너리 a에서는 그 값이 제거되는 것을 확인할 수 있다."
      ]
    },
    {
      "cell_type": "markdown",
      "metadata": {
        "id": "HS5nnYDNPcxV",
        "colab_type": "text"
      },
      "source": [
        "**Q11**  a 리스트에서 중복 숫자를 제거해 보자"
      ]
    },
    {
      "cell_type": "code",
      "metadata": {
        "id": "_o7kzbcxPcxc",
        "colab_type": "code",
        "colab": {}
      },
      "source": [
        "a=[1,1,1,2,2,3,3,3,4,4,5]"
      ],
      "execution_count": 0,
      "outputs": []
    },
    {
      "cell_type": "code",
      "metadata": {
        "id": "mvipGCjJPcxl",
        "colab_type": "code",
        "colab": {},
        "outputId": "b447b779-8222-4bb2-fc64-4c88a1ad6518"
      },
      "source": [
        "a=[1,1,1,2,2,3,3,3,4,4,5]\n",
        "aSet= set(a)\n",
        "b=list(aSet)\n",
        "print(b)"
      ],
      "execution_count": 0,
      "outputs": [
        {
          "output_type": "stream",
          "text": [
            "[1, 2, 3, 4, 5]\n"
          ],
          "name": "stdout"
        }
      ]
    },
    {
      "cell_type": "markdown",
      "metadata": {
        "id": "KesFyAHPPcxy",
        "colab_type": "text"
      },
      "source": [
        "리스트 자료형이 집합 자료형으로 변환되면서 중복된 값들은 사라지게 된다. 이와 같은 성질을 사용하면 리스트 내에 중복된 값을 쉽게 제거할 수 있다."
      ]
    },
    {
      "cell_type": "markdown",
      "metadata": {
        "id": "P3UBtOSgPcxz",
        "colab_type": "text"
      },
      "source": [
        "**Q12**  파이썬은 다음처럼 동일한 값에 여러 개의 변수를 선언할 수 있다. 다음과 같이 a,b 변수를 선언한 후 a의 두번째 요솟값을 변경하면 b 값은 어떻게 될까? 그리고 이런 결과가 오는 이유에 대해 설명해 보자."
      ]
    },
    {
      "cell_type": "markdown",
      "metadata": {
        "id": "SCWzV4f_Pcx4",
        "colab_type": "text"
      },
      "source": [
        "[1,4,3]이 출력된다. a와 b변수는 모두 동일단 [1,2,3]이라는 리스트 객체를 가리키고 있기 때문이다."
      ]
    }
  ]
}