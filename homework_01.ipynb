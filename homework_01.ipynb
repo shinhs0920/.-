{
  "nbformat": 4,
  "nbformat_minor": 0,
  "metadata": {
    "colab": {
      "name": "homework 01.ipynb",
      "provenance": [],
      "collapsed_sections": [],
      "include_colab_link": true
    },
    "kernelspec": {
      "name": "python3",
      "display_name": "Python 3"
    }
  },
  "cells": [
    {
      "cell_type": "markdown",
      "metadata": {
        "id": "view-in-github",
        "colab_type": "text"
      },
      "source": [
        "<a href=\"https://colab.research.google.com/github/shinhs0920/Engineering-computing-application/blob/master/homework_01.ipynb\" target=\"_parent\"><img src=\"https://colab.research.google.com/assets/colab-badge.svg\" alt=\"Open In Colab\"/></a>"
      ]
    },
    {
      "cell_type": "markdown",
      "metadata": {
        "id": "YnNh3-o5Oijc",
        "colab_type": "text"
      },
      "source": [
        ""
      ]
    },
    {
      "cell_type": "markdown",
      "metadata": {
        "id": "Lh4r5VCUMnqD",
        "colab_type": "text"
      },
      "source": [
        "### 0.1을 이진수로 표현하지 못하는 이유\n"
      ]
    },
    {
      "cell_type": "markdown",
      "metadata": {
        "id": "-4Cp-8jfMEfY",
        "colab_type": "text"
      },
      "source": [
        "자연수를 이진수로 표현하는 것은 모두 다 가능하다\n",
        "<br> ex)\n",
        "3=011[2]\n",
        ",5=101[2]\n",
        "<br>이렇게 모든 자연수는 0과 1만으로도 조합을 통해 어느 숫자라도 만들어 낼 수 있다"
      ]
    },
    {
      "cell_type": "markdown",
      "metadata": {
        "id": "xJTtrew-MeRf",
        "colab_type": "text"
      },
      "source": [
        "그렇다면, 소수는 어떻게 표현할까"
      ]
    },
    {
      "cell_type": "markdown",
      "metadata": {
        "id": "UloWdvQHNi5n",
        "colab_type": "text"
      },
      "source": [
        "ex) 0.5 = 1/2 = 1/(2 ** 1) = 0.1[2]\n",
        "<br>0.25= 1/4 = 1/(2 ** 2) = 0.01[2]"
      ]
    },
    {
      "cell_type": "markdown",
      "metadata": {
        "id": "e_IQMDNVN9PW",
        "colab_type": "text"
      },
      "source": [
        "따라서 소수는 1/2, 1/4, 1/8.1/16 등을 결합하여 만들어야 한다"
      ]
    },
    {
      "cell_type": "markdown",
      "metadata": {
        "id": "xj-hlSaJOCWM",
        "colab_type": "text"
      },
      "source": [
        "예를 들어 0.9를 만들려면 \n",
        "<br> 0.5+0.25+0.125+.....이 될 것이다\n",
        "<br> 하지만 뒤에 어떠한 수를 넣어도 정확한 0.9값은 만들기가 불가능하다."
      ]
    },
    {
      "cell_type": "markdown",
      "metadata": {
        "id": "kSA3p3vyOQOQ",
        "colab_type": "text"
      },
      "source": [
        "무한대로 수를 넣으면 가능하겠지만 컴퓨터는 이를 0.9라고 정확하게 읽지 않는다.\n",
        "<br> 이 때문에 0.1을 물론이고 0.2와 같은 소수는 이진수로 표현이 불가능하다"
      ]
    }
  ]
}