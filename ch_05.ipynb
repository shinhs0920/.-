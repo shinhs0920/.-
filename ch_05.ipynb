{
  "nbformat": 4,
  "nbformat_minor": 0,
  "metadata": {
    "colab": {
      "name": "ch.05.ipynb",
      "provenance": [],
      "collapsed_sections": [],
      "toc_visible": true,
      "include_colab_link": true
    },
    "kernelspec": {
      "name": "python3",
      "display_name": "Python 3"
    }
  },
  "cells": [
    {
      "cell_type": "markdown",
      "metadata": {
        "id": "view-in-github",
        "colab_type": "text"
      },
      "source": [
        "<a href=\"https://colab.research.google.com/github/shinhs0920/Engineering-computing-application/blob/master/ch_05.ipynb\" target=\"_parent\"><img src=\"https://colab.research.google.com/assets/colab-badge.svg\" alt=\"Open In Colab\"/></a>"
      ]
    },
    {
      "cell_type": "markdown",
      "metadata": {
        "id": "51_aD1ffxhGP",
        "colab_type": "text"
      },
      "source": [
        "# 5장 연습문제"
      ]
    },
    {
      "cell_type": "markdown",
      "metadata": {
        "id": "MYSVDuphxkRV",
        "colab_type": "text"
      },
      "source": [
        "## Q1.\n",
        "### 다음은 Calculator 클래스이다."
      ]
    },
    {
      "cell_type": "code",
      "metadata": {
        "id": "y-9Q3CWax9kL",
        "colab_type": "code",
        "colab": {}
      },
      "source": [
        "class Calculator:\n",
        "    def __init__(self):\n",
        "        self.value = 0\n",
        "\n",
        "    def add(self, val):\n",
        "        self.value += val"
      ],
      "execution_count": 0,
      "outputs": []
    },
    {
      "cell_type": "code",
      "metadata": {
        "id": "CNc8dq22yw8v",
        "colab_type": "code",
        "colab": {}
      },
      "source": [
        "cal = UpgradeCalculator()\n",
        "cal.add(10)\n",
        "cal.minus(7)\n",
        "\n",
        "print(cal.value) # 10에서 7을 뺀 3을 출력"
      ],
      "execution_count": 0,
      "outputs": []
    },
    {
      "cell_type": "markdown",
      "metadata": {
        "id": "tb5Nxkoqx8FL",
        "colab_type": "text"
      },
      "source": [
        "위 클래스를 상속하는 UpgradeCalculator를 만들고 값을 뺄 수 있는 minus 메서드를 추가해 보자. 즉 다음과 같이 동작하는 클래스를 만들어야 한다."
      ]
    },
    {
      "cell_type": "code",
      "metadata": {
        "id": "AAKlevcOyBYs",
        "colab_type": "code",
        "colab": {}
      },
      "source": [
        "class UpgradeCalculator(Calculator):\n",
        "    def minus(self, val):\n",
        "        self.value -= val"
      ],
      "execution_count": 0,
      "outputs": []
    },
    {
      "cell_type": "code",
      "metadata": {
        "id": "KArqGoaIxjL8",
        "colab_type": "code",
        "outputId": "a5e13059-13ee-4e81-a1c6-88333a240d73",
        "colab": {
          "base_uri": "https://localhost:8080/",
          "height": 34
        }
      },
      "source": [
        "cal = UpgradeCalculator()\n",
        "cal.add(10)\n",
        "cal.minus(7)\n",
        "\n",
        "print(cal.value) "
      ],
      "execution_count": 0,
      "outputs": [
        {
          "output_type": "stream",
          "text": [
            "3\n"
          ],
          "name": "stdout"
        }
      ]
    },
    {
      "cell_type": "markdown",
      "metadata": {
        "id": "HAPmNmSCydy4",
        "colab_type": "text"
      },
      "source": [
        "## Q2.\n",
        "### 객체변수 value가 100 이상의 값은 가질 수 없도록 제한하는 MaxKimitCalculator 클래스를 만들어보자. 즉 다음과 같이 동작해야 한다."
      ]
    },
    {
      "cell_type": "code",
      "metadata": {
        "id": "tjzOTTZYybGi",
        "colab_type": "code",
        "colab": {}
      },
      "source": [
        "cal = MaxLimitCalculator()\n",
        "cal.add(50) # 50 더하기\n",
        "cal.add(60) # 60 더하기\n",
        "\n",
        "print(cal.value) # 100 출력"
      ],
      "execution_count": 0,
      "outputs": []
    },
    {
      "cell_type": "markdown",
      "metadata": {
        "id": "FNHPICN-yuvW",
        "colab_type": "text"
      },
      "source": [
        "단 반드시 다음과 같은 Calculator 클래스를 상속해서 만들어야 한다."
      ]
    },
    {
      "cell_type": "code",
      "metadata": {
        "id": "AiUnRlZby1FY",
        "colab_type": "code",
        "colab": {}
      },
      "source": [
        "class Calculator:\n",
        "    def __init__(self):\n",
        "        self.value = 0\n",
        "\n",
        "    def add(self, val):\n",
        "        self.value += val"
      ],
      "execution_count": 0,
      "outputs": []
    },
    {
      "cell_type": "markdown",
      "metadata": {
        "id": "efConVIVy7Q7",
        "colab_type": "text"
      },
      "source": [
        "Calculator 클래스를 상속하고 add 메서드를 오버라이딩하여 다음과 같은 클래스를 만든다."
      ]
    },
    {
      "cell_type": "code",
      "metadata": {
        "id": "HqBzq3jty4mK",
        "colab_type": "code",
        "colab": {}
      },
      "source": [
        "class MaxLimitCalculator(Calculator):\n",
        "    def add(self, val):\n",
        "        self.value += val\n",
        "        if self.value > 100:\n",
        "            self.value = 100"
      ],
      "execution_count": 0,
      "outputs": []
    },
    {
      "cell_type": "code",
      "metadata": {
        "id": "mLYuGlE6y94U",
        "colab_type": "code",
        "outputId": "df9afe29-b2f8-4f1f-99d4-f67b292bda67",
        "colab": {
          "base_uri": "https://localhost:8080/",
          "height": 34
        }
      },
      "source": [
        "cal = MaxLimitCalculator()\n",
        "cal.add(50) \n",
        "cal.add(60)\n",
        "\n",
        "print(cal.value)"
      ],
      "execution_count": 0,
      "outputs": [
        {
          "output_type": "stream",
          "text": [
            "100\n"
          ],
          "name": "stdout"
        }
      ]
    },
    {
      "cell_type": "markdown",
      "metadata": {
        "id": "L3-UNT4ezDSO",
        "colab_type": "text"
      },
      "source": [
        "## Q3.\n",
        "### 다음 결과를 예측해 보자."
      ]
    },
    {
      "cell_type": "markdown",
      "metadata": {
        "id": "wot7ET5EzHDe",
        "colab_type": "text"
      },
      "source": [
        "하나."
      ]
    },
    {
      "cell_type": "code",
      "metadata": {
        "id": "GPihELzBzKQg",
        "colab_type": "code",
        "outputId": "5e7dff72-9c97-4b07-9790-70b7abf274ca",
        "colab": {
          "base_uri": "https://localhost:8080/",
          "height": 34
        }
      },
      "source": [
        "all([1, 2, abs(-3)-3])"
      ],
      "execution_count": 0,
      "outputs": [
        {
          "output_type": "execute_result",
          "data": {
            "text/plain": [
              "False"
            ]
          },
          "metadata": {
            "tags": []
          },
          "execution_count": 8
        }
      ]
    },
    {
      "cell_type": "markdown",
      "metadata": {
        "id": "swofqAn9zQ1w",
        "colab_type": "text"
      },
      "source": [
        "abs(-3)은 -3의 절댓값이므로 3이 되어 all([1, 2, 0])이 되고, 리스트의 요솟값중 0이 있기 때문에 all 내장 함수의 결과는 False가 된다."
      ]
    },
    {
      "cell_type": "markdown",
      "metadata": {
        "id": "gBjs_TU-zNG_",
        "colab_type": "text"
      },
      "source": [
        "둘."
      ]
    },
    {
      "cell_type": "code",
      "metadata": {
        "id": "QCWM0nwYzBPh",
        "colab_type": "code",
        "outputId": "154e45cc-7e49-48dd-b51f-a09cc3e2c597",
        "colab": {
          "base_uri": "https://localhost:8080/",
          "height": 34
        }
      },
      "source": [
        "chr(ord('a')) == 'a'"
      ],
      "execution_count": 0,
      "outputs": [
        {
          "output_type": "execute_result",
          "data": {
            "text/plain": [
              "True"
            ]
          },
          "metadata": {
            "tags": []
          },
          "execution_count": 9
        }
      ]
    },
    {
      "cell_type": "markdown",
      "metadata": {
        "id": "pT62MoH-zP8b",
        "colab_type": "text"
      },
      "source": [
        "ord('a') 의 결과는 97이 되어 chr(97)로 치환된다. chr(97)의 결과는 다시 'a'가 되므로 'a' == 'a'가 되어 True를 돌려준다.\n",
        "\n"
      ]
    },
    {
      "cell_type": "markdown",
      "metadata": {
        "id": "R_teSD6czYdH",
        "colab_type": "text"
      },
      "source": [
        "## Q4.\n",
        "### filter와 lambda를 사용하여 리스트 [1, -2, 3, -5, 8, -3]에서 음수를 모두 제거해 보자.\n",
        "\n"
      ]
    },
    {
      "cell_type": "markdown",
      "metadata": {
        "id": "XJYdJBvXzdo0",
        "colab_type": "text"
      },
      "source": [
        "음수를 제거하기 위한 filter의 함수로 lambda 함수를 다음과 같이 만들어 실행한다."
      ]
    },
    {
      "cell_type": "code",
      "metadata": {
        "id": "Zo63W0V_zOok",
        "colab_type": "code",
        "outputId": "44c49b8f-b60d-4176-cdcf-18fb5c549d86",
        "colab": {
          "base_uri": "https://localhost:8080/",
          "height": 34
        }
      },
      "source": [
        "list(filter(lambda x:x>0, [1, -2, 3, -5, 8, -3]))"
      ],
      "execution_count": 0,
      "outputs": [
        {
          "output_type": "execute_result",
          "data": {
            "text/plain": [
              "[1, 3, 8]"
            ]
          },
          "metadata": {
            "tags": []
          },
          "execution_count": 10
        }
      ]
    },
    {
      "cell_type": "markdown",
      "metadata": {
        "id": "PlW6-7UJzjel",
        "colab_type": "text"
      },
      "source": [
        "## Q5.\n",
        "### 234라는 10진수의 16진수는 다음과 같이 구할 수 있다."
      ]
    },
    {
      "cell_type": "code",
      "metadata": {
        "id": "8RLpEiwXzhns",
        "colab_type": "code",
        "outputId": "ec788f6d-f720-4a8e-f0f9-9ca595b8e7dc",
        "colab": {
          "base_uri": "https://localhost:8080/",
          "height": 34
        }
      },
      "source": [
        "hex(234)"
      ],
      "execution_count": 0,
      "outputs": [
        {
          "output_type": "execute_result",
          "data": {
            "text/plain": [
              "'0xea'"
            ]
          },
          "metadata": {
            "tags": []
          },
          "execution_count": 11
        }
      ]
    },
    {
      "cell_type": "markdown",
      "metadata": {
        "id": "BONfcdt5zonM",
        "colab_type": "text"
      },
      "source": [
        "이번에는 반대로 16진수 문자열 0xea를 10진수로 변경해 보자.\n",
        "\n"
      ]
    },
    {
      "cell_type": "markdown",
      "metadata": {
        "id": "_DA_cNY_zq2c",
        "colab_type": "text"
      },
      "source": [
        "int 내장 함수를 다음과 같이 실행한다.\n",
        "\n"
      ]
    },
    {
      "cell_type": "code",
      "metadata": {
        "id": "jImkvdDCznvi",
        "colab_type": "code",
        "outputId": "57493708-c187-4ddd-93d8-707e0ae893ed",
        "colab": {
          "base_uri": "https://localhost:8080/",
          "height": 34
        }
      },
      "source": [
        "int('0xea', 16)"
      ],
      "execution_count": 0,
      "outputs": [
        {
          "output_type": "execute_result",
          "data": {
            "text/plain": [
              "234"
            ]
          },
          "metadata": {
            "tags": []
          },
          "execution_count": 12
        }
      ]
    },
    {
      "cell_type": "markdown",
      "metadata": {
        "id": "sdFGM9Arztsz",
        "colab_type": "text"
      },
      "source": [
        "## Q6.\n",
        "### map과 lambda를 사용하여 [1, 2, 3, 4] 리스트의 각 요솟값에 3이 곱해진 리스트 [3, 6, 9, 12]를 만들어 보자.\n",
        "\n"
      ]
    },
    {
      "cell_type": "markdown",
      "metadata": {
        "id": "A2M9fLeYzx-m",
        "colab_type": "text"
      },
      "source": [
        "입력에 항상 3을 곱하여 돌려 주는 lambda 함수를 다음과 같이 만들고 map과 조합하여 실행한다.\n",
        "\n"
      ]
    },
    {
      "cell_type": "code",
      "metadata": {
        "id": "VK_pbDIbzmmn",
        "colab_type": "code",
        "outputId": "2d086295-5605-42ca-8065-ccde8d6bde09",
        "colab": {
          "base_uri": "https://localhost:8080/",
          "height": 34
        }
      },
      "source": [
        "list(map(lambda x:x*3, [1,2,3,4]))"
      ],
      "execution_count": 0,
      "outputs": [
        {
          "output_type": "execute_result",
          "data": {
            "text/plain": [
              "[3, 6, 9, 12]"
            ]
          },
          "metadata": {
            "tags": []
          },
          "execution_count": 13
        }
      ]
    },
    {
      "cell_type": "markdown",
      "metadata": {
        "id": "4RnJrXBpz1Zn",
        "colab_type": "text"
      },
      "source": [
        "## Q7.\n",
        "### 다음 리스트의 최댓값과 최솟값의 합을 구해 보자."
      ]
    },
    {
      "cell_type": "code",
      "metadata": {
        "id": "9gPCqoawzzQy",
        "colab_type": "code",
        "outputId": "4a2c0173-85e6-4480-e78e-cd859d985d2b",
        "colab": {
          "base_uri": "https://localhost:8080/",
          "height": 34
        }
      },
      "source": [
        "[-8, 2, 7, 5, -3, 5, 0, 1]"
      ],
      "execution_count": 0,
      "outputs": [
        {
          "output_type": "execute_result",
          "data": {
            "text/plain": [
              "[-8, 2, 7, 5, -3, 5, 0, 1]"
            ]
          },
          "metadata": {
            "tags": []
          },
          "execution_count": 14
        }
      ]
    },
    {
      "cell_type": "markdown",
      "metadata": {
        "id": "0dvDtfDXz6d2",
        "colab_type": "text"
      },
      "source": [
        "리스트의 최댓값은 max, 최솟값은 min 내장 함수를 사용하여 다음과 같이 구한다.\n",
        "\n"
      ]
    },
    {
      "cell_type": "code",
      "metadata": {
        "id": "a_H-hXxYz5FG",
        "colab_type": "code",
        "outputId": "69a34dae-a07e-4204-bd7f-c6d10b75a213",
        "colab": {
          "base_uri": "https://localhost:8080/",
          "height": 34
        }
      },
      "source": [
        "a = [-8, 2, 7, 5, -3, 5, 0, 1]\n",
        "max(a) + min(a)"
      ],
      "execution_count": 0,
      "outputs": [
        {
          "output_type": "execute_result",
          "data": {
            "text/plain": [
              "-1"
            ]
          },
          "metadata": {
            "tags": []
          },
          "execution_count": 15
        }
      ]
    },
    {
      "cell_type": "markdown",
      "metadata": {
        "id": "h431WJkVz-Of",
        "colab_type": "text"
      },
      "source": [
        "## Q8.\n",
        "### 17 / 3의 결과는 다음과 같다.\n"
      ]
    },
    {
      "cell_type": "code",
      "metadata": {
        "id": "fYHCyvlsz8cr",
        "colab_type": "code",
        "outputId": "2a4bd953-33ac-4495-a0d8-a5ff3d5fb2e6",
        "colab": {
          "base_uri": "https://localhost:8080/",
          "height": 34
        }
      },
      "source": [
        "17 / 3"
      ],
      "execution_count": 0,
      "outputs": [
        {
          "output_type": "execute_result",
          "data": {
            "text/plain": [
              "5.666666666666667"
            ]
          },
          "metadata": {
            "tags": []
          },
          "execution_count": 16
        }
      ]
    },
    {
      "cell_type": "markdown",
      "metadata": {
        "id": "wPe-G_Qv0CTf",
        "colab_type": "text"
      },
      "source": [
        "위와 같은 결괏값 5.666666666666667을 소숫점 4자리까지만 반올림하여 표시해 보자.\n",
        "\n"
      ]
    },
    {
      "cell_type": "markdown",
      "metadata": {
        "id": "tJEriBF80FA4",
        "colab_type": "text"
      },
      "source": [
        "round 내장 함수를 사용하면 다음과 같이 반올림하여 소수점 4자리까지 표시할 수 있다.\n",
        "\n"
      ]
    },
    {
      "cell_type": "code",
      "metadata": {
        "id": "HywihTi70Co_",
        "colab_type": "code",
        "outputId": "497a443e-6de6-4eb8-c43d-673e55be67a3",
        "colab": {
          "base_uri": "https://localhost:8080/",
          "height": 34
        }
      },
      "source": [
        "round(17/3, 4)"
      ],
      "execution_count": 0,
      "outputs": [
        {
          "output_type": "execute_result",
          "data": {
            "text/plain": [
              "5.6667"
            ]
          },
          "metadata": {
            "tags": []
          },
          "execution_count": 17
        }
      ]
    },
    {
      "cell_type": "markdown",
      "metadata": {
        "id": "NZglA-np0Jcn",
        "colab_type": "text"
      },
      "source": [
        "## Q9.\n",
        "### 다음과 같이 실행할 때 입력값을 모두 더하여 출력하는 스크립트(C:\\doit\\myargv.py)를 작성해 보자.\n"
      ]
    },
    {
      "cell_type": "code",
      "metadata": {
        "id": "cVO8MYMxYoJk",
        "colab_type": "code",
        "outputId": "adaa2597-daac-4505-cf4d-30af9961d8bf",
        "colab": {
          "base_uri": "https://localhost:8080/",
          "height": 34
        }
      },
      "source": [
        "myargv=sys.argv\n",
        "sys.argv=[myargv,1,2,3,4,5,6,7,8,9,10]\n",
        "import sys\n",
        "\n",
        "numbers = sys.argv[1:] \n",
        "result = 0\n",
        "for number in numbers:\n",
        "    result += int(number)\n",
        "print(result)"
      ],
      "execution_count": 163,
      "outputs": [
        {
          "output_type": "stream",
          "text": [
            "55\n"
          ],
          "name": "stdout"
        }
      ]
    },
    {
      "cell_type": "markdown",
      "metadata": {
        "id": "7QWOs__qXUPQ",
        "colab_type": "text"
      },
      "source": [
        "## Q10.\n",
        "### os 모듈을 사용하여 다음과 같이 동작하도록 코드를 작성해 보자.\n",
        "\n",
        "<br>1.C:\\doit 디렉터리로 이동한다.\n",
        "<br>2.dir 명령을 실행하고 그 결과를 변수에 담는다.\n",
        "<br>3.dir 명령의 결과를 출력한다.\n",
        "\n"
      ]
    },
    {
      "cell_type": "markdown",
      "metadata": {
        "id": "AaAxrH_HXiP2",
        "colab_type": "text"
      },
      "source": [
        "다음처럼 os 모듈의 chdir을 사용하여 C:\\doit 이라는 디렉터리로 이동한다.\n",
        "\n"
      ]
    },
    {
      "cell_type": "code",
      "metadata": {
        "id": "6slhlLydXhzs",
        "colab_type": "code",
        "colab": {}
      },
      "source": [
        "import os\n",
        "os.chdir(\"doit\")"
      ],
      "execution_count": 0,
      "outputs": []
    },
    {
      "cell_type": "markdown",
      "metadata": {
        "id": "sXSUb5e1Xn7D",
        "colab_type": "text"
      },
      "source": [
        "그리고 다음처럼 os 모듈의 popen을 사용하여 시스템 명령어인 dir을 수행한다.\n",
        "\n"
      ]
    },
    {
      "cell_type": "code",
      "metadata": {
        "id": "8Bj8-BZ0XQkt",
        "colab_type": "code",
        "colab": {}
      },
      "source": [
        "result = os.popen(\"dir\")"
      ],
      "execution_count": 0,
      "outputs": []
    },
    {
      "cell_type": "markdown",
      "metadata": {
        "id": "lLcNGq9jXtX5",
        "colab_type": "text"
      },
      "source": [
        "popen의 결과를 출력하기 위해 다음과 같이 수행한다.\n"
      ]
    },
    {
      "cell_type": "code",
      "metadata": {
        "id": "5wbyUzNeXwNn",
        "colab_type": "code",
        "outputId": "6b5ca501-52b4-46f8-dad7-9e23d29b2a97",
        "colab": {
          "base_uri": "https://localhost:8080/",
          "height": 34
        }
      },
      "source": [
        "print(result.read())"
      ],
      "execution_count": 0,
      "outputs": [
        {
          "output_type": "stream",
          "text": [
            "\n"
          ],
          "name": "stdout"
        }
      ]
    },
    {
      "cell_type": "markdown",
      "metadata": {
        "id": "3x6GzUWoX9FZ",
        "colab_type": "text"
      },
      "source": [
        "## Q11.\n",
        "### glob 모듈을 사용하여 C:\\doit 디렉터리의 파일 중 확장자가 .py인 파일만 출력하는 프로그램을 작성해 보자.\n",
        "\n",
        "\n"
      ]
    },
    {
      "cell_type": "markdown",
      "metadata": {
        "id": "13IYhvGOYB3p",
        "colab_type": "text"
      },
      "source": [
        "다음과 같이 glob 모듈을 사용한다.\n",
        "\n"
      ]
    },
    {
      "cell_type": "code",
      "metadata": {
        "id": "y5pha6deXzmv",
        "colab_type": "code",
        "outputId": "e6a189e1-916a-40f1-a6d6-7aebe1b9a382",
        "colab": {
          "base_uri": "https://localhost:8080/",
          "height": 34
        }
      },
      "source": [
        "import glob\n",
        ">>> glob.glob(\"doit/*.py\")\n",
        "['doit/doit01.py', 'doit/test.py']"
      ],
      "execution_count": 0,
      "outputs": [
        {
          "output_type": "execute_result",
          "data": {
            "text/plain": [
              "['doit/doit01.py', 'doit/test.py']"
            ]
          },
          "metadata": {
            "tags": []
          },
          "execution_count": 150
        }
      ]
    },
    {
      "cell_type": "markdown",
      "metadata": {
        "id": "NUCr3_ZBYH58",
        "colab_type": "text"
      },
      "source": [
        "## Q12.\n",
        "### time 모듈을 사용하여 현재 날짜와 시간을 다음과 같은 형식으로 출력해 보자.\n",
        "\n"
      ]
    },
    {
      "cell_type": "markdown",
      "metadata": {
        "id": "LXq_7mOHYNSH",
        "colab_type": "text"
      },
      "source": [
        "time 모듈의 strftime을 사용하여 다음과 같이 작성한다.\n",
        "\n"
      ]
    },
    {
      "cell_type": "code",
      "metadata": {
        "id": "n45-gZ3dYFF6",
        "colab_type": "code",
        "outputId": "e9c7b3a6-9663-49f1-dfdf-8184653e674a",
        "colab": {
          "base_uri": "https://localhost:8080/",
          "height": 34
        }
      },
      "source": [
        "import time\n",
        "time.strftime(\"%Y/%m/%d %H:%M:%S\")  "
      ],
      "execution_count": 0,
      "outputs": [
        {
          "output_type": "execute_result",
          "data": {
            "text/plain": [
              "'2019/10/09 16:36:48'"
            ]
          },
          "metadata": {
            "tags": []
          },
          "execution_count": 152
        }
      ]
    },
    {
      "cell_type": "markdown",
      "metadata": {
        "id": "YNLVtIzjYamL",
        "colab_type": "text"
      },
      "source": [
        "## Q13.\n",
        "### random 모듈을 사용하여 로또 번호(1~45 사이의 숫자 6개)를 생성해 보자.\n",
        "\n",
        "\n"
      ]
    },
    {
      "cell_type": "markdown",
      "metadata": {
        "id": "FUf5BaipYeIB",
        "colab_type": "text"
      },
      "source": [
        "random 모듈의 randint를 사용하여 다음과 같이 작성한다.\n",
        "\n"
      ]
    },
    {
      "cell_type": "code",
      "metadata": {
        "id": "QLtizPOyYSyI",
        "colab_type": "code",
        "outputId": "893db1d6-a2de-41ee-b20b-604becb64c63",
        "colab": {
          "base_uri": "https://localhost:8080/",
          "height": 34
        }
      },
      "source": [
        "import random\n",
        "\n",
        "result = []\n",
        "while len(result) < 6:\n",
        "    num = random.randint(1, 45)\n",
        "    if num not in result:\n",
        "        result.append(num)\n",
        "\n",
        "print(result)"
      ],
      "execution_count": 0,
      "outputs": [
        {
          "output_type": "stream",
          "text": [
            "[12, 24, 40, 44, 21, 33]\n"
          ],
          "name": "stdout"
        }
      ]
    },
    {
      "cell_type": "code",
      "metadata": {
        "id": "gHFLVSW5YgY7",
        "colab_type": "code",
        "colab": {}
      },
      "source": [
        ""
      ],
      "execution_count": 0,
      "outputs": []
    }
  ]
}