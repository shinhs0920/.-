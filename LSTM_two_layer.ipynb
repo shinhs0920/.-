{
  "nbformat": 4,
  "nbformat_minor": 0,
  "metadata": {
    "colab": {
      "name": "LSTM-two layer",
      "provenance": [],
      "collapsed_sections": [],
      "include_colab_link": true
    },
    "kernelspec": {
      "name": "python3",
      "display_name": "Python 3"
    }
  },
  "cells": [
    {
      "cell_type": "markdown",
      "metadata": {
        "id": "view-in-github",
        "colab_type": "text"
      },
      "source": [
        "<a href=\"https://colab.research.google.com/github/shinhs0920/Engineering-computing-application/blob/master/LSTM_two_layer.ipynb\" target=\"_parent\"><img src=\"https://colab.research.google.com/assets/colab-badge.svg\" alt=\"Open In Colab\"/></a>"
      ]
    },
    {
      "cell_type": "code",
      "metadata": {
        "id": "VRi9tw9ORf2B",
        "colab_type": "code",
        "outputId": "cfa31a64-9c34-45be-b087-86329d938947",
        "colab": {
          "base_uri": "https://localhost:8080/",
          "height": 125
        }
      },
      "source": [
        "try:\n",
        "\n",
        "    %tensorflow_version 2.x  # %tensorflow_version only exists in Colab\n",
        "\n",
        "except Exception:\n",
        "\n",
        "    pass"
      ],
      "execution_count": 4,
      "outputs": [
        {
          "output_type": "stream",
          "text": [
            "`%tensorflow_version` only switches the major version: `1.x` or `2.x`.\n",
            "You set: `2.x  # %tensorflow_version only exists in Colab`. This will be interpreted as: `2.x`.\n",
            "\n",
            "\n",
            "TensorFlow is already loaded. Please restart the runtime to change versions.\n"
          ],
          "name": "stdout"
        }
      ]
    },
    {
      "cell_type": "code",
      "metadata": {
        "id": "louO_Q-6tpKw",
        "colab_type": "code",
        "outputId": "217a13cc-df1d-4b55-d899-34c4c1b14497",
        "colab": {
          "base_uri": "https://localhost:8080/",
          "height": 34
        }
      },
      "source": [
        "import tensorflow as tf\n",
        "tf.__version__"
      ],
      "execution_count": 5,
      "outputs": [
        {
          "output_type": "execute_result",
          "data": {
            "text/plain": [
              "'2.0.0'"
            ]
          },
          "metadata": {
            "tags": []
          },
          "execution_count": 5
        }
      ]
    },
    {
      "cell_type": "markdown",
      "metadata": {
        "id": "FiuVkUX-1nkx",
        "colab_type": "text"
      },
      "source": [
        "---\n",
        "> ### 텐서플로로 LSTM 순환 신경망 만들기"
      ]
    },
    {
      "cell_type": "markdown",
      "metadata": {
        "id": "5jIsHMeUODfb",
        "colab_type": "text"
      },
      "source": [
        "먼저 LSTM을 한층만 설계하여 진행한 후 LSTM을 한 층 더 추가하여 정확도를 비교하겠습니다."
      ]
    },
    {
      "cell_type": "code",
      "metadata": {
        "id": "NPqjzHmCuE1e",
        "colab_type": "code",
        "outputId": "eaf84a48-b880-4e9a-ace6-329fa5141b0e",
        "colab": {
          "base_uri": "https://localhost:8080/",
          "height": 263
        }
      },
      "source": [
        "from tensorflow.keras.models import Sequential\n",
        "from tensorflow.keras.layers import Embedding\n",
        "from tensorflow.keras.layers import Dense\n",
        "from tensorflow.keras.layers import LSTM\n",
        "\n",
        "model_lstm = Sequential()\n",
        "\n",
        "model_lstm.add(Embedding(1000,32))\n",
        "model_lstm.add(LSTM(8))\n",
        "model_lstm.add(Dense(1, activation='sigmoid'))\n",
        "\n",
        "model_lstm.summary()"
      ],
      "execution_count": 6,
      "outputs": [
        {
          "output_type": "stream",
          "text": [
            "Model: \"sequential_1\"\n",
            "_________________________________________________________________\n",
            "Layer (type)                 Output Shape              Param #   \n",
            "=================================================================\n",
            "embedding_1 (Embedding)      (None, None, 32)          32000     \n",
            "_________________________________________________________________\n",
            "lstm_1 (LSTM)                (None, 8)                 1312      \n",
            "_________________________________________________________________\n",
            "dense_1 (Dense)              (None, 1)                 9         \n",
            "=================================================================\n",
            "Total params: 33,321\n",
            "Trainable params: 33,321\n",
            "Non-trainable params: 0\n",
            "_________________________________________________________________\n"
          ],
          "name": "stdout"
        }
      ]
    },
    {
      "cell_type": "markdown",
      "metadata": {
        "id": "zNHmts_dOQm-",
        "colab_type": "text"
      },
      "source": [
        "LSTM을 한 층으로 모델을 설정하였습니다."
      ]
    },
    {
      "cell_type": "markdown",
      "metadata": {
        "id": "oYWNYver4bx0",
        "colab_type": "text"
      },
      "source": [
        "10번의 에포크 동안 Adam 최적화 알고리즘을 사용하여 모델을 훈련했습니다."
      ]
    },
    {
      "cell_type": "code",
      "metadata": {
        "id": "9LK8imQt6MNr",
        "colab_type": "code",
        "colab": {
          "base_uri": "https://localhost:8080/",
          "height": 72
        },
        "outputId": "d59e532a-f4b3-4d98-a7a4-b362e4ed74dc"
      },
      "source": [
        "from tensorflow.keras.datasets import imdb\n",
        "(x_train_all, y_train_all), (x_test, y_test)=imdb.load_data(skip_top=20, num_words=1000)\n",
        "# 앞과 마찬가지로 단어 1000개\n",
        "\n",
        "for i in range(len(x_train_all)):\n",
        "  x_train_all[i]=[w for w in x_train_all[i] if w>2]\n",
        "\n",
        "import numpy as np\n",
        "np.random.seed(42)\n",
        "random_index=np.random.permutation(25000)\n",
        "\n",
        "x_train=x_train_all[random_index[:20000]]\n",
        "y_train=y_train_all[random_index[:20000]]\n",
        "x_val=x_train_all[random_index[20000:]]\n",
        "y_val=y_train_all[random_index[20000:]]\n",
        "\n"
      ],
      "execution_count": 7,
      "outputs": [
        {
          "output_type": "stream",
          "text": [
            "Downloading data from https://storage.googleapis.com/tensorflow/tf-keras-datasets/imdb.npz\n",
            "17465344/17464789 [==============================] - 0s 0us/step\n"
          ],
          "name": "stdout"
        }
      ]
    },
    {
      "cell_type": "code",
      "metadata": {
        "id": "GsvvmK3b92CN",
        "colab_type": "code",
        "colab": {}
      },
      "source": [
        "from tensorflow.keras.preprocessing import sequence\n",
        "\n",
        "maxlen=100\n",
        "x_train_seq = sequence.pad_sequences(x_train, maxlen=maxlen)\n",
        "x_val_seq = sequence.pad_sequences(x_val, maxlen=maxlen)"
      ],
      "execution_count": 0,
      "outputs": []
    },
    {
      "cell_type": "code",
      "metadata": {
        "id": "jDvh65mY2rZY",
        "colab_type": "code",
        "outputId": "e56478f5-e19d-431b-d1ce-6e65321b2f64",
        "colab": {
          "base_uri": "https://localhost:8080/",
          "height": 406
        }
      },
      "source": [
        "model_lstm.compile(optimizer='adam', loss='binary_crossentropy', metrics=['accuracy'])\n",
        "history=model_lstm.fit(x_train_seq, y_train, epochs=10, batch_size=32, validation_data=(x_val_seq, y_val))"
      ],
      "execution_count": 9,
      "outputs": [
        {
          "output_type": "stream",
          "text": [
            "Train on 20000 samples, validate on 5000 samples\n",
            "Epoch 1/10\n",
            "20000/20000 [==============================] - 28s 1ms/sample - loss: 0.4473 - accuracy: 0.8023 - val_loss: 0.3727 - val_accuracy: 0.8428\n",
            "Epoch 2/10\n",
            "20000/20000 [==============================] - 24s 1ms/sample - loss: 0.3321 - accuracy: 0.8595 - val_loss: 0.3647 - val_accuracy: 0.8460\n",
            "Epoch 3/10\n",
            "20000/20000 [==============================] - 24s 1ms/sample - loss: 0.3100 - accuracy: 0.8706 - val_loss: 0.3545 - val_accuracy: 0.8456\n",
            "Epoch 4/10\n",
            "20000/20000 [==============================] - 24s 1ms/sample - loss: 0.2934 - accuracy: 0.8774 - val_loss: 0.3621 - val_accuracy: 0.8456\n",
            "Epoch 5/10\n",
            "20000/20000 [==============================] - 23s 1ms/sample - loss: 0.2798 - accuracy: 0.8834 - val_loss: 0.3704 - val_accuracy: 0.8394\n",
            "Epoch 6/10\n",
            "20000/20000 [==============================] - 23s 1ms/sample - loss: 0.2652 - accuracy: 0.8888 - val_loss: 0.3866 - val_accuracy: 0.8436\n",
            "Epoch 7/10\n",
            "20000/20000 [==============================] - 23s 1ms/sample - loss: 0.2529 - accuracy: 0.8933 - val_loss: 0.4110 - val_accuracy: 0.8326\n",
            "Epoch 8/10\n",
            "20000/20000 [==============================] - 24s 1ms/sample - loss: 0.2381 - accuracy: 0.9007 - val_loss: 0.4091 - val_accuracy: 0.8362\n",
            "Epoch 9/10\n",
            "20000/20000 [==============================] - 24s 1ms/sample - loss: 0.2312 - accuracy: 0.9054 - val_loss: 0.4493 - val_accuracy: 0.8392\n",
            "Epoch 10/10\n",
            "20000/20000 [==============================] - 24s 1ms/sample - loss: 0.2247 - accuracy: 0.9065 - val_loss: 0.4230 - val_accuracy: 0.8332\n"
          ],
          "name": "stdout"
        }
      ]
    },
    {
      "cell_type": "markdown",
      "metadata": {
        "id": "W3aUxpwZ_ro_",
        "colab_type": "text"
      },
      "source": [
        "##### 정확도를 확인합니다."
      ]
    },
    {
      "cell_type": "code",
      "metadata": {
        "id": "jYV-VrPR7RLb",
        "colab_type": "code",
        "outputId": "a5f81aed-0ade-4e4a-af0a-c1323a212427",
        "colab": {
          "base_uri": "https://localhost:8080/",
          "height": 34
        }
      },
      "source": [
        "loss, accuracy = model_lstm.evaluate(x_val_seq, y_val, verbose=0)\n",
        "print(accuracy)"
      ],
      "execution_count": 12,
      "outputs": [
        {
          "output_type": "stream",
          "text": [
            "0.8332\n"
          ],
          "name": "stdout"
        }
      ]
    },
    {
      "cell_type": "markdown",
      "metadata": {
        "id": "F5-NTqmk_RFV",
        "colab_type": "text"
      },
      "source": [
        "검증 세트의 정확도가 83.32% 입니다."
      ]
    },
    {
      "cell_type": "markdown",
      "metadata": {
        "id": "oD-K8K38IDP0",
        "colab_type": "text"
      },
      "source": [
        "###다음은 LSTM을 한 층 더 추가하여 두개의 층으로 실행하겠습니다."
      ]
    },
    {
      "cell_type": "code",
      "metadata": {
        "id": "DPgu6rhsIDYT",
        "colab_type": "code",
        "colab": {
          "base_uri": "https://localhost:8080/",
          "height": 298
        },
        "outputId": "ce09e7fb-f7b9-4832-e557-930e90b23b9d"
      },
      "source": [
        "from tensorflow.keras.models import Sequential\n",
        "from tensorflow.keras.layers import Embedding\n",
        "from tensorflow.keras.layers import Dense\n",
        "from tensorflow.keras.layers import LSTM\n",
        "\n",
        "model_lstm = Sequential()\n",
        "model_lstm.add(Embedding(1000,32))\n",
        "model_lstm.add(LSTM(8, return_sequences=True))\n",
        "model_lstm.add(LSTM(4,return_sequences=False))\n",
        "model_lstm.add(Dense(1, activation='sigmoid'))\n",
        "\n",
        "model_lstm.summary()"
      ],
      "execution_count": 24,
      "outputs": [
        {
          "output_type": "stream",
          "text": [
            "Model: \"sequential_12\"\n",
            "_________________________________________________________________\n",
            "Layer (type)                 Output Shape              Param #   \n",
            "=================================================================\n",
            "embedding_12 (Embedding)     (None, None, 32)          32000     \n",
            "_________________________________________________________________\n",
            "lstm_11 (LSTM)               (None, None, 8)           1312      \n",
            "_________________________________________________________________\n",
            "lstm_12 (LSTM)               (None, 4)                 208       \n",
            "_________________________________________________________________\n",
            "dense_3 (Dense)              (None, 1)                 5         \n",
            "=================================================================\n",
            "Total params: 33,525\n",
            "Trainable params: 33,525\n",
            "Non-trainable params: 0\n",
            "_________________________________________________________________\n"
          ],
          "name": "stdout"
        }
      ]
    },
    {
      "cell_type": "markdown",
      "metadata": {
        "id": "XWWaTIv9Ojk4",
        "colab_type": "text"
      },
      "source": [
        "return_sequences를 이용하여 LSTM을 한 층 더 추가하여 총 2층의 LSTM을 설계하였습니다."
      ]
    },
    {
      "cell_type": "code",
      "metadata": {
        "id": "6cN8p0jUIfam",
        "colab_type": "code",
        "colab": {}
      },
      "source": [
        "from tensorflow.keras.datasets import imdb\n",
        "(x_train_all, y_train_all), (x_test, y_test)=imdb.load_data(skip_top=20, num_words=1000)\n",
        "# 앞과 마찬가지로 단어 1000개\n",
        "\n",
        "for i in range(len(x_train_all)):\n",
        "  x_train_all[i]=[w for w in x_train_all[i] if w>2]\n",
        "\n",
        "import numpy as np\n",
        "np.random.seed(42)\n",
        "random_index=np.random.permutation(25000)\n",
        "\n",
        "x_train=x_train_all[random_index[:20000]]\n",
        "y_train=y_train_all[random_index[:20000]]\n",
        "x_val=x_train_all[random_index[20000:]]\n",
        "y_val=y_train_all[random_index[20000:]]\n"
      ],
      "execution_count": 0,
      "outputs": []
    },
    {
      "cell_type": "code",
      "metadata": {
        "id": "V48zqQJRLTTz",
        "colab_type": "code",
        "colab": {}
      },
      "source": [
        "from tensorflow.keras.preprocessing import sequence\n",
        "\n",
        "maxlen=100\n",
        "x_train_seq = sequence.pad_sequences(x_train, maxlen=maxlen)\n",
        "x_val_seq = sequence.pad_sequences(x_val, maxlen=maxlen)"
      ],
      "execution_count": 0,
      "outputs": []
    },
    {
      "cell_type": "code",
      "metadata": {
        "id": "RVGC0mnfLW22",
        "colab_type": "code",
        "colab": {
          "base_uri": "https://localhost:8080/",
          "height": 406
        },
        "outputId": "104a3ec5-2bdf-494b-d8a1-0df76cd3e5ff"
      },
      "source": [
        "model_lstm.compile(optimizer='adam', loss='binary_crossentropy', metrics=['accuracy'])\n",
        "\n",
        "history=model_lstm.fit(x_train_seq, y_train, epochs=10, batch_size=32, validation_data=(x_val_seq, y_val))"
      ],
      "execution_count": 28,
      "outputs": [
        {
          "output_type": "stream",
          "text": [
            "Train on 20000 samples, validate on 5000 samples\n",
            "Epoch 1/10\n",
            "20000/20000 [==============================] - 51s 3ms/sample - loss: 0.4868 - accuracy: 0.7798 - val_loss: 0.3934 - val_accuracy: 0.8356\n",
            "Epoch 2/10\n",
            "20000/20000 [==============================] - 45s 2ms/sample - loss: 0.3511 - accuracy: 0.8553 - val_loss: 0.3593 - val_accuracy: 0.8448\n",
            "Epoch 3/10\n",
            "20000/20000 [==============================] - 45s 2ms/sample - loss: 0.3133 - accuracy: 0.8715 - val_loss: 0.3710 - val_accuracy: 0.8348\n",
            "Epoch 4/10\n",
            "20000/20000 [==============================] - 46s 2ms/sample - loss: 0.2914 - accuracy: 0.8837 - val_loss: 0.3650 - val_accuracy: 0.8430\n",
            "Epoch 5/10\n",
            "20000/20000 [==============================] - 46s 2ms/sample - loss: 0.2760 - accuracy: 0.8881 - val_loss: 0.3693 - val_accuracy: 0.8358\n",
            "Epoch 6/10\n",
            "20000/20000 [==============================] - 46s 2ms/sample - loss: 0.2619 - accuracy: 0.8935 - val_loss: 0.3803 - val_accuracy: 0.8402\n",
            "Epoch 7/10\n",
            "20000/20000 [==============================] - 46s 2ms/sample - loss: 0.2478 - accuracy: 0.9010 - val_loss: 0.3872 - val_accuracy: 0.8350\n",
            "Epoch 8/10\n",
            "20000/20000 [==============================] - 46s 2ms/sample - loss: 0.2334 - accuracy: 0.9080 - val_loss: 0.4177 - val_accuracy: 0.8430\n",
            "Epoch 9/10\n",
            "20000/20000 [==============================] - 45s 2ms/sample - loss: 0.2231 - accuracy: 0.9126 - val_loss: 0.4171 - val_accuracy: 0.8382\n",
            "Epoch 10/10\n",
            "20000/20000 [==============================] - 46s 2ms/sample - loss: 0.2120 - accuracy: 0.9184 - val_loss: 0.4308 - val_accuracy: 0.8374\n"
          ],
          "name": "stdout"
        }
      ]
    },
    {
      "cell_type": "markdown",
      "metadata": {
        "id": "Z7LGgOwrO1zx",
        "colab_type": "text"
      },
      "source": [
        "##### 정확도를 확인합니다."
      ]
    },
    {
      "cell_type": "code",
      "metadata": {
        "id": "VBZQVCa5LmJ3",
        "colab_type": "code",
        "colab": {
          "base_uri": "https://localhost:8080/",
          "height": 34
        },
        "outputId": "97338101-2b8b-47e3-8085-b76a728d0ae7"
      },
      "source": [
        "loss, accuracy = model_lstm.evaluate(x_val_seq, y_val, verbose=0)\n",
        "print(accuracy)"
      ],
      "execution_count": 31,
      "outputs": [
        {
          "output_type": "stream",
          "text": [
            "0.8374\n"
          ],
          "name": "stdout"
        }
      ]
    },
    {
      "cell_type": "markdown",
      "metadata": {
        "id": "vyABn1kvO2r3",
        "colab_type": "text"
      },
      "source": [
        "LSTM 층을 하나 더 추가하였더니 83.32%에서 83.74%로 정확도가 조금 상승한 것을 볼 수 있었습니다."
      ]
    }
  ]
}