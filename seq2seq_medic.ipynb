{
  "nbformat": 4,
  "nbformat_minor": 0,
  "metadata": {
    "colab": {
      "name": "medic1.ipynb",
      "provenance": [],
      "collapsed_sections": [],
      "include_colab_link": true
    },
    "kernelspec": {
      "name": "python3",
      "display_name": "Python 3"
    },
    "accelerator": "GPU"
  },
  "cells": [
    {
      "cell_type": "markdown",
      "metadata": {
        "id": "view-in-github",
        "colab_type": "text"
      },
      "source": [
        "<a href=\"https://colab.research.google.com/github/shinhs0920/Engineering-computing-application/blob/master/seq2seq_medic.ipynb\" target=\"_parent\"><img src=\"https://colab.research.google.com/assets/colab-badge.svg\" alt=\"Open In Colab\"/></a>"
      ]
    },
    {
      "cell_type": "markdown",
      "metadata": {
        "id": "PCl00uPJ-G8p",
        "colab_type": "text"
      },
      "source": [
        "##rdkit 설치"
      ]
    },
    {
      "cell_type": "code",
      "metadata": {
        "id": "2tj7Ec6wGCuC",
        "colab_type": "code",
        "colab": {}
      },
      "source": [
        "import os\n",
        "\n",
        "# For 현재 라이브러리를 실행합니다\n",
        "import sys\n",
        "sys.path.insert(0, \"../\")\n",
        "\n",
        "expr_root = os.path.expanduser(\"~/expr/unsup-seq2seq/\")\n",
        "data_root = os.path.join(expr_root, \"data\")\n",
        "\n",
        "if not os.path.exists(data_root):\n",
        "    os.makedirs(data_root)"
      ],
      "execution_count": 0,
      "outputs": []
    },
    {
      "cell_type": "markdown",
      "metadata": {
        "id": "hSczn6KfCOu1",
        "colab_type": "text"
      },
      "source": [
        "seq2seq에 필요한 rdkit를 설치합니다."
      ]
    },
    {
      "cell_type": "code",
      "metadata": {
        "id": "02YODIHhnQGu",
        "colab_type": "code",
        "colab": {}
      },
      "source": [
        "def DownloadRDkit():\n",
        "  !wget -c https://repo.continuum.io/miniconda/Miniconda3-latest-Linux-x86_64.sh\n",
        "  !chmod +x Miniconda3-latest-Linux-x86_64.sh\n",
        "  !time bash ./Miniconda3-latest-Linux-x86_64.sh -b -f -p /usr/local\n",
        "  !time conda install -q -y -c conda-forge rdkit"
      ],
      "execution_count": 0,
      "outputs": []
    },
    {
      "cell_type": "code",
      "metadata": {
        "id": "jH3B1rCXnRX2",
        "colab_type": "code",
        "colab": {
          "base_uri": "https://localhost:8080/",
          "height": 1000
        },
        "outputId": "ff2e836c-8ef6-41f7-f989-31f0bbf6573c"
      },
      "source": [
        "DownloadRDkit() # RDkit 다운로드\n",
        "%matplotlib inline\n",
        "import sys\n",
        "import os\n",
        "sys.path.append('/usr/local/lib/python3.7/site-packages/')"
      ],
      "execution_count": 3,
      "outputs": [
        {
          "output_type": "stream",
          "text": [
            "--2019-12-17 08:27:44--  https://repo.continuum.io/miniconda/Miniconda3-latest-Linux-x86_64.sh\n",
            "Resolving repo.continuum.io (repo.continuum.io)... 104.18.201.79, 104.18.200.79, 2606:4700::6812:c84f, ...\n",
            "Connecting to repo.continuum.io (repo.continuum.io)|104.18.201.79|:443... connected.\n",
            "HTTP request sent, awaiting response... 200 OK\n",
            "Length: 71785000 (68M) [application/x-sh]\n",
            "Saving to: ‘Miniconda3-latest-Linux-x86_64.sh’\n",
            "\n",
            "\r          Miniconda   0%[                    ]       0  --.-KB/s               \r         Miniconda3  42%[=======>            ]  29.01M   144MB/s               \rMiniconda3-latest-L 100%[===================>]  68.46M   176MB/s    in 0.4s    \n",
            "\n",
            "2019-12-17 08:27:44 (176 MB/s) - ‘Miniconda3-latest-Linux-x86_64.sh’ saved [71785000/71785000]\n",
            "\n",
            "PREFIX=/usr/local\n",
            "Unpacking payload ...\n",
            "Collecting package metadata (current_repodata.json): - \b\b\\ \b\bdone\n",
            "Solving environment: / \b\b- \b\bdone\n",
            "\n",
            "## Package Plan ##\n",
            "\n",
            "  environment location: /usr/local\n",
            "\n",
            "  added / updated specs:\n",
            "    - _libgcc_mutex==0.1=main\n",
            "    - asn1crypto==1.2.0=py37_0\n",
            "    - ca-certificates==2019.10.16=0\n",
            "    - certifi==2019.9.11=py37_0\n",
            "    - cffi==1.13.0=py37h2e261b9_0\n",
            "    - chardet==3.0.4=py37_1003\n",
            "    - conda-package-handling==1.6.0=py37h7b6447c_0\n",
            "    - conda==4.7.12=py37_0\n",
            "    - cryptography==2.8=py37h1ba5d50_0\n",
            "    - idna==2.8=py37_0\n",
            "    - libedit==3.1.20181209=hc058e9b_0\n",
            "    - libffi==3.2.1=hd88cf55_4\n",
            "    - libgcc-ng==9.1.0=hdf63c60_0\n",
            "    - libstdcxx-ng==9.1.0=hdf63c60_0\n",
            "    - ncurses==6.1=he6710b0_1\n",
            "    - openssl==1.1.1d=h7b6447c_3\n",
            "    - pip==19.3.1=py37_0\n",
            "    - pycosat==0.6.3=py37h14c3975_0\n",
            "    - pycparser==2.19=py37_0\n",
            "    - pyopenssl==19.0.0=py37_0\n",
            "    - pysocks==1.7.1=py37_0\n",
            "    - python==3.7.4=h265db76_1\n",
            "    - readline==7.0=h7b6447c_5\n",
            "    - requests==2.22.0=py37_0\n",
            "    - ruamel_yaml==0.15.46=py37h14c3975_0\n",
            "    - setuptools==41.4.0=py37_0\n",
            "    - six==1.12.0=py37_0\n",
            "    - sqlite==3.30.0=h7b6447c_0\n",
            "    - tk==8.6.8=hbc83047_0\n",
            "    - tqdm==4.36.1=py_0\n",
            "    - urllib3==1.24.2=py37_0\n",
            "    - wheel==0.33.6=py37_0\n",
            "    - xz==5.2.4=h14c3975_4\n",
            "    - yaml==0.1.7=had09818_2\n",
            "    - zlib==1.2.11=h7b6447c_3\n",
            "\n",
            "\n",
            "The following NEW packages will be INSTALLED:\n",
            "\n",
            "  _libgcc_mutex      pkgs/main/linux-64::_libgcc_mutex-0.1-main\n",
            "  asn1crypto         pkgs/main/linux-64::asn1crypto-1.2.0-py37_0\n",
            "  ca-certificates    pkgs/main/linux-64::ca-certificates-2019.10.16-0\n",
            "  certifi            pkgs/main/linux-64::certifi-2019.9.11-py37_0\n",
            "  cffi               pkgs/main/linux-64::cffi-1.13.0-py37h2e261b9_0\n",
            "  chardet            pkgs/main/linux-64::chardet-3.0.4-py37_1003\n",
            "  conda              pkgs/main/linux-64::conda-4.7.12-py37_0\n",
            "  conda-package-han~ pkgs/main/linux-64::conda-package-handling-1.6.0-py37h7b6447c_0\n",
            "  cryptography       pkgs/main/linux-64::cryptography-2.8-py37h1ba5d50_0\n",
            "  idna               pkgs/main/linux-64::idna-2.8-py37_0\n",
            "  libedit            pkgs/main/linux-64::libedit-3.1.20181209-hc058e9b_0\n",
            "  libffi             pkgs/main/linux-64::libffi-3.2.1-hd88cf55_4\n",
            "  libgcc-ng          pkgs/main/linux-64::libgcc-ng-9.1.0-hdf63c60_0\n",
            "  libstdcxx-ng       pkgs/main/linux-64::libstdcxx-ng-9.1.0-hdf63c60_0\n",
            "  ncurses            pkgs/main/linux-64::ncurses-6.1-he6710b0_1\n",
            "  openssl            pkgs/main/linux-64::openssl-1.1.1d-h7b6447c_3\n",
            "  pip                pkgs/main/linux-64::pip-19.3.1-py37_0\n",
            "  pycosat            pkgs/main/linux-64::pycosat-0.6.3-py37h14c3975_0\n",
            "  pycparser          pkgs/main/linux-64::pycparser-2.19-py37_0\n",
            "  pyopenssl          pkgs/main/linux-64::pyopenssl-19.0.0-py37_0\n",
            "  pysocks            pkgs/main/linux-64::pysocks-1.7.1-py37_0\n",
            "  python             pkgs/main/linux-64::python-3.7.4-h265db76_1\n",
            "  readline           pkgs/main/linux-64::readline-7.0-h7b6447c_5\n",
            "  requests           pkgs/main/linux-64::requests-2.22.0-py37_0\n",
            "  ruamel_yaml        pkgs/main/linux-64::ruamel_yaml-0.15.46-py37h14c3975_0\n",
            "  setuptools         pkgs/main/linux-64::setuptools-41.4.0-py37_0\n",
            "  six                pkgs/main/linux-64::six-1.12.0-py37_0\n",
            "  sqlite             pkgs/main/linux-64::sqlite-3.30.0-h7b6447c_0\n",
            "  tk                 pkgs/main/linux-64::tk-8.6.8-hbc83047_0\n",
            "  tqdm               pkgs/main/noarch::tqdm-4.36.1-py_0\n",
            "  urllib3            pkgs/main/linux-64::urllib3-1.24.2-py37_0\n",
            "  wheel              pkgs/main/linux-64::wheel-0.33.6-py37_0\n",
            "  xz                 pkgs/main/linux-64::xz-5.2.4-h14c3975_4\n",
            "  yaml               pkgs/main/linux-64::yaml-0.1.7-had09818_2\n",
            "  zlib               pkgs/main/linux-64::zlib-1.2.11-h7b6447c_3\n",
            "\n",
            "\n",
            "Preparing transaction: | \b\b/ \b\b- \b\bdone\n",
            "Executing transaction: | \b\b/ \b\b- \b\b\\ \b\b| \b\b/ \b\b- \b\b\\ \b\b| \b\b/ \b\b- \b\bdone\n",
            "installation finished.\n",
            "WARNING:\n",
            "    You currently have a PYTHONPATH environment variable set. This may cause\n",
            "    unexpected behavior when running the Python interpreter in Miniconda3.\n",
            "    For best results, please verify that your PYTHONPATH only points to\n",
            "    directories of packages that are compatible with the Python interpreter\n",
            "    in Miniconda3: /usr/local\n",
            "\n",
            "real\t0m13.697s\n",
            "user\t0m7.189s\n",
            "sys\t0m2.727s\n",
            "Collecting package metadata (current_repodata.json): ...working... done\n",
            "Solving environment: ...working... done\n",
            "\n",
            "## Package Plan ##\n",
            "\n",
            "  environment location: /usr/local\n",
            "\n",
            "  added / updated specs:\n",
            "    - rdkit\n",
            "\n",
            "\n",
            "The following packages will be downloaded:\n",
            "\n",
            "    package                    |            build\n",
            "    ---------------------------|-----------------\n",
            "    boost-1.70.0               |   py37h9de70de_1         337 KB  conda-forge\n",
            "    boost-cpp-1.70.0           |       h8e57a91_2        21.1 MB  conda-forge\n",
            "    bzip2-1.0.8                |       h516909a_2         396 KB  conda-forge\n",
            "    ca-certificates-2019.11.28 |       hecc5488_0         145 KB  conda-forge\n",
            "    cairo-1.16.0               |    hfb77d84_1002         1.5 MB  conda-forge\n",
            "    certifi-2019.11.28         |           py37_0         148 KB  conda-forge\n",
            "    conda-4.8.0                |           py37_1         3.0 MB  conda-forge\n",
            "    fontconfig-2.13.1          |    h86ecdb6_1001         340 KB  conda-forge\n",
            "    freetype-2.10.0            |       he983fc9_1         884 KB  conda-forge\n",
            "    gettext-0.19.8.1           |    hc5be6a0_1002         3.6 MB  conda-forge\n",
            "    glib-2.58.3                |py37h6f030ca_1002         3.3 MB  conda-forge\n",
            "    icu-64.2                   |       he1b5a44_1        12.6 MB  conda-forge\n",
            "    jpeg-9c                    |    h14c3975_1001         251 KB  conda-forge\n",
            "    libblas-3.8.0              |      14_openblas          10 KB  conda-forge\n",
            "    libcblas-3.8.0             |      14_openblas          10 KB  conda-forge\n",
            "    libgfortran-ng-7.3.0       |       hdf63c60_2         1.7 MB  conda-forge\n",
            "    libiconv-1.15              |    h516909a_1005         2.0 MB  conda-forge\n",
            "    liblapack-3.8.0            |      14_openblas          10 KB  conda-forge\n",
            "    libopenblas-0.3.7          |       h5ec1e0e_5         7.6 MB  conda-forge\n",
            "    libpng-1.6.37              |       hed695b0_0         343 KB  conda-forge\n",
            "    libtiff-4.1.0              |       hc3755c2_1         609 KB  conda-forge\n",
            "    libuuid-2.32.1             |    h14c3975_1000          26 KB  conda-forge\n",
            "    libxcb-1.13                |    h14c3975_1002         396 KB  conda-forge\n",
            "    libxml2-2.9.10             |       hee79883_0         1.3 MB  conda-forge\n",
            "    lz4-c-1.8.3                |    he1b5a44_1001         187 KB  conda-forge\n",
            "    numpy-1.17.3               |   py37h95a1406_0         5.1 MB  conda-forge\n",
            "    olefile-0.46               |             py_0          31 KB  conda-forge\n",
            "    openssl-1.1.1d             |       h516909a_0         2.1 MB  conda-forge\n",
            "    pandas-0.25.3              |   py37hb3f55d8_0        11.4 MB  conda-forge\n",
            "    pcre-8.43                  |       he1b5a44_0         257 KB  conda-forge\n",
            "    pillow-6.2.1               |   py37h34e0f95_0         643 KB\n",
            "    pixman-0.38.0              |    h516909a_1003         594 KB  conda-forge\n",
            "    pthread-stubs-0.4          |    h14c3975_1001           5 KB  conda-forge\n",
            "    pycairo-1.18.2             |   py37h438ddbb_0          77 KB  conda-forge\n",
            "    python-dateutil-2.8.1      |             py_0         220 KB  conda-forge\n",
            "    pytz-2019.3                |             py_0         237 KB  conda-forge\n",
            "    rdkit-2019.09.2            |   py37hb31dc5d_0        23.8 MB  conda-forge\n",
            "    xorg-kbproto-1.0.7         |    h14c3975_1002          26 KB  conda-forge\n",
            "    xorg-libice-1.0.10         |       h516909a_0          57 KB  conda-forge\n",
            "    xorg-libsm-1.2.3           |    h84519dc_1000          25 KB  conda-forge\n",
            "    xorg-libx11-1.6.9          |       h516909a_0         918 KB  conda-forge\n",
            "    xorg-libxau-1.0.9          |       h14c3975_0          13 KB  conda-forge\n",
            "    xorg-libxdmcp-1.1.3        |       h516909a_0          18 KB  conda-forge\n",
            "    xorg-libxext-1.3.4         |       h516909a_0          51 KB  conda-forge\n",
            "    xorg-libxrender-0.9.10     |    h516909a_1002          31 KB  conda-forge\n",
            "    xorg-renderproto-0.11.1    |    h14c3975_1002           8 KB  conda-forge\n",
            "    xorg-xextproto-7.3.0       |    h14c3975_1002          27 KB  conda-forge\n",
            "    xorg-xproto-7.0.31         |    h14c3975_1007          72 KB  conda-forge\n",
            "    zstd-1.4.4                 |       h3b9ef0a_1         989 KB  conda-forge\n",
            "    ------------------------------------------------------------\n",
            "                                           Total:       108.4 MB\n",
            "\n",
            "The following NEW packages will be INSTALLED:\n",
            "\n",
            "  boost              conda-forge/linux-64::boost-1.70.0-py37h9de70de_1\n",
            "  boost-cpp          conda-forge/linux-64::boost-cpp-1.70.0-h8e57a91_2\n",
            "  bzip2              conda-forge/linux-64::bzip2-1.0.8-h516909a_2\n",
            "  cairo              conda-forge/linux-64::cairo-1.16.0-hfb77d84_1002\n",
            "  fontconfig         conda-forge/linux-64::fontconfig-2.13.1-h86ecdb6_1001\n",
            "  freetype           conda-forge/linux-64::freetype-2.10.0-he983fc9_1\n",
            "  gettext            conda-forge/linux-64::gettext-0.19.8.1-hc5be6a0_1002\n",
            "  glib               conda-forge/linux-64::glib-2.58.3-py37h6f030ca_1002\n",
            "  icu                conda-forge/linux-64::icu-64.2-he1b5a44_1\n",
            "  jpeg               conda-forge/linux-64::jpeg-9c-h14c3975_1001\n",
            "  libblas            conda-forge/linux-64::libblas-3.8.0-14_openblas\n",
            "  libcblas           conda-forge/linux-64::libcblas-3.8.0-14_openblas\n",
            "  libgfortran-ng     conda-forge/linux-64::libgfortran-ng-7.3.0-hdf63c60_2\n",
            "  libiconv           conda-forge/linux-64::libiconv-1.15-h516909a_1005\n",
            "  liblapack          conda-forge/linux-64::liblapack-3.8.0-14_openblas\n",
            "  libopenblas        conda-forge/linux-64::libopenblas-0.3.7-h5ec1e0e_5\n",
            "  libpng             conda-forge/linux-64::libpng-1.6.37-hed695b0_0\n",
            "  libtiff            conda-forge/linux-64::libtiff-4.1.0-hc3755c2_1\n",
            "  libuuid            conda-forge/linux-64::libuuid-2.32.1-h14c3975_1000\n",
            "  libxcb             conda-forge/linux-64::libxcb-1.13-h14c3975_1002\n",
            "  libxml2            conda-forge/linux-64::libxml2-2.9.10-hee79883_0\n",
            "  lz4-c              conda-forge/linux-64::lz4-c-1.8.3-he1b5a44_1001\n",
            "  numpy              conda-forge/linux-64::numpy-1.17.3-py37h95a1406_0\n",
            "  olefile            conda-forge/noarch::olefile-0.46-py_0\n",
            "  pandas             conda-forge/linux-64::pandas-0.25.3-py37hb3f55d8_0\n",
            "  pcre               conda-forge/linux-64::pcre-8.43-he1b5a44_0\n",
            "  pillow             pkgs/main/linux-64::pillow-6.2.1-py37h34e0f95_0\n",
            "  pixman             conda-forge/linux-64::pixman-0.38.0-h516909a_1003\n",
            "  pthread-stubs      conda-forge/linux-64::pthread-stubs-0.4-h14c3975_1001\n",
            "  pycairo            conda-forge/linux-64::pycairo-1.18.2-py37h438ddbb_0\n",
            "  python-dateutil    conda-forge/noarch::python-dateutil-2.8.1-py_0\n",
            "  pytz               conda-forge/noarch::pytz-2019.3-py_0\n",
            "  rdkit              conda-forge/linux-64::rdkit-2019.09.2-py37hb31dc5d_0\n",
            "  xorg-kbproto       conda-forge/linux-64::xorg-kbproto-1.0.7-h14c3975_1002\n",
            "  xorg-libice        conda-forge/linux-64::xorg-libice-1.0.10-h516909a_0\n",
            "  xorg-libsm         conda-forge/linux-64::xorg-libsm-1.2.3-h84519dc_1000\n",
            "  xorg-libx11        conda-forge/linux-64::xorg-libx11-1.6.9-h516909a_0\n",
            "  xorg-libxau        conda-forge/linux-64::xorg-libxau-1.0.9-h14c3975_0\n",
            "  xorg-libxdmcp      conda-forge/linux-64::xorg-libxdmcp-1.1.3-h516909a_0\n",
            "  xorg-libxext       conda-forge/linux-64::xorg-libxext-1.3.4-h516909a_0\n",
            "  xorg-libxrender    conda-forge/linux-64::xorg-libxrender-0.9.10-h516909a_1002\n",
            "  xorg-renderproto   conda-forge/linux-64::xorg-renderproto-0.11.1-h14c3975_1002\n",
            "  xorg-xextproto     conda-forge/linux-64::xorg-xextproto-7.3.0-h14c3975_1002\n",
            "  xorg-xproto        conda-forge/linux-64::xorg-xproto-7.0.31-h14c3975_1007\n",
            "  zstd               conda-forge/linux-64::zstd-1.4.4-h3b9ef0a_1\n",
            "\n",
            "The following packages will be UPDATED:\n",
            "\n",
            "  ca-certificates    pkgs/main::ca-certificates-2019.10.16~ --> conda-forge::ca-certificates-2019.11.28-hecc5488_0\n",
            "  certifi               pkgs/main::certifi-2019.9.11-py37_0 --> conda-forge::certifi-2019.11.28-py37_0\n",
            "  conda                      pkgs/main::conda-4.7.12-py37_0 --> conda-forge::conda-4.8.0-py37_1\n",
            "\n",
            "The following packages will be SUPERSEDED by a higher-priority channel:\n",
            "\n",
            "  openssl              pkgs/main::openssl-1.1.1d-h7b6447c_3 --> conda-forge::openssl-1.1.1d-h516909a_0\n",
            "\n",
            "\n",
            "Preparing transaction: ...working... done\n",
            "Verifying transaction: ...working... done\n",
            "Executing transaction: ...working... done\n",
            "\n",
            "real\t0m35.427s\n",
            "user\t0m29.478s\n",
            "sys\t0m3.327s\n"
          ],
          "name": "stdout"
        }
      ]
    },
    {
      "cell_type": "code",
      "metadata": {
        "id": "7phCAeS78Z__",
        "colab_type": "code",
        "colab": {
          "base_uri": "https://localhost:8080/",
          "height": 1000
        },
        "outputId": "3483b55b-3f98-4304-a175-3a67c342d50d"
      },
      "source": [
        "!wget -c https://repo.continuum.io/miniconda/Miniconda3-latest-Linux-x86_64.sh\n",
        "!chmod +x Miniconda3-latest-Linux-x86_64.sh\n",
        "!time bash ./Miniconda3-latest-Linux-x86_64.sh -b -f -p /usr/local\n",
        "!time conda install -q -y -c conda-forge rdkit"
      ],
      "execution_count": 4,
      "outputs": [
        {
          "output_type": "stream",
          "text": [
            "--2019-12-17 08:28:40--  https://repo.continuum.io/miniconda/Miniconda3-latest-Linux-x86_64.sh\n",
            "Resolving repo.continuum.io (repo.continuum.io)... 104.18.201.79, 104.18.200.79, 2606:4700::6812:c84f, ...\n",
            "Connecting to repo.continuum.io (repo.continuum.io)|104.18.201.79|:443... connected.\n",
            "HTTP request sent, awaiting response... 416 Requested Range Not Satisfiable\n",
            "\n",
            "    The file is already fully retrieved; nothing to do.\n",
            "\n",
            "PREFIX=/usr/local\n",
            "Unpacking payload ...\n",
            "Collecting package metadata (current_repodata.json): - \b\b\\ \b\b| \b\b/ \b\b- \b\bdone\n",
            "Solving environment: | \b\b/ \b\b- \b\b\\ \b\b| \b\b/ \b\b- \b\b\\ \b\b| \b\b/ \b\b- \b\b\\ \b\b| \b\b/ \b\bdone\n",
            "\n",
            "## Package Plan ##\n",
            "\n",
            "  environment location: /usr/local\n",
            "\n",
            "  added / updated specs:\n",
            "    - _libgcc_mutex==0.1=main\n",
            "    - asn1crypto==1.2.0=py37_0\n",
            "    - ca-certificates==2019.10.16=0\n",
            "    - certifi==2019.9.11=py37_0\n",
            "    - cffi==1.13.0=py37h2e261b9_0\n",
            "    - chardet==3.0.4=py37_1003\n",
            "    - conda-package-handling==1.6.0=py37h7b6447c_0\n",
            "    - conda==4.7.12=py37_0\n",
            "    - cryptography==2.8=py37h1ba5d50_0\n",
            "    - idna==2.8=py37_0\n",
            "    - libedit==3.1.20181209=hc058e9b_0\n",
            "    - libffi==3.2.1=hd88cf55_4\n",
            "    - libgcc-ng==9.1.0=hdf63c60_0\n",
            "    - libstdcxx-ng==9.1.0=hdf63c60_0\n",
            "    - ncurses==6.1=he6710b0_1\n",
            "    - openssl==1.1.1d=h7b6447c_3\n",
            "    - pip==19.3.1=py37_0\n",
            "    - pycosat==0.6.3=py37h14c3975_0\n",
            "    - pycparser==2.19=py37_0\n",
            "    - pyopenssl==19.0.0=py37_0\n",
            "    - pysocks==1.7.1=py37_0\n",
            "    - python==3.7.4=h265db76_1\n",
            "    - readline==7.0=h7b6447c_5\n",
            "    - requests==2.22.0=py37_0\n",
            "    - ruamel_yaml==0.15.46=py37h14c3975_0\n",
            "    - setuptools==41.4.0=py37_0\n",
            "    - six==1.12.0=py37_0\n",
            "    - sqlite==3.30.0=h7b6447c_0\n",
            "    - tk==8.6.8=hbc83047_0\n",
            "    - tqdm==4.36.1=py_0\n",
            "    - urllib3==1.24.2=py37_0\n",
            "    - wheel==0.33.6=py37_0\n",
            "    - xz==5.2.4=h14c3975_4\n",
            "    - yaml==0.1.7=had09818_2\n",
            "    - zlib==1.2.11=h7b6447c_3\n",
            "\n",
            "\n",
            "The following packages will be UPDATED:\n",
            "\n",
            "  openssl            conda-forge::openssl-1.1.1d-h516909a_0 --> pkgs/main::openssl-1.1.1d-h7b6447c_3\n",
            "\n",
            "The following packages will be SUPERSEDED by a higher-priority channel:\n",
            "\n",
            "  ca-certificates    conda-forge::ca-certificates-2019.11.~ --> pkgs/main::ca-certificates-2019.10.16-0\n",
            "  certifi            conda-forge::certifi-2019.11.28-py37_0 --> pkgs/main::certifi-2019.9.11-py37_0\n",
            "  conda                     conda-forge::conda-4.8.0-py37_1 --> pkgs/main::conda-4.7.12-py37_0\n",
            "\n",
            "\n",
            "Preparing transaction: \\ \b\bdone\n",
            "Executing transaction: / \b\b- \b\bdone\n",
            "installation finished.\n",
            "WARNING:\n",
            "    You currently have a PYTHONPATH environment variable set. This may cause\n",
            "    unexpected behavior when running the Python interpreter in Miniconda3.\n",
            "    For best results, please verify that your PYTHONPATH only points to\n",
            "    directories of packages that are compatible with the Python interpreter\n",
            "    in Miniconda3: /usr/local\n",
            "\n",
            "real\t0m21.988s\n",
            "user\t0m29.757s\n",
            "sys\t0m4.346s\n",
            "Collecting package metadata (current_repodata.json): ...working... done\n",
            "Solving environment: ...working... done\n",
            "\n",
            "## Package Plan ##\n",
            "\n",
            "  environment location: /usr/local\n",
            "\n",
            "  added / updated specs:\n",
            "    - rdkit\n",
            "\n",
            "\n",
            "The following packages will be UPDATED:\n",
            "\n",
            "  ca-certificates    pkgs/main::ca-certificates-2019.10.16~ --> conda-forge::ca-certificates-2019.11.28-hecc5488_0\n",
            "  certifi               pkgs/main::certifi-2019.9.11-py37_0 --> conda-forge::certifi-2019.11.28-py37_0\n",
            "  conda                      pkgs/main::conda-4.7.12-py37_0 --> conda-forge::conda-4.8.0-py37_1\n",
            "\n",
            "The following packages will be SUPERSEDED by a higher-priority channel:\n",
            "\n",
            "  openssl              pkgs/main::openssl-1.1.1d-h7b6447c_3 --> conda-forge::openssl-1.1.1d-h516909a_0\n",
            "\n",
            "\n",
            "Preparing transaction: ...working... done\n",
            "Verifying transaction: ...working... done\n",
            "Executing transaction: ...working... done\n",
            "\n",
            "real\t0m6.035s\n",
            "user\t0m5.338s\n",
            "sys\t0m0.766s\n"
          ],
          "name": "stdout"
        }
      ]
    },
    {
      "cell_type": "markdown",
      "metadata": {
        "id": "_LLcIQijCept",
        "colab_type": "text"
      },
      "source": [
        "smiles를 기반으로 분자 autoencoders을 개선하는 방법에 대해 알아 봅니다.\n",
        "\n",
        "LSTM-RNN 을 사용하고 이 네트워크에 구성된 분자의 SMILES 문자열이 어떻게 형식화되는지에 여러 규칙과 이에 대한 문자를 반복하여 동일한 규칙에 따라 새로운 SMILES를 작성합니다.\n",
        "\n",
        "좋은 점은 분자 특성의 분포가 훈련 데이터 세트 및 이후 샘플에 대해 동일하다는 것입니다 "
      ]
    },
    {
      "cell_type": "markdown",
      "metadata": {
        "id": "PBZXB7N7DBkv",
        "colab_type": "text"
      },
      "source": [
        "그러나 SMILES 생성의 기초가되는 화학적 규칙을 과도하게 맞추지 않고 이러한 문자 기반 생성기 중 하나를 학습하려면 수천 개의 분자가 필요합니다.\n",
        "\n",
        "따라서 자동 인코더를 만들어서 이용합니다. 기본 아이디어는 입력 (여기서는 SMILES 문자열) 문자열을 잠재 공간에 코딩 한 다음에 공간에서 원래 입력을 다시 작성하는 것입니다. 훈련 후, 자동 인코더는 인코더 및 디코더로 분할 될 수 있습니다.\n",
        "\n",
        "디코더는 관심있는 분자 주변의 영역을 샘플링하고 유사하지만 동일하지 않은 분자를 생성하는 데 사용될 수 있습니다.\n",
        "\n",
        "또한 keras-molecules를 사용하여 후속 시각화로 분자를 잠재 공간에 매핑하는 경험에 대해 작성했습니다 . 이 코드는 RNN based incoder와 GRU based decoder를 사용합니다."
      ]
    },
    {
      "cell_type": "code",
      "metadata": {
        "id": "lHiTZNNbg75B",
        "colab_type": "code",
        "colab": {}
      },
      "source": [
        "import os\n",
        "import pandas as pd\n",
        "import numpy as np\n",
        "from __future__ import print_function\n",
        "from rdkit import Chem\n",
        "from rdkit.Chem import Draw, Descriptors\n",
        "from matplotlib import pyplot as plt\n",
        "%matplotlib inline"
      ],
      "execution_count": 0,
      "outputs": []
    },
    {
      "cell_type": "markdown",
      "metadata": {
        "id": "Jm6Gt7nNnn5C",
        "colab_type": "text"
      },
      "source": [
        "물론 일부 SMILES 문자열을 훈련하고 테스트해야합니다. 이 블로그 게시물의 내용을 좀 더 단순하고 짧게 유지하기 위해 GDB-11 데이터 세트의 원자 8 개가 포함 된 SMILES 파일이 사용됩니다. 원자 및 결합 유형의 하위 집합으로 생성 할 수있는 모든 분자를 포함합니다. 데이터 셋은 http://gdb.unibe.ch/downloads/에서 다운로드 할 수 있습니다 . 트레인 및 테스트 세트로의 임의 분할은 추가 처리 직전에 수행됩니다."
      ]
    },
    {
      "cell_type": "code",
      "metadata": {
        "id": "vHx8bMJs4LS3",
        "colab_type": "code",
        "colab": {
          "base_uri": "https://localhost:8080/",
          "height": 233
        },
        "outputId": "dd655d2a-0b44-4314-b185-53555abc8c4f"
      },
      "source": [
        "pip install scikit-learn\n"
      ],
      "execution_count": 6,
      "outputs": [
        {
          "output_type": "stream",
          "text": [
            "Collecting scikit-learn\n",
            "\u001b[?25l  Downloading https://files.pythonhosted.org/packages/19/96/8034e350d4550748277e514d0d6d91bdd36be19e6c5f40b8af0d74cb0c84/scikit_learn-0.22-cp37-cp37m-manylinux1_x86_64.whl (7.0MB)\n",
            "\u001b[K     |████████████████████████████████| 7.0MB 3.4MB/s \n",
            "\u001b[?25hRequirement already satisfied: numpy>=1.11.0 in /usr/local/lib/python3.7/site-packages (from scikit-learn) (1.17.3)\n",
            "Collecting joblib>=0.11\n",
            "\u001b[?25l  Downloading https://files.pythonhosted.org/packages/28/5c/cf6a2b65a321c4a209efcdf64c2689efae2cb62661f8f6f4bb28547cf1bf/joblib-0.14.1-py2.py3-none-any.whl (294kB)\n",
            "\u001b[K     |████████████████████████████████| 296kB 57.7MB/s \n",
            "\u001b[?25hCollecting scipy>=0.17.0\n",
            "\u001b[?25l  Downloading https://files.pythonhosted.org/packages/37/9d/a606dc7b17ef0b7326afd128e132b7a483d5611da603334842df75d92d3c/scipy-1.4.0-cp37-cp37m-manylinux1_x86_64.whl (26.1MB)\n",
            "\u001b[K     |████████████████████████████████| 26.1MB 1.2MB/s \n",
            "\u001b[?25hInstalling collected packages: joblib, scipy, scikit-learn\n",
            "Successfully installed joblib-0.14.1 scikit-learn-0.22 scipy-1.4.0\n"
          ],
          "name": "stdout"
        }
      ]
    },
    {
      "cell_type": "code",
      "metadata": {
        "id": "Gsm93EQDg8CW",
        "colab_type": "code",
        "colab": {
          "base_uri": "https://localhost:8080/",
          "height": 53
        },
        "outputId": "76c44bb8-1d47-4f70-a31f-dc0c027b008b"
      },
      "source": [
        "smifile = \"gdb11_size08.smi\"\n",
        "data = pd.read_csv(smifile, delimiter = \"\\t\", names = [\"smiles\",\"No\",\"Int\"])\n",
        "from sklearn.model_selection import train_test_split\n",
        "smiles_train, smiles_test = train_test_split(data[\"smiles\"], random_state=42)\n",
        "\n",
        "print (smiles_train.shape)\n",
        "print (smiles_test.shape)"
      ],
      "execution_count": 7,
      "outputs": [
        {
          "output_type": "stream",
          "text": [
            "(50029,)\n",
            "(16677,)\n"
          ],
          "name": "stdout"
        }
      ]
    },
    {
      "cell_type": "markdown",
      "metadata": {
        "id": "cmGtGCK68Mjk",
        "colab_type": "text"
      },
      "source": [
        "SMILES는 one-hot 인코딩 배열로 벡터화해야합니다. 이를 위해 문자 세트는 SMILES 문자열 (트레인 및 테스트)에있는 모든 문자로 구성됩니다. 또한 일부 시작 및 중지 문자가 추가되어 디코더를 시작하고 SMILES 생성이 중지되었을 때 신호를 보내는 데 사용됩니다. 정지 문자는 또한 패딩으로 작동하여 모든 벡터의 동일한 길이를 얻으므로 네트워크를 배치 모드로 학습 할 수 있습니다. 문자 집합은 인덱스와 문자 사이를 앞뒤로 번역 할 두 사전을 정의하는 데 사용됩니다. RNN이 배치 모드에서 학습되고 최대 발생 + 일부 추가로 설정되므로 SMILES 문자열의 최대 길이가 필요합니다."
      ]
    },
    {
      "cell_type": "code",
      "metadata": {
        "id": "0dAeZbAM8L6Z",
        "colab_type": "code",
        "colab": {
          "base_uri": "https://localhost:8080/",
          "height": 53
        },
        "outputId": "1d7e1245-64ec-4f22-b6c8-2ad9695cd602"
      },
      "source": [
        "charset = set(\"\".join(list(data.smiles))+\"!E\")\n",
        "char_to_int = dict((c,i) for i,c in enumerate(charset))\n",
        "int_to_char = dict((i,c) for i,c in enumerate(charset))\n",
        "embed = max([len(smile) for smile in data.smiles]) + 5\n",
        "print (str(charset))\n",
        "print(len(charset), embed)"
      ],
      "execution_count": 8,
      "outputs": [
        {
          "output_type": "stream",
          "text": [
            "{'[', 'N', '#', 'O', '(', 'n', '4', ']', 'C', '-', 'H', ')', '1', '!', 'c', 'E', '+', '=', 'o', 'F', '3', '2'}\n",
            "22 28\n"
          ],
          "name": "stdout"
        }
      ]
    },
    {
      "cell_type": "markdown",
      "metadata": {
        "id": "MiLlWKLu8M5y",
        "colab_type": "text"
      },
      "source": [
        "그 후 문자 세트와 사전은 Numpy 배열에서 필요한 비트를 설정하는 데 사용됩니다. 결과는 각 분자 SMILES 스트링의 \"피아노 롤\"이됩니다. X 데이터는!로 시작하지만 출력 Y는 한 문자 씩 오프셋되고 실제 SMILES의 첫 번째 문자로 시작합니다."
      ]
    },
    {
      "cell_type": "code",
      "metadata": {
        "id": "oO8QBct49eqC",
        "colab_type": "code",
        "colab": {
          "base_uri": "https://localhost:8080/",
          "height": 311
        },
        "outputId": "838dc5a5-406a-4479-a3d9-1aedc3a6450b"
      },
      "source": [
        "def vectorize(smiles):\n",
        "        one_hot =  np.zeros((smiles.shape[0], embed , len(charset)),dtype=np.int8)\n",
        "        for i,smile in enumerate(smiles):\n",
        "            #encode the startchar\n",
        "            one_hot[i,0,char_to_int[\"!\"]] = 1\n",
        "            #encode the rest of the chars\n",
        "            for j,c in enumerate(smile):\n",
        "                one_hot[i,j+1,char_to_int[c]] = 1\n",
        "            #Encode endchar\n",
        "            one_hot[i,len(smile)+1:,char_to_int[\"E\"]] = 1\n",
        "        #Return two, one for input and the other for output\n",
        "        return one_hot[:,0:-1,:], one_hot[:,1:,:]\n",
        "X_train, Y_train = vectorize(smiles_train.values)\n",
        "X_test,Y_test = vectorize(smiles_test.values)\n",
        "print (smiles_train.iloc[0])\n",
        "plt.matshow(X_train[0].T)\n",
        "#print X_train.shape"
      ],
      "execution_count": 9,
      "outputs": [
        {
          "output_type": "stream",
          "text": [
            "N#CC#CC1COC1\n"
          ],
          "name": "stdout"
        },
        {
          "output_type": "execute_result",
          "data": {
            "text/plain": [
              "<matplotlib.image.AxesImage at 0x7fe1689a1e48>"
            ]
          },
          "metadata": {
            "tags": []
          },
          "execution_count": 9
        },
        {
          "output_type": "display_data",
          "data": {
            "image/png": "[encoded data removed]",
            "text/plain": [
              "<Figure size 353.455x288 with 1 Axes>"
            ]
          },
          "metadata": {
            "tags": []
          }
        }
      ]
    },
    {
      "cell_type": "code",
      "metadata": {
        "id": "-aHLS9SR9kl4",
        "colab_type": "code",
        "colab": {
          "base_uri": "https://localhost:8080/",
          "height": 35
        },
        "outputId": "e2401a25-9efb-410c-c0b2-55e8063a0e7a"
      },
      "source": [
        "\"\".join([int_to_char[idx] for idx in np.argmax(X_train[0,:,:], axis=1)])"
      ],
      "execution_count": 10,
      "outputs": [
        {
          "output_type": "execute_result",
          "data": {
            "text/plain": [
              "'!N#CC#CC1COC1EEEEEEEEEEEEEE'"
            ]
          },
          "metadata": {
            "tags": []
          },
          "execution_count": 10
        }
      ]
    },
    {
      "cell_type": "markdown",
      "metadata": {
        "id": "SHINpn4H9mut",
        "colab_type": "text"
      },
      "source": [
        "벡터화 된 데이터가 준비되면 자동 인코더를 구축 할 차례입니다. 먼저 일부 Keras 객체를 가져오고 벡터화 데이터에서 입력 및 출력 치수를 계산합니다. 또한 디코더 및 인코더에 사용할 LSTM 셀의 수가 지정되고 잠재 치수가 지정됩니다."
      ]
    },
    {
      "cell_type": "code",
      "metadata": {
        "id": "8c_W5htC9p5s",
        "colab_type": "code",
        "colab": {
          "base_uri": "https://localhost:8080/",
          "height": 82
        },
        "outputId": "e6caf0d8-848a-4e97-c9db-d42c7dccbedf"
      },
      "source": [
        "#Import Keras objects\n",
        "from keras.models import Model\n",
        "from keras.layers import Input\n",
        "from keras.layers import LSTM\n",
        "from keras.layers import Dense\n",
        "from keras.layers import Concatenate\n",
        "from keras import regularizers\n",
        "input_shape = X_train.shape[1:]\n",
        "output_dim = Y_train.shape[-1]\n",
        "latent_dim = 64\n",
        "lstm_dim = 64"
      ],
      "execution_count": 11,
      "outputs": [
        {
          "output_type": "stream",
          "text": [
            "Using TensorFlow backend.\n"
          ],
          "name": "stderr"
        },
        {
          "output_type": "display_data",
          "data": {
            "text/html": [
              "<p style=\"color: red;\">\n",
              "The default version of TensorFlow in Colab will soon switch to TensorFlow 2.x.<br>\n",
              "We recommend you <a href=\"https://www.tensorflow.org/guide/migrate\" target=\"_blank\">upgrade</a> now \n",
              "or ensure your notebook will continue to use TensorFlow 1.x via the <code>%tensorflow_version 1.x</code> magic:\n",
              "<a href=\"https://colab.research.google.com/notebooks/tensorflow_version.ipynb\" target=\"_blank\">more info</a>.</p>\n"
            ],
            "text/plain": [
              "<IPython.core.display.HTML object>"
            ]
          },
          "metadata": {
            "tags": []
          }
        }
      ]
    },
    {
      "cell_type": "markdown",
      "metadata": {
        "id": "VHytOEL19sn0",
        "colab_type": "text"
      },
      "source": [
        "이는 TensorFlow 백엔드를 사용한다는 뜻입니다."
      ]
    },
    {
      "cell_type": "markdown",
      "metadata": {
        "id": "h7ySNStl9xfJ",
        "colab_type": "text"
      },
      "source": [
        "# 긴 단기 메모리 셀(LSTM)"
      ]
    },
    {
      "cell_type": "markdown",
      "metadata": {
        "id": "sHKUtYYC92XC",
        "colab_type": "text"
      },
      "source": [
        "그것은 옥시 모론처럼 들릴지 모르지만, 장기적인 단기 기억 세포재귀 신경 네트워크를 통해 더 긴 반복을 위해 내부 상태를 유지하도록 설계된 특수 종류의 신경 네트워크 장치입니다. 이들은 입력, 출력 및 잊어 버림 게이트로 설계되어 셀 내부 상태 C로 수행 할 작업을 제어합니다. 상태 H는 반복 반복 사이의 복사본으로 전달되며 내부 상태 C에서 수행 할 작업을 결정하는 데 도움이됩니다. 다음 반복. 게이팅 메커니즘은 네트워크가 입력을 닫아 새로운 상태 나 입력이 열릴 때까지 게이트를 잊어 내부 상태를 쉽게 유지할 수 있도록합니다. 표준 반복 단위의 드롭 인 대체품으로 사용되며 일반적으로 장기 상호 작용 인식과 관련하여 RNN의 성능을 향상시킵니다. 운좋게도 그들은 이미 Keras에서 구현되었습니다"
      ]
    },
    {
      "cell_type": "markdown",
      "metadata": {
        "id": "mfeHct2Y92Tg",
        "colab_type": "text"
      },
      "source": [
        "또한 인기있는\n",
        "\n",
        "모델은 전체적으로 다소 단순합니다. 64 LSTM 셀의 단일 레이어는 입력 SMILES 문자열을 읽는 데 사용됩니다. 레이어의 출력은 무시되지만 최종 내부 C 및 H 상태는 연결되고 병목 레이어 \"목\"으로 다시 결합됩니다. 이것은 인코더로 구성됩니다.\n",
        "Keras의 기능적 API가 사용되므로 나중에 다양한 레이어를 인코더 및 디코더 모델로 쉽게 재구성 할 수 있습니다."
      ]
    },
    {
      "cell_type": "code",
      "metadata": {
        "id": "OOzwleNf96U6",
        "colab_type": "code",
        "colab": {
          "base_uri": "https://localhost:8080/",
          "height": 125
        },
        "outputId": "d313047a-754d-42cf-d244-7970dbfefbab"
      },
      "source": [
        "unroll = False\n",
        "encoder_inputs = Input(shape=input_shape)\n",
        "encoder = LSTM(lstm_dim, return_state=True,\n",
        "                unroll=unroll)\n",
        "encoder_outputs, state_h, state_c = encoder(encoder_inputs)\n",
        "states = Concatenate(axis=-1)([state_h, state_c])\n",
        "neck = Dense(latent_dim, activation=\"relu\")\n",
        "neck_outputs = neck(states)"
      ],
      "execution_count": 12,
      "outputs": [
        {
          "output_type": "stream",
          "text": [
            "WARNING:tensorflow:From /usr/local/lib/python3.6/dist-packages/keras/backend/tensorflow_backend.py:66: The name tf.get_default_graph is deprecated. Please use tf.compat.v1.get_default_graph instead.\n",
            "\n",
            "WARNING:tensorflow:From /usr/local/lib/python3.6/dist-packages/keras/backend/tensorflow_backend.py:541: The name tf.placeholder is deprecated. Please use tf.compat.v1.placeholder instead.\n",
            "\n",
            "WARNING:tensorflow:From /usr/local/lib/python3.6/dist-packages/keras/backend/tensorflow_backend.py:4432: The name tf.random_uniform is deprecated. Please use tf.random.uniform instead.\n",
            "\n"
          ],
          "name": "stdout"
        }
      ]
    },
    {
      "cell_type": "markdown",
      "metadata": {
        "id": "kFc8aE6m-OV2",
        "colab_type": "text"
      },
      "source": [
        "그런 다음 neck_output 텐서는 디코더 LSTM 레이어에 설정되어야하는 상태를 디코딩하기 위해 두 개의 서로 다른 Dense 레이어를 통과합니다. 인코더에서 디코더로의 내부 상태의 이러한 재결합은 LSTM 계층 자체에 의해 인코딩 된 것과 다른 크기의 잠재 공간을 사용할 수있게한다. LSTM 레이어는 입력을 다시 한 번 수신하고 시퀀스의 다음 문자를 예측하는 작업을 수행합니다. 따라서 분자와 문자 \"!\"의 잠복 표현에서 첫 번째 원자를 나타내는 다음 문자가 무엇인지 출력해야합니다 (예 : \"C\", \"N\"등). 따라서 Y 벡터가 X에서 오프셋됩니다. \"!\"문자가있는 벡터 이 훈련 방법은 한 번의 재발 단계의 결과가 다음 단계의 입력으로 사용되는 접근법과 달리 교사 시행이라고합니다. 네트워크가 시퀀스 시작에서 실수를 할 수는 있지만 시퀀스의 후반부에 대한 교육에는 영향을 미치지 않습니다. 이를 통해 디코더는 내부 상태를 공급 한 다음 전체 시퀀스를 구성 할 수 있는지 확인하는 것보다 훨씬 효율적으로 디코더를 학습시킵니다. 각 단계에서 출력되는 LSTM 세포는 올바른 특성을 예측하기 위해 각 뉴런 작업과 함께 밀도가 높은 네트워크에 배치됩니다.\n",
        "훈련을위한 최종 모델은 입력 레이어 객체와 출력 레이어에서 만들어집니다."
      ]
    },
    {
      "cell_type": "code",
      "metadata": {
        "id": "QhEzU9mM-RUN",
        "colab_type": "code",
        "colab": {
          "base_uri": "https://localhost:8080/",
          "height": 557
        },
        "outputId": "42d85d0c-1f57-4309-b36d-d498cd0d9ddd"
      },
      "source": [
        "decode_h = Dense(lstm_dim, activation=\"relu\")\n",
        "decode_c = Dense(lstm_dim, activation=\"relu\")\n",
        "state_h_decoded =  decode_h(neck_outputs)\n",
        "state_c_decoded =  decode_c(neck_outputs)\n",
        "encoder_states = [state_h_decoded, state_c_decoded]\n",
        "decoder_inputs = Input(shape=input_shape)\n",
        "decoder_lstm = LSTM(lstm_dim,\n",
        "                    return_sequences=True,\n",
        "                    unroll=unroll\n",
        "                   )\n",
        "decoder_outputs = decoder_lstm(decoder_inputs, initial_state=encoder_states)\n",
        "decoder_dense = Dense(output_dim, activation='softmax')\n",
        "decoder_outputs = decoder_dense(decoder_outputs)\n",
        "#Define the model, that inputs the training vector for two places, and predicts one character ahead of the input\n",
        "model = Model([encoder_inputs, decoder_inputs], decoder_outputs)\n",
        "print (model.summary())"
      ],
      "execution_count": 16,
      "outputs": [
        {
          "output_type": "stream",
          "text": [
            "Model: \"model_1\"\n",
            "__________________________________________________________________________________________________\n",
            "Layer (type)                    Output Shape         Param #     Connected to                     \n",
            "==================================================================================================\n",
            "input_1 (InputLayer)            (None, 27, 22)       0                                            \n",
            "__________________________________________________________________________________________________\n",
            "lstm_1 (LSTM)                   [(None, 64), (None,  22272       input_1[0][0]                    \n",
            "__________________________________________________________________________________________________\n",
            "concatenate_1 (Concatenate)     (None, 128)          0           lstm_1[0][1]                     \n",
            "                                                                 lstm_1[0][2]                     \n",
            "__________________________________________________________________________________________________\n",
            "dense_1 (Dense)                 (None, 64)           8256        concatenate_1[0][0]              \n",
            "__________________________________________________________________________________________________\n",
            "input_2 (InputLayer)            (None, 27, 22)       0                                            \n",
            "__________________________________________________________________________________________________\n",
            "dense_2 (Dense)                 (None, 64)           4160        dense_1[0][0]                    \n",
            "__________________________________________________________________________________________________\n",
            "dense_3 (Dense)                 (None, 64)           4160        dense_1[0][0]                    \n",
            "__________________________________________________________________________________________________\n",
            "lstm_2 (LSTM)                   (None, 27, 64)       22272       input_2[0][0]                    \n",
            "                                                                 dense_2[0][0]                    \n",
            "                                                                 dense_3[0][0]                    \n",
            "__________________________________________________________________________________________________\n",
            "dense_4 (Dense)                 (None, 27, 22)       1430        lstm_2[0][0]                     \n",
            "==================================================================================================\n",
            "Total params: 62,550\n",
            "Trainable params: 62,550\n",
            "Non-trainable params: 0\n",
            "__________________________________________________________________________________________________\n",
            "None\n"
          ],
          "name": "stdout"
        }
      ]
    },
    {
      "cell_type": "markdown",
      "metadata": {
        "id": "h1a8nTbk-2LX",
        "colab_type": "text"
      },
      "source": [
        "훈련 고원에 도달하면 기록을 기록하고 학습 속도를 줄이기 위해 일부 Keras 콜백을 준비한 후 모델은 최적화 및 손실 기능으로 컴파일되어 훈련을 시작할 수 있습니다. X_train이 모델에 두 번 공급되어 모델의 두 곳에서 입력을받는 방법에 유의하십시오."
      ]
    },
    {
      "cell_type": "code",
      "metadata": {
        "id": "7fM6xjtv--zq",
        "colab_type": "code",
        "colab": {
          "base_uri": "https://localhost:8080/",
          "height": 53
        },
        "outputId": "d57da505-a09b-4ef7-d5bd-82caa6b0f615"
      },
      "source": [
        "from keras.callbacks import History, ReduceLROnPlateau\n",
        "h = History()\n",
        "rlr = ReduceLROnPlateau(monitor='val_loss', factor=0.5,patience=10, min_lr=0.000001, verbose=1, epsilon=1e-5)"
      ],
      "execution_count": 17,
      "outputs": [
        {
          "output_type": "stream",
          "text": [
            "/usr/local/lib/python3.6/dist-packages/keras/callbacks.py:1335: UserWarning: `epsilon` argument is deprecated and will be removed, use `min_delta` instead.\n",
            "  warnings.warn('`epsilon` argument is deprecated and '\n"
          ],
          "name": "stderr"
        }
      ]
    },
    {
      "cell_type": "code",
      "metadata": {
        "id": "84ylDA5v--xu",
        "colab_type": "code",
        "colab": {
          "base_uri": "https://localhost:8080/",
          "height": 89
        },
        "outputId": "2ccec172-e011-4279-cbc9-0ab9a5b5c27c"
      },
      "source": [
        "from keras.optimizers import RMSprop, Adam\n",
        "opt=Adam(lr=0.005) #Default 0.001\n",
        "model.compile(optimizer=opt, loss='categorical_crossentropy')\n"
      ],
      "execution_count": 18,
      "outputs": [
        {
          "output_type": "stream",
          "text": [
            "WARNING:tensorflow:From /usr/local/lib/python3.6/dist-packages/keras/optimizers.py:793: The name tf.train.Optimizer is deprecated. Please use tf.compat.v1.train.Optimizer instead.\n",
            "\n",
            "WARNING:tensorflow:From /usr/local/lib/python3.6/dist-packages/keras/backend/tensorflow_backend.py:3576: The name tf.log is deprecated. Please use tf.math.log instead.\n",
            "\n"
          ],
          "name": "stdout"
        }
      ]
    },
    {
      "cell_type": "code",
      "metadata": {
        "id": "-WSNmwFY--tE",
        "colab_type": "code",
        "colab": {
          "base_uri": "https://localhost:8080/",
          "height": 1000
        },
        "outputId": "b38d94b0-2d1a-49d7-ed6d-24919843bb04"
      },
      "source": [
        "model.fit([X_train,X_train],Y_train,\n",
        "                    epochs=100,\n",
        "                    batch_size=256,\n",
        "                    shuffle=True,\n",
        "                    callbacks=[h, rlr],\n",
        "                    validation_data=[[X_test,X_test],Y_test ])\n"
      ],
      "execution_count": 24,
      "outputs": [
        {
          "output_type": "stream",
          "text": [
            "Train on 50029 samples, validate on 16677 samples\n",
            "Epoch 1/100\n",
            "50029/50029 [==============================] - 16s 312us/step - loss: 0.0452 - val_loss: 0.0610\n",
            "Epoch 2/100\n",
            "50029/50029 [==============================] - 15s 309us/step - loss: 0.0527 - val_loss: 0.0659\n",
            "Epoch 3/100\n",
            "50029/50029 [==============================] - 16s 311us/step - loss: 0.0377 - val_loss: 0.0310\n",
            "Epoch 4/100\n",
            "50029/50029 [==============================] - 16s 315us/step - loss: 0.0369 - val_loss: 0.0762\n",
            "Epoch 5/100\n",
            "50029/50029 [==============================] - 16s 314us/step - loss: 0.0336 - val_loss: 0.0278\n",
            "Epoch 6/100\n",
            "50029/50029 [==============================] - 16s 313us/step - loss: 0.0277 - val_loss: 0.0314\n",
            "Epoch 7/100\n",
            "50029/50029 [==============================] - 16s 311us/step - loss: 0.1058 - val_loss: 0.1001\n",
            "Epoch 8/100\n",
            "50029/50029 [==============================] - 16s 313us/step - loss: 0.0439 - val_loss: 0.0265\n",
            "Epoch 9/100\n",
            "50029/50029 [==============================] - 16s 314us/step - loss: 0.0289 - val_loss: 0.0232\n",
            "Epoch 10/100\n",
            "50029/50029 [==============================] - 16s 316us/step - loss: 0.0197 - val_loss: 0.0192\n",
            "Epoch 11/100\n",
            "50029/50029 [==============================] - 16s 311us/step - loss: 0.0167 - val_loss: 0.0190\n",
            "Epoch 12/100\n",
            "50029/50029 [==============================] - 15s 308us/step - loss: 0.0282 - val_loss: 0.2663\n",
            "Epoch 13/100\n",
            "50029/50029 [==============================] - 16s 311us/step - loss: 0.0475 - val_loss: 0.0207\n",
            "Epoch 14/100\n",
            "50029/50029 [==============================] - 16s 311us/step - loss: 0.0142 - val_loss: 0.0131\n",
            "Epoch 15/100\n",
            "50029/50029 [==============================] - 15s 309us/step - loss: 0.0134 - val_loss: 0.0137\n",
            "Epoch 16/100\n",
            "50029/50029 [==============================] - 16s 314us/step - loss: 0.0895 - val_loss: 0.0189\n",
            "Epoch 17/100\n",
            "50029/50029 [==============================] - 16s 314us/step - loss: 0.0145 - val_loss: 0.0142\n",
            "Epoch 18/100\n",
            "50029/50029 [==============================] - 16s 310us/step - loss: 0.0114 - val_loss: 0.0140\n",
            "Epoch 19/100\n",
            "50029/50029 [==============================] - 16s 311us/step - loss: 0.0194 - val_loss: 0.0175\n",
            "Epoch 20/100\n",
            "50029/50029 [==============================] - 16s 312us/step - loss: 0.0091 - val_loss: 0.0111\n",
            "Epoch 21/100\n",
            "50029/50029 [==============================] - 16s 315us/step - loss: 0.1261 - val_loss: 0.0817\n",
            "Epoch 22/100\n",
            "50029/50029 [==============================] - 16s 312us/step - loss: 0.0327 - val_loss: 0.0185\n",
            "Epoch 23/100\n",
            "50029/50029 [==============================] - 16s 313us/step - loss: 0.0141 - val_loss: 0.0135\n",
            "Epoch 24/100\n",
            "50029/50029 [==============================] - 16s 311us/step - loss: 0.0155 - val_loss: 0.0096\n",
            "Epoch 25/100\n",
            "50029/50029 [==============================] - 16s 311us/step - loss: 0.0081 - val_loss: 0.0212\n",
            "Epoch 26/100\n",
            "50029/50029 [==============================] - 16s 312us/step - loss: 0.0100 - val_loss: 0.0089\n",
            "Epoch 27/100\n",
            "50029/50029 [==============================] - 16s 315us/step - loss: 0.0095 - val_loss: 0.0114\n",
            "Epoch 28/100\n",
            "50029/50029 [==============================] - 15s 310us/step - loss: 0.0138 - val_loss: 0.0066\n",
            "Epoch 29/100\n",
            "50029/50029 [==============================] - 16s 314us/step - loss: 0.0050 - val_loss: 0.0059\n",
            "Epoch 30/100\n",
            "50029/50029 [==============================] - 16s 315us/step - loss: 0.0883 - val_loss: 0.0194\n",
            "Epoch 31/100\n",
            "50029/50029 [==============================] - 16s 313us/step - loss: 0.0122 - val_loss: 0.0104\n",
            "Epoch 32/100\n",
            "50029/50029 [==============================] - 16s 311us/step - loss: 0.0081 - val_loss: 0.0100\n",
            "Epoch 33/100\n",
            "50029/50029 [==============================] - 16s 310us/step - loss: 0.0053 - val_loss: 0.0078\n",
            "Epoch 34/100\n",
            "50029/50029 [==============================] - 15s 310us/step - loss: 0.0648 - val_loss: 0.0116\n",
            "Epoch 35/100\n",
            "50029/50029 [==============================] - 16s 313us/step - loss: 0.0079 - val_loss: 0.0076\n",
            "Epoch 36/100\n",
            "50029/50029 [==============================] - 16s 313us/step - loss: 0.0053 - val_loss: 0.0051\n",
            "Epoch 37/100\n",
            "50029/50029 [==============================] - 16s 313us/step - loss: 0.0043 - val_loss: 0.0053\n",
            "Epoch 38/100\n",
            "50029/50029 [==============================] - 16s 311us/step - loss: 0.0036 - val_loss: 0.0058\n",
            "Epoch 39/100\n",
            "50029/50029 [==============================] - 16s 313us/step - loss: 0.0089 - val_loss: 1.9823\n",
            "Epoch 40/100\n",
            "50029/50029 [==============================] - 15s 309us/step - loss: 0.1252 - val_loss: 0.0149\n",
            "Epoch 41/100\n",
            "50029/50029 [==============================] - 16s 310us/step - loss: 0.0098 - val_loss: 0.0074\n",
            "Epoch 42/100\n",
            "50029/50029 [==============================] - 16s 313us/step - loss: 0.0062 - val_loss: 0.0063\n",
            "Epoch 43/100\n",
            "50029/50029 [==============================] - 15s 309us/step - loss: 0.0067 - val_loss: 0.0044\n",
            "Epoch 44/100\n",
            "50029/50029 [==============================] - 16s 311us/step - loss: 0.0030 - val_loss: 0.0041\n",
            "Epoch 45/100\n",
            "50029/50029 [==============================] - 16s 310us/step - loss: 0.0026 - val_loss: 0.0027\n",
            "Epoch 46/100\n",
            "50029/50029 [==============================] - 16s 318us/step - loss: 0.0998 - val_loss: 0.0334\n",
            "Epoch 47/100\n",
            "50029/50029 [==============================] - 16s 312us/step - loss: 0.0182 - val_loss: 0.0117\n",
            "Epoch 48/100\n",
            "50029/50029 [==============================] - 15s 308us/step - loss: 0.0084 - val_loss: 0.0076\n",
            "Epoch 49/100\n",
            "50029/50029 [==============================] - 16s 312us/step - loss: 0.0060 - val_loss: 0.0058\n",
            "Epoch 50/100\n",
            "50029/50029 [==============================] - 16s 316us/step - loss: 0.0048 - val_loss: 0.0043\n",
            "Epoch 51/100\n",
            "50029/50029 [==============================] - 16s 312us/step - loss: 0.0427 - val_loss: 0.0112\n",
            "Epoch 52/100\n",
            "50029/50029 [==============================] - 16s 314us/step - loss: 0.0064 - val_loss: 0.0049\n",
            "Epoch 53/100\n",
            "50029/50029 [==============================] - 15s 308us/step - loss: 0.0034 - val_loss: 0.0045\n",
            "Epoch 54/100\n",
            "50029/50029 [==============================] - 16s 315us/step - loss: 0.0027 - val_loss: 0.0033\n",
            "Epoch 55/100\n",
            "50029/50029 [==============================] - 16s 313us/step - loss: 0.0021 - val_loss: 0.0025\n",
            "Epoch 56/100\n",
            "50029/50029 [==============================] - 16s 310us/step - loss: 0.0029 - val_loss: 0.0045\n",
            "Epoch 57/100\n",
            "50029/50029 [==============================] - 16s 310us/step - loss: 0.0031 - val_loss: 0.0024\n",
            "Epoch 58/100\n",
            "50029/50029 [==============================] - 16s 310us/step - loss: 0.0017 - val_loss: 0.0084\n",
            "Epoch 59/100\n",
            "50029/50029 [==============================] - 15s 309us/step - loss: 0.0415 - val_loss: 0.0085\n",
            "Epoch 60/100\n",
            "50029/50029 [==============================] - 16s 312us/step - loss: 0.0043 - val_loss: 0.0031\n",
            "Epoch 61/100\n",
            "50029/50029 [==============================] - 15s 309us/step - loss: 0.0022 - val_loss: 0.0025\n",
            "Epoch 62/100\n",
            "50029/50029 [==============================] - 16s 310us/step - loss: 0.0015 - val_loss: 0.0017\n",
            "Epoch 63/100\n",
            "50029/50029 [==============================] - 15s 309us/step - loss: 0.0012 - val_loss: 0.0018\n",
            "Epoch 64/100\n",
            "50029/50029 [==============================] - 15s 309us/step - loss: 0.0013 - val_loss: 0.0024\n",
            "Epoch 65/100\n",
            "50029/50029 [==============================] - 16s 312us/step - loss: 0.0029 - val_loss: 0.0044\n",
            "Epoch 66/100\n",
            "50029/50029 [==============================] - 16s 313us/step - loss: 0.0015 - val_loss: 0.0018\n",
            "Epoch 67/100\n",
            "50029/50029 [==============================] - 16s 314us/step - loss: 0.1050 - val_loss: 0.0133\n",
            "Epoch 68/100\n",
            "50029/50029 [==============================] - 16s 311us/step - loss: 0.0094 - val_loss: 0.0075\n",
            "Epoch 69/100\n",
            "50029/50029 [==============================] - 16s 315us/step - loss: 0.0053 - val_loss: 0.0048\n",
            "Epoch 70/100\n",
            "50029/50029 [==============================] - 16s 312us/step - loss: 0.0037 - val_loss: 0.0043\n",
            "Epoch 71/100\n",
            "50029/50029 [==============================] - 16s 313us/step - loss: 0.0035 - val_loss: 0.0030\n",
            "Epoch 72/100\n",
            "50029/50029 [==============================] - 15s 309us/step - loss: 0.0023 - val_loss: 0.0024\n",
            "\n",
            "Epoch 00072: ReduceLROnPlateau reducing learning rate to 0.0024999999441206455.\n",
            "Epoch 73/100\n",
            "50029/50029 [==============================] - 16s 314us/step - loss: 0.0012 - val_loss: 0.0016\n",
            "Epoch 74/100\n",
            "50029/50029 [==============================] - 15s 309us/step - loss: 0.0010 - val_loss: 0.0014\n",
            "Epoch 75/100\n",
            "50029/50029 [==============================] - 15s 310us/step - loss: 9.1889e-04 - val_loss: 0.0014\n",
            "Epoch 76/100\n",
            "50029/50029 [==============================] - 16s 310us/step - loss: 8.3780e-04 - val_loss: 0.0013\n",
            "Epoch 77/100\n",
            "50029/50029 [==============================] - 16s 313us/step - loss: 7.6387e-04 - val_loss: 0.0013\n",
            "Epoch 78/100\n",
            "50029/50029 [==============================] - 16s 313us/step - loss: 7.1807e-04 - val_loss: 0.0015\n",
            "Epoch 79/100\n",
            "50029/50029 [==============================] - 16s 311us/step - loss: 9.1938e-04 - val_loss: 0.0018\n",
            "Epoch 80/100\n",
            "50029/50029 [==============================] - 16s 314us/step - loss: 0.0014 - val_loss: 0.0021\n",
            "Epoch 81/100\n",
            "50029/50029 [==============================] - 16s 310us/step - loss: 0.0106 - val_loss: 0.0020\n",
            "Epoch 82/100\n",
            "50029/50029 [==============================] - 16s 312us/step - loss: 0.0011 - val_loss: 0.0013\n",
            "Epoch 83/100\n",
            "50029/50029 [==============================] - 16s 311us/step - loss: 7.0878e-04 - val_loss: 0.0010\n",
            "Epoch 84/100\n",
            "50029/50029 [==============================] - 16s 312us/step - loss: 5.5986e-04 - val_loss: 9.1971e-04\n",
            "Epoch 85/100\n",
            "50029/50029 [==============================] - 16s 312us/step - loss: 4.7378e-04 - val_loss: 8.1633e-04\n",
            "Epoch 86/100\n",
            "50029/50029 [==============================] - 16s 312us/step - loss: 4.2237e-04 - val_loss: 7.8776e-04\n",
            "Epoch 87/100\n",
            "50029/50029 [==============================] - 15s 308us/step - loss: 3.6717e-04 - val_loss: 7.2917e-04\n",
            "Epoch 88/100\n",
            "50029/50029 [==============================] - 16s 311us/step - loss: 3.4052e-04 - val_loss: 6.8482e-04\n",
            "Epoch 89/100\n",
            "50029/50029 [==============================] - 16s 314us/step - loss: 3.2374e-04 - val_loss: 6.4948e-04\n",
            "Epoch 90/100\n",
            "50029/50029 [==============================] - 16s 317us/step - loss: 4.0473e-04 - val_loss: 0.0017\n",
            "Epoch 91/100\n",
            "50029/50029 [==============================] - 16s 311us/step - loss: 0.0118 - val_loss: 0.0016\n",
            "Epoch 92/100\n",
            "50029/50029 [==============================] - 16s 312us/step - loss: 7.8850e-04 - val_loss: 0.0010\n",
            "Epoch 93/100\n",
            "50029/50029 [==============================] - 16s 313us/step - loss: 4.9847e-04 - val_loss: 8.1182e-04\n",
            "Epoch 94/100\n",
            "50029/50029 [==============================] - 15s 310us/step - loss: 3.8757e-04 - val_loss: 6.8946e-04\n",
            "Epoch 95/100\n",
            "50029/50029 [==============================] - 15s 309us/step - loss: 3.3211e-04 - val_loss: 6.5047e-04\n",
            "Epoch 96/100\n",
            "50029/50029 [==============================] - 16s 313us/step - loss: 2.8682e-04 - val_loss: 6.1710e-04\n",
            "Epoch 97/100\n",
            "50029/50029 [==============================] - 16s 310us/step - loss: 2.5112e-04 - val_loss: 5.7194e-04\n",
            "Epoch 98/100\n",
            "50029/50029 [==============================] - 16s 316us/step - loss: 2.2244e-04 - val_loss: 5.3977e-04\n",
            "Epoch 99/100\n",
            "50029/50029 [==============================] - 16s 313us/step - loss: 2.0344e-04 - val_loss: 5.0280e-04\n",
            "Epoch 100/100\n",
            "50029/50029 [==============================] - 16s 311us/step - loss: 1.8339e-04 - val_loss: 5.0296e-04\n"
          ],
          "name": "stdout"
        },
        {
          "output_type": "execute_result",
          "data": {
            "text/plain": [
              "<keras.callbacks.History at 0x7fe1180efd30>"
            ]
          },
          "metadata": {
            "tags": []
          },
          "execution_count": 24
        }
      ]
    },
    {
      "cell_type": "markdown",
      "metadata": {
        "id": "lUSnIMFq_ufD",
        "colab_type": "text"
      },
      "source": [
        "훈련과정은 기록된 데이터들과 플롯되어 아래의 그래프를 나타냅니다.\n",
        "\n",
        "손실 및 유효성 검사 손실에는 약간의 급증이 있지만 결국 손실 및 유효성 검사 손실 은 점점 떨어집니다. \n",
        "\n",
        "로그 스케일은 손실과 유효성 검증 손실 사이의 증가하는 차이가 실제보다 크게 나타납니다."
      ]
    },
    {
      "cell_type": "code",
      "metadata": {
        "id": "o3Ywj2QK--nc",
        "colab_type": "code",
        "colab": {
          "base_uri": "https://localhost:8080/",
          "height": 283
        },
        "outputId": "6e9a92a8-7a0a-4d35-c078-49dbfdd33e6e"
      },
      "source": [
        "plt.plot(h.history[\"loss\"], label=\"Loss\")\n",
        "plt.plot(h.history[\"val_loss\"], label=\"Val_Loss\")\n",
        "plt.yscale(\"log\")\n",
        "plt.legend()"
      ],
      "execution_count": 25,
      "outputs": [
        {
          "output_type": "execute_result",
          "data": {
            "text/plain": [
              "<matplotlib.legend.Legend at 0x7fe110058ef0>"
            ]
          },
          "metadata": {
            "tags": []
          },
          "execution_count": 25
        },
        {
          "output_type": "display_data",
          "data": {
            "image/png": "[encoded data removed]",
            "text/plain": [
              "<Figure size 432x288 with 1 Axes>"
            ]
          },
          "metadata": {
            "tags": []
          }
        }
      ]
    },
    {
      "cell_type": "markdown",
      "metadata": {
        "id": "mIgxGBJc_0Ji",
        "colab_type": "text"
      },
      "source": [
        "훈련 된 데이터를 새로운 모델로 재구성 하기 전에 모델에 대한 빠른 테스트를 통해 테스트 세트에서도 재구성 정확도가 우수함을 알 수 있습니다.\n",
        "\n",
        " 아래 코드는 아무것도 출력하지 않으므로 테스트 세트에서 100 개의 테스트 된 SMILES을 그대로 재사용합니다."
      ]
    },
    {
      "cell_type": "code",
      "metadata": {
        "id": "tp_va1Tc--hT",
        "colab_type": "code",
        "colab": {}
      },
      "source": [
        "for i in range(100):\n",
        "    v = model.predict([X_test[i:i+1], X_test[i:i+1]]) #Can't be done as output not necessarely 1\n",
        "    idxs = np.argmax(v, axis=2)\n",
        "    pred=  \"\".join([int_to_char[h] for h in idxs[0]])[:-1]\n",
        "    idxs2 = np.argmax(X_test[i:i+1], axis=2)\n",
        "    true =  \"\".join([int_to_char[k] for k in idxs2[0]])[1:]\n",
        "    if true != pred:\n",
        "        print (true, pred)"
      ],
      "execution_count": 0,
      "outputs": []
    },
    {
      "cell_type": "markdown",
      "metadata": {
        "id": "lURK0Mc3_3_l",
        "colab_type": "text"
      },
      "source": [
        "이제 훈련 된 자동 인코더의 일부를 사용하여 다양한 인코더 및 디코더 모델을 작성합니다. 입력 레이어에서 다른 모델 내부의 출력 레이어로 새 모델을 작성하는 것은 매우 간단합니다. 모델이 빌드 될 때 정의 된 입력 레이어는 재사용되고 neck_output은 출력으로 재사용됩니다. 이 모델은 벡터화 된 미소를 취하여 잠재 공간으로 인코딩합니다."
      ]
    },
    {
      "cell_type": "code",
      "metadata": {
        "id": "AR4ZXOdg--fY",
        "colab_type": "code",
        "colab": {}
      },
      "source": [
        "smiles_to_latent_model = Model(encoder_inputs, neck_outputs)\n"
      ],
      "execution_count": 0,
      "outputs": []
    },
    {
      "cell_type": "code",
      "metadata": {
        "id": "y0xiDnRj--de",
        "colab_type": "code",
        "colab": {}
      },
      "source": [
        "smiles_to_latent_model.save(\"Blog_simple_smi2lat.h5\")\n"
      ],
      "execution_count": 0,
      "outputs": []
    },
    {
      "cell_type": "markdown",
      "metadata": {
        "id": "INIBaDZU_77i",
        "colab_type": "text"
      },
      "source": [
        "다음에 필요한 모델은 잠재 공간을 디코더 LSTM 셀에서 설정해야하는 상태로 디코딩 할 수있는 모델입니다. 잠재 공간과 일치하는 새로운 입력이 정의되었지만 이전의 레이어를 재사용하여 h 및 c 상태를 얻을 수 있습니다. 그렇게하면 가중치가 훈련 된 모델에서 상속됩니다."
      ]
    },
    {
      "cell_type": "code",
      "metadata": {
        "id": "J9ax44O1--bb",
        "colab_type": "code",
        "colab": {}
      },
      "source": [
        "latent_input = Input(shape=(latent_dim,))\n",
        "#reuse_layers\n",
        "state_h_decoded_2 =  decode_h(latent_input)\n",
        "state_c_decoded_2 =  decode_c(latent_input)\n",
        "latent_to_states_model = Model(latent_input, [state_h_decoded_2, state_c_decoded_2])\n",
        "latent_to_states_model.save(\"Blog_simple_lat2state.h5\")\n"
      ],
      "execution_count": 0,
      "outputs": []
    },
    {
      "cell_type": "markdown",
      "metadata": {
        "id": "IsdvhUSe__nX",
        "colab_type": "text"
      },
      "source": [
        "디코더 모델에는 약간 더 많은 작업이 필요합니다. 배치 모드에서 학습되었지만 한 번에 한 문자를 예측하는 상태 저장 모드에서 사용됩니다. 따라서 새로운 batch_shape와 LSTM 레이어가 stateful로 설정된 경우를 제외하고 레이어는 이전과 같이 정확하게 정의됩니다."
      ]
    },
    {
      "cell_type": "code",
      "metadata": {
        "id": "0_uR6Eet--Zl",
        "colab_type": "code",
        "colab": {}
      },
      "source": [
        "#Last one is special, we need to change it to stateful, and change the input shape\n",
        "inf_decoder_inputs = Input(batch_shape=(1, 1, input_shape[1]))\n",
        "inf_decoder_lstm = LSTM(lstm_dim,\n",
        "                    return_sequences=True,\n",
        "                    unroll=unroll,\n",
        "                    stateful=True\n",
        "                   )\n",
        "inf_decoder_outputs = inf_decoder_lstm(inf_decoder_inputs)\n",
        "inf_decoder_dense = Dense(output_dim, activation='softmax')\n",
        "inf_decoder_outputs = inf_decoder_dense(inf_decoder_outputs)\n",
        "sample_model = Model(inf_decoder_inputs, inf_decoder_outputs)"
      ],
      "execution_count": 0,
      "outputs": []
    },
    {
      "cell_type": "markdown",
      "metadata": {
        "id": "JatoZOU7ACr4",
        "colab_type": "text"
      },
      "source": [
        "디코더 모델을 정의한 후 학습 된 자동 인코더 모델에서 해당 가중치가 전송됩니다"
      ]
    },
    {
      "cell_type": "code",
      "metadata": {
        "id": "YLFi8M43--XK",
        "colab_type": "code",
        "colab": {}
      },
      "source": [
        "#Transfer Weights\n",
        "for i in range(1,3):\n",
        "    sample_model.layers[i].set_weights(model.layers[i+6].get_weights())\n",
        "sample_model.save(\"Blog_simple_samplemodel.h5\")"
      ],
      "execution_count": 0,
      "outputs": []
    },
    {
      "cell_type": "code",
      "metadata": {
        "id": "FaH9SZl7--UA",
        "colab_type": "code",
        "colab": {
          "base_uri": "https://localhost:8080/",
          "height": 269
        },
        "outputId": "5e7b85d4-2e50-4b5e-8ad9-6d9f4c7dd8dc"
      },
      "source": [
        "sample_model.summary()"
      ],
      "execution_count": 33,
      "outputs": [
        {
          "output_type": "stream",
          "text": [
            "Model: \"model_4\"\n",
            "_________________________________________________________________\n",
            "Layer (type)                 Output Shape              Param #   \n",
            "=================================================================\n",
            "input_4 (InputLayer)         (1, 1, 22)                0         \n",
            "_________________________________________________________________\n",
            "lstm_3 (LSTM)                (1, 1, 64)                22272     \n",
            "_________________________________________________________________\n",
            "dense_5 (Dense)              (1, 1, 22)                1430      \n",
            "=================================================================\n",
            "Total params: 23,702\n",
            "Trainable params: 23,702\n",
            "Non-trainable params: 0\n",
            "_________________________________________________________________\n"
          ],
          "name": "stdout"
        }
      ]
    },
    {
      "cell_type": "markdown",
      "metadata": {
        "id": "KmvDMeysImPw",
        "colab_type": "text"
      },
      "source": [
        "#Using the latent space as a fingerprint\n"
      ]
    },
    {
      "cell_type": "markdown",
      "metadata": {
        "id": "-2MepSxKIpev",
        "colab_type": "text"
      },
      "source": [
        "잠재 모델에 대한 스마일은 잠재 공간과 같은 SMILES를 지문으로 인코딩하는 데 사용할 수 있습니다."
      ]
    },
    {
      "cell_type": "code",
      "metadata": {
        "id": "0Q5CiTFn--R1",
        "colab_type": "code",
        "colab": {}
      },
      "source": [
        "x_latent = smiles_to_latent_model.predict(X_test)"
      ],
      "execution_count": 0,
      "outputs": []
    },
    {
      "cell_type": "markdown",
      "metadata": {
        "id": "WIjApuq5IshF",
        "colab_type": "text"
      },
      "source": [
        "fingerprint의 유용한 기능은 유사한 분자가 유사한 fingerprint를 생성하는 것입니다. 유사한 분자가 latent space에서 유사한 벡터를 생성하는지 확인하기 위해 유사한 분자에 대한 간단한 검색을 수행 할 수 있습니다.\n",
        "\n",
        " 여기서 latent vector 간의 절대 차이는 metric of similarity로 사용됩니다. \n",
        " \n",
        " 이 테스트는 유사한 분자가 유사하지 않은 잠재 벡터를 얻을 수 있다는 것을 배제하지는 않지만 바로 근처에 대한 빠른 테스트입니다."
      ]
    },
    {
      "cell_type": "code",
      "metadata": {
        "id": "Ts8OPvb8--P0",
        "colab_type": "code",
        "colab": {
          "base_uri": "https://localhost:8080/",
          "height": 397
        },
        "outputId": "a6afb380-450f-47ae-e4a6-0b86e0ed8965"
      },
      "source": [
        "molno = 5\n",
        "latent_mol = smiles_to_latent_model.predict(X_test[molno:molno+1])\n",
        "sorti = np.argsort(np.sum(np.abs(x_latent - latent_mol), axis=1))\n",
        "print (sorti[0:10])\n",
        "print (smiles_test.iloc[sorti[0:8]])\n",
        "Draw.MolsToImage(smiles_test.iloc[sorti[0:8]].apply(Chem.MolFromSmiles))\n"
      ],
      "execution_count": 36,
      "outputs": [
        {
          "output_type": "stream",
          "text": [
            "[    5  1243 14589   744 15039 15472  5251  3991  2449  5247]\n",
            "45051    COCc1cocn1\n",
            "45007    COCc1ccoc1\n",
            "44719    COCc1ccno1\n",
            "45025    CCOc1cnoc1\n",
            "45069    COCc1ncon1\n",
            "45061    COCc1conn1\n",
            "44751    COCc1ncno1\n",
            "44727    COCc1cnno1\n",
            "Name: smiles, dtype: object\n"
          ],
          "name": "stdout"
        },
        {
          "output_type": "execute_result",
          "data": {
            "image/png": "[encoded data removed]",
            "text/plain": [
              "<PIL.Image.Image image mode=RGBA size=1600x200 at 0x7FE0B509C0B8>"
            ]
          },
          "metadata": {
            "tags": []
          },
          "execution_count": 36
        }
      ]
    },
    {
      "cell_type": "markdown",
      "metadata": {
        "id": "iMPAc5loI743",
        "colab_type": "text"
      },
      "source": [
        "첫 번째는 쿼리 분자입니다. 그것들은 비슷해 보이지만 분자 유사성에 대한 우리의 이해를 따르기보다는 SMILES 줄이 매우 유사하기 때문일 수 있습니다. 잠재 공간에서 가장 다른 분자가 무엇인지 살펴 보겠습니다."
      ]
    },
    {
      "cell_type": "code",
      "metadata": {
        "id": "EVgSGq0V--NX",
        "colab_type": "code",
        "colab": {
          "base_uri": "https://localhost:8080/",
          "height": 217
        },
        "outputId": "e9cc2206-5c05-4a0e-fb7c-383088051c51"
      },
      "source": [
        "Draw.MolsToImage(smiles_test.iloc[sorti[-8:]].apply(Chem.MolFromSmiles))\n"
      ],
      "execution_count": 37,
      "outputs": [
        {
          "output_type": "execute_result",
          "data": {
            "image/png": "[encoded data removed]",
            "text/plain": [
              "<PIL.Image.Image image mode=RGBA size=1600x200 at 0x7FE0B508E358>"
            ]
          },
          "metadata": {
            "tags": []
          },
          "execution_count": 37
        }
      ]
    },
    {
      "cell_type": "markdown",
      "metadata": {
        "id": "Nj9YmLqbJBoF",
        "colab_type": "text"
      },
      "source": [
        "# Chemical properties in the latent space\n"
      ]
    },
    {
      "cell_type": "markdown",
      "metadata": {
        "id": "u3UKpzWyJFhn",
        "colab_type": "text"
      },
      "source": [
        "화학적 특성의 대리자로서, 계산 된 LogP 및 MR이 잠재 공간의 PCA 감소에 어떻게 매핑되는지 확인하십시오"
      ]
    },
    {
      "cell_type": "code",
      "metadata": {
        "id": "Z1YokCbXI_Z2",
        "colab_type": "code",
        "colab": {}
      },
      "source": [
        "logp = smiles_test.apply(Chem.MolFromSmiles).apply(Descriptors.MolLogP)"
      ],
      "execution_count": 0,
      "outputs": []
    },
    {
      "cell_type": "code",
      "metadata": {
        "id": "aGr7aNZhI_Wr",
        "colab_type": "code",
        "colab": {
          "base_uri": "https://localhost:8080/",
          "height": 283
        },
        "outputId": "08e38c05-7b8b-4f1d-8982-cf5ff341974f"
      },
      "source": [
        "from sklearn.decomposition import PCA\n",
        "pca = PCA(n_components = 2)\n",
        "red = pca.fit_transform(x_latent)\n",
        "plt.figure()\n",
        "plt.scatter(red[:,0], red[:,1],marker='.', c= logp)\n",
        "print(pca.explained_variance_ratio_, np.sum(pca.explained_variance_ratio_))\n"
      ],
      "execution_count": 39,
      "outputs": [
        {
          "output_type": "stream",
          "text": [
            "[0.23995464 0.18968782] 0.42964244\n"
          ],
          "name": "stdout"
        },
        {
          "output_type": "display_data",
          "data": {
            "image/png": "[encoded data removed]",
            "text/plain": [
              "<Figure size 432x288 with 1 Axes>"
            ]
          },
          "metadata": {
            "tags": []
          }
        }
      ]
    },
    {
      "cell_type": "code",
      "metadata": {
        "id": "Ag9jt1-bI_T9",
        "colab_type": "code",
        "colab": {
          "base_uri": "https://localhost:8080/",
          "height": 283
        },
        "outputId": "06092124-3856-4a86-b1a0-6bb985c82c96"
      },
      "source": [
        "molwt = smiles_test.apply(Chem.MolFromSmiles).apply(Descriptors.MolMR)\n",
        "plt.figure()\n",
        "plt.scatter(red[:,0], red[:,1],marker='.', c= molwt)\n"
      ],
      "execution_count": 40,
      "outputs": [
        {
          "output_type": "execute_result",
          "data": {
            "text/plain": [
              "<matplotlib.collections.PathCollection at 0x7fe0b49e5780>"
            ]
          },
          "metadata": {
            "tags": []
          },
          "execution_count": 40
        },
        {
          "output_type": "display_data",
          "data": {
            "image/png": "[encoded data removed]",
            "text/plain": [
              "<Figure size 432x288 with 1 Axes>"
            ]
          },
          "metadata": {
            "tags": []
          }
        }
      ]
    },
    {
      "cell_type": "markdown",
      "metadata": {
        "id": "eZ0ZOtsTJQ54",
        "colab_type": "text"
      },
      "source": [
        "예측 된 분자 특성의 분포가있는 것 같습니다."
      ]
    },
    {
      "cell_type": "markdown",
      "metadata": {
        "id": "IK0W4qojJTTl",
        "colab_type": "text"
      },
      "source": [
        "# Modeling properties from the latent space\n"
      ]
    },
    {
      "cell_type": "markdown",
      "metadata": {
        "id": "yY8DQyQzJ0j6",
        "colab_type": "text"
      },
      "source": [
        "지문이 QSAR 모델의 기초로 잘 작동하는지 확인하는 것도 흥미로울 수 있습니다. QSAR 모델링의 목표 값에 대한 프록시로서 예측 된 LogP 모델이 작성됩니다. 모델링 된 속성을 사용하여 모델을 작성하는 것은 데모 목적으로 만 수행됩니다."
      ]
    },
    {
      "cell_type": "code",
      "metadata": {
        "id": "LojQOfdAI_RS",
        "colab_type": "code",
        "colab": {}
      },
      "source": [
        "#Model LogP?\n",
        "x_train_latent = smiles_to_latent_model.predict(X_train)\n",
        "logp_train = smiles_train.apply(Chem.MolFromSmiles).apply(Descriptors.MolLogP)\n"
      ],
      "execution_count": 0,
      "outputs": []
    },
    {
      "cell_type": "code",
      "metadata": {
        "id": "pRUNBXMBI_Of",
        "colab_type": "code",
        "colab": {}
      },
      "source": [
        "from keras.models import Sequential\n",
        "logp_model = Sequential()\n",
        "logp_model.add(Dense(128, input_shape=(latent_dim,), activation=\"relu\"))\n",
        "logp_model.add(Dense(128, activation=\"relu\"))\n",
        "logp_model.add(Dense(1))\n",
        "logp_model.compile(optimizer=\"adam\", loss=\"mse\")"
      ],
      "execution_count": 0,
      "outputs": []
    },
    {
      "cell_type": "code",
      "metadata": {
        "id": "N8giRXcrKBJW",
        "colab_type": "code",
        "colab": {
          "base_uri": "https://localhost:8080/",
          "height": 1000
        },
        "outputId": "98c232ef-8814-4a12-d467-538977d5da65"
      },
      "source": [
        "rlr = ReduceLROnPlateau(monitor='val_loss', factor=0.5,patience=10, min_lr=0.000001, verbose=1, epsilon=1e-5)\n",
        "logp_model.fit(x_train_latent, logp_train, batch_size=128, epochs=200, callbacks = [rlr])"
      ],
      "execution_count": 43,
      "outputs": [
        {
          "output_type": "stream",
          "text": [
            "/usr/local/lib/python3.6/dist-packages/keras/callbacks.py:1335: UserWarning: `epsilon` argument is deprecated and will be removed, use `min_delta` instead.\n",
            "  warnings.warn('`epsilon` argument is deprecated and '\n"
          ],
          "name": "stderr"
        },
        {
          "output_type": "stream",
          "text": [
            "Epoch 1/200\n",
            "50029/50029 [==============================] - 1s 29us/step - loss: 0.4099\n",
            "Epoch 2/200\n",
            " 7296/50029 [===>..........................] - ETA: 0s - loss: 0.3219"
          ],
          "name": "stdout"
        },
        {
          "output_type": "stream",
          "text": [
            "/usr/local/lib/python3.6/dist-packages/keras/callbacks.py:1379: RuntimeWarning: Reduce LR on plateau conditioned on metric `val_loss` which is not available. Available metrics are: loss,lr\n",
            "  (self.monitor, ','.join(list(logs.keys()))), RuntimeWarning\n"
          ],
          "name": "stderr"
        },
        {
          "output_type": "stream",
          "text": [
            "50029/50029 [==============================] - 1s 22us/step - loss: 0.3056\n",
            "Epoch 3/200\n",
            "50029/50029 [==============================] - 1s 23us/step - loss: 0.2656\n",
            "Epoch 4/200\n",
            "50029/50029 [==============================] - 1s 21us/step - loss: 0.2490\n",
            "Epoch 5/200\n",
            "50029/50029 [==============================] - 1s 21us/step - loss: 0.2278\n",
            "Epoch 6/200\n",
            "50029/50029 [==============================] - 1s 21us/step - loss: 0.2180\n",
            "Epoch 7/200\n",
            "50029/50029 [==============================] - 1s 20us/step - loss: 0.2113\n",
            "Epoch 8/200\n",
            "50029/50029 [==============================] - 1s 23us/step - loss: 0.2022\n",
            "Epoch 9/200\n",
            "50029/50029 [==============================] - 1s 21us/step - loss: 0.1942\n",
            "Epoch 10/200\n",
            "50029/50029 [==============================] - 1s 21us/step - loss: 0.1886\n",
            "Epoch 11/200\n",
            "50029/50029 [==============================] - 1s 21us/step - loss: 0.1831\n",
            "Epoch 12/200\n",
            "50029/50029 [==============================] - 1s 21us/step - loss: 0.1772\n",
            "Epoch 13/200\n",
            "50029/50029 [==============================] - 1s 21us/step - loss: 0.1764\n",
            "Epoch 14/200\n",
            "50029/50029 [==============================] - 1s 21us/step - loss: 0.1704\n",
            "Epoch 15/200\n",
            "50029/50029 [==============================] - 1s 21us/step - loss: 0.1669\n",
            "Epoch 16/200\n",
            "50029/50029 [==============================] - 1s 22us/step - loss: 0.1615\n",
            "Epoch 17/200\n",
            "50029/50029 [==============================] - 1s 21us/step - loss: 0.1599\n",
            "Epoch 18/200\n",
            "50029/50029 [==============================] - 1s 22us/step - loss: 0.1581\n",
            "Epoch 19/200\n",
            "50029/50029 [==============================] - 1s 21us/step - loss: 0.1537\n",
            "Epoch 20/200\n",
            "50029/50029 [==============================] - 1s 21us/step - loss: 0.1494\n",
            "Epoch 21/200\n",
            "50029/50029 [==============================] - 1s 20us/step - loss: 0.1483\n",
            "Epoch 22/200\n",
            "50029/50029 [==============================] - 1s 21us/step - loss: 0.1466\n",
            "Epoch 23/200\n",
            "50029/50029 [==============================] - 1s 22us/step - loss: 0.1430\n",
            "Epoch 24/200\n",
            "50029/50029 [==============================] - 1s 21us/step - loss: 0.1405\n",
            "Epoch 25/200\n",
            "50029/50029 [==============================] - 1s 21us/step - loss: 0.1393\n",
            "Epoch 26/200\n",
            "50029/50029 [==============================] - 1s 21us/step - loss: 0.1352\n",
            "Epoch 27/200\n",
            "50029/50029 [==============================] - 1s 22us/step - loss: 0.1358\n",
            "Epoch 28/200\n",
            "50029/50029 [==============================] - 1s 21us/step - loss: 0.1322\n",
            "Epoch 29/200\n",
            "50029/50029 [==============================] - 1s 20us/step - loss: 0.1306\n",
            "Epoch 30/200\n",
            "50029/50029 [==============================] - 1s 21us/step - loss: 0.1311\n",
            "Epoch 31/200\n",
            "50029/50029 [==============================] - 1s 20us/step - loss: 0.1290\n",
            "Epoch 32/200\n",
            "50029/50029 [==============================] - 1s 21us/step - loss: 0.1258\n",
            "Epoch 33/200\n",
            "50029/50029 [==============================] - 1s 21us/step - loss: 0.1249\n",
            "Epoch 34/200\n",
            "50029/50029 [==============================] - 1s 22us/step - loss: 0.1246\n",
            "Epoch 35/200\n",
            "50029/50029 [==============================] - 1s 21us/step - loss: 0.1215\n",
            "Epoch 36/200\n",
            "50029/50029 [==============================] - 1s 22us/step - loss: 0.1214\n",
            "Epoch 37/200\n",
            "50029/50029 [==============================] - 1s 21us/step - loss: 0.1182\n",
            "Epoch 38/200\n",
            "50029/50029 [==============================] - 1s 21us/step - loss: 0.1170\n",
            "Epoch 39/200\n",
            "50029/50029 [==============================] - 1s 21us/step - loss: 0.1176\n",
            "Epoch 40/200\n",
            "50029/50029 [==============================] - 1s 21us/step - loss: 0.1173\n",
            "Epoch 41/200\n",
            "50029/50029 [==============================] - 1s 21us/step - loss: 0.1149\n",
            "Epoch 42/200\n",
            "50029/50029 [==============================] - 1s 21us/step - loss: 0.1155\n",
            "Epoch 43/200\n",
            "50029/50029 [==============================] - 1s 21us/step - loss: 0.1122\n",
            "Epoch 44/200\n",
            "50029/50029 [==============================] - 1s 21us/step - loss: 0.1136\n",
            "Epoch 45/200\n",
            "50029/50029 [==============================] - 1s 21us/step - loss: 0.1109\n",
            "Epoch 46/200\n",
            "50029/50029 [==============================] - 1s 21us/step - loss: 0.1120\n",
            "Epoch 47/200\n",
            "50029/50029 [==============================] - 1s 21us/step - loss: 0.1082\n",
            "Epoch 48/200\n",
            "50029/50029 [==============================] - 1s 22us/step - loss: 0.1080\n",
            "Epoch 49/200\n",
            "50029/50029 [==============================] - 1s 21us/step - loss: 0.1076\n",
            "Epoch 50/200\n",
            "50029/50029 [==============================] - 1s 21us/step - loss: 0.1076\n",
            "Epoch 51/200\n",
            "50029/50029 [==============================] - 1s 22us/step - loss: 0.1064\n",
            "Epoch 52/200\n",
            "50029/50029 [==============================] - 1s 21us/step - loss: 0.1055\n",
            "Epoch 53/200\n",
            "50029/50029 [==============================] - 1s 20us/step - loss: 0.1048\n",
            "Epoch 54/200\n",
            "50029/50029 [==============================] - 1s 21us/step - loss: 0.1019\n",
            "Epoch 55/200\n",
            "50029/50029 [==============================] - 1s 21us/step - loss: 0.1047\n",
            "Epoch 56/200\n",
            "50029/50029 [==============================] - 1s 21us/step - loss: 0.1017\n",
            "Epoch 57/200\n",
            "50029/50029 [==============================] - 1s 21us/step - loss: 0.1012\n",
            "Epoch 58/200\n",
            "50029/50029 [==============================] - 1s 21us/step - loss: 0.1016\n",
            "Epoch 59/200\n",
            "50029/50029 [==============================] - 1s 21us/step - loss: 0.0997\n",
            "Epoch 60/200\n",
            "50029/50029 [==============================] - 1s 22us/step - loss: 0.1000\n",
            "Epoch 61/200\n",
            "50029/50029 [==============================] - 1s 21us/step - loss: 0.0979\n",
            "Epoch 62/200\n",
            "50029/50029 [==============================] - 1s 21us/step - loss: 0.0993\n",
            "Epoch 63/200\n",
            "50029/50029 [==============================] - 1s 21us/step - loss: 0.0971\n",
            "Epoch 64/200\n",
            "50029/50029 [==============================] - 1s 21us/step - loss: 0.0978\n",
            "Epoch 65/200\n",
            "50029/50029 [==============================] - 1s 22us/step - loss: 0.0955\n",
            "Epoch 66/200\n",
            "50029/50029 [==============================] - 1s 20us/step - loss: 0.0958\n",
            "Epoch 67/200\n",
            "50029/50029 [==============================] - 1s 21us/step - loss: 0.0947\n",
            "Epoch 68/200\n",
            "50029/50029 [==============================] - 1s 21us/step - loss: 0.0943\n",
            "Epoch 69/200\n",
            "50029/50029 [==============================] - 1s 21us/step - loss: 0.0942\n",
            "Epoch 70/200\n",
            "50029/50029 [==============================] - 1s 21us/step - loss: 0.0940\n",
            "Epoch 71/200\n",
            "50029/50029 [==============================] - 1s 21us/step - loss: 0.0928\n",
            "Epoch 72/200\n",
            "50029/50029 [==============================] - 1s 21us/step - loss: 0.0929\n",
            "Epoch 73/200\n",
            "50029/50029 [==============================] - 1s 21us/step - loss: 0.0910\n",
            "Epoch 74/200\n",
            "50029/50029 [==============================] - 1s 22us/step - loss: 0.0926\n",
            "Epoch 75/200\n",
            "50029/50029 [==============================] - 1s 22us/step - loss: 0.0910\n",
            "Epoch 76/200\n",
            "50029/50029 [==============================] - 1s 22us/step - loss: 0.0907\n",
            "Epoch 77/200\n",
            "50029/50029 [==============================] - 1s 21us/step - loss: 0.0894\n",
            "Epoch 78/200\n",
            "50029/50029 [==============================] - 1s 21us/step - loss: 0.0898\n",
            "Epoch 79/200\n",
            "50029/50029 [==============================] - 1s 22us/step - loss: 0.0892\n",
            "Epoch 80/200\n",
            "50029/50029 [==============================] - 1s 21us/step - loss: 0.0880\n",
            "Epoch 81/200\n",
            "50029/50029 [==============================] - 1s 21us/step - loss: 0.0888\n",
            "Epoch 82/200\n",
            "50029/50029 [==============================] - 1s 21us/step - loss: 0.0875\n",
            "Epoch 83/200\n",
            "50029/50029 [==============================] - 1s 21us/step - loss: 0.0868\n",
            "Epoch 84/200\n",
            "50029/50029 [==============================] - 1s 21us/step - loss: 0.0894\n",
            "Epoch 85/200\n",
            "50029/50029 [==============================] - 1s 21us/step - loss: 0.0852\n",
            "Epoch 86/200\n",
            "50029/50029 [==============================] - 1s 21us/step - loss: 0.0855\n",
            "Epoch 87/200\n",
            "50029/50029 [==============================] - 1s 21us/step - loss: 0.0855\n",
            "Epoch 88/200\n",
            "50029/50029 [==============================] - 1s 21us/step - loss: 0.0844\n",
            "Epoch 89/200\n",
            "50029/50029 [==============================] - 1s 21us/step - loss: 0.0862\n",
            "Epoch 90/200\n",
            "50029/50029 [==============================] - 1s 21us/step - loss: 0.0851\n",
            "Epoch 91/200\n",
            "50029/50029 [==============================] - 1s 21us/step - loss: 0.0833\n",
            "Epoch 92/200\n",
            "50029/50029 [==============================] - 1s 21us/step - loss: 0.0825\n",
            "Epoch 93/200\n",
            "50029/50029 [==============================] - 1s 22us/step - loss: 0.0834\n",
            "Epoch 94/200\n",
            "50029/50029 [==============================] - 1s 20us/step - loss: 0.0830\n",
            "Epoch 95/200\n",
            "50029/50029 [==============================] - 1s 21us/step - loss: 0.0842\n",
            "Epoch 96/200\n",
            "50029/50029 [==============================] - 1s 21us/step - loss: 0.0817\n",
            "Epoch 97/200\n",
            "50029/50029 [==============================] - 1s 21us/step - loss: 0.0815\n",
            "Epoch 98/200\n",
            "50029/50029 [==============================] - 1s 21us/step - loss: 0.0809\n",
            "Epoch 99/200\n",
            "50029/50029 [==============================] - 1s 21us/step - loss: 0.0816\n",
            "Epoch 100/200\n",
            "50029/50029 [==============================] - 1s 21us/step - loss: 0.0810\n",
            "Epoch 101/200\n",
            "50029/50029 [==============================] - 1s 21us/step - loss: 0.0810\n",
            "Epoch 102/200\n",
            "50029/50029 [==============================] - 1s 22us/step - loss: 0.0810\n",
            "Epoch 103/200\n",
            "50029/50029 [==============================] - 1s 21us/step - loss: 0.0816\n",
            "Epoch 104/200\n",
            "50029/50029 [==============================] - 1s 21us/step - loss: 0.0792\n",
            "Epoch 105/200\n",
            "50029/50029 [==============================] - 1s 21us/step - loss: 0.0796\n",
            "Epoch 106/200\n",
            "50029/50029 [==============================] - 1s 21us/step - loss: 0.0801\n",
            "Epoch 107/200\n",
            "50029/50029 [==============================] - 1s 21us/step - loss: 0.0801\n",
            "Epoch 108/200\n",
            "50029/50029 [==============================] - 1s 22us/step - loss: 0.0767\n",
            "Epoch 109/200\n",
            "50029/50029 [==============================] - 1s 21us/step - loss: 0.0788\n",
            "Epoch 110/200\n",
            "50029/50029 [==============================] - 1s 21us/step - loss: 0.0770\n",
            "Epoch 111/200\n",
            "50029/50029 [==============================] - 1s 22us/step - loss: 0.0758\n",
            "Epoch 112/200\n",
            "50029/50029 [==============================] - 1s 22us/step - loss: 0.0775\n",
            "Epoch 113/200\n",
            "50029/50029 [==============================] - 1s 21us/step - loss: 0.0778\n",
            "Epoch 114/200\n",
            "50029/50029 [==============================] - 1s 21us/step - loss: 0.0758\n",
            "Epoch 115/200\n",
            "50029/50029 [==============================] - 1s 21us/step - loss: 0.0756\n",
            "Epoch 116/200\n",
            "50029/50029 [==============================] - 1s 22us/step - loss: 0.0773\n",
            "Epoch 117/200\n",
            "50029/50029 [==============================] - 1s 22us/step - loss: 0.0767\n",
            "Epoch 118/200\n",
            "50029/50029 [==============================] - 1s 21us/step - loss: 0.0753\n",
            "Epoch 119/200\n",
            "50029/50029 [==============================] - 1s 22us/step - loss: 0.0744\n",
            "Epoch 120/200\n",
            "50029/50029 [==============================] - 1s 21us/step - loss: 0.0748\n",
            "Epoch 121/200\n",
            "50029/50029 [==============================] - 1s 22us/step - loss: 0.0744\n",
            "Epoch 122/200\n",
            "50029/50029 [==============================] - 1s 21us/step - loss: 0.0751\n",
            "Epoch 123/200\n",
            "50029/50029 [==============================] - 1s 21us/step - loss: 0.0723\n",
            "Epoch 124/200\n",
            "50029/50029 [==============================] - 1s 21us/step - loss: 0.0735\n",
            "Epoch 125/200\n",
            "50029/50029 [==============================] - 1s 21us/step - loss: 0.0736\n",
            "Epoch 126/200\n",
            "50029/50029 [==============================] - 1s 21us/step - loss: 0.0744\n",
            "Epoch 127/200\n",
            "50029/50029 [==============================] - 1s 22us/step - loss: 0.0747\n",
            "Epoch 128/200\n",
            "50029/50029 [==============================] - 1s 21us/step - loss: 0.0717\n",
            "Epoch 129/200\n",
            "50029/50029 [==============================] - 1s 22us/step - loss: 0.0717\n",
            "Epoch 130/200\n",
            "50029/50029 [==============================] - 1s 21us/step - loss: 0.0717\n",
            "Epoch 131/200\n",
            "50029/50029 [==============================] - 1s 21us/step - loss: 0.0736\n",
            "Epoch 132/200\n",
            "50029/50029 [==============================] - 1s 22us/step - loss: 0.0716\n",
            "Epoch 133/200\n",
            "50029/50029 [==============================] - 1s 21us/step - loss: 0.0701\n",
            "Epoch 134/200\n",
            "50029/50029 [==============================] - 1s 21us/step - loss: 0.0720\n",
            "Epoch 135/200\n",
            "50029/50029 [==============================] - 1s 21us/step - loss: 0.0717\n",
            "Epoch 136/200\n",
            "50029/50029 [==============================] - 1s 23us/step - loss: 0.0707\n",
            "Epoch 137/200\n",
            "50029/50029 [==============================] - 1s 21us/step - loss: 0.0714\n",
            "Epoch 138/200\n",
            "50029/50029 [==============================] - 1s 21us/step - loss: 0.0720\n",
            "Epoch 139/200\n",
            "50029/50029 [==============================] - 1s 21us/step - loss: 0.0711\n",
            "Epoch 140/200\n",
            "50029/50029 [==============================] - 1s 21us/step - loss: 0.0692\n",
            "Epoch 141/200\n",
            "50029/50029 [==============================] - 1s 21us/step - loss: 0.0708\n",
            "Epoch 142/200\n",
            "50029/50029 [==============================] - 1s 21us/step - loss: 0.0685\n",
            "Epoch 143/200\n",
            "50029/50029 [==============================] - 1s 22us/step - loss: 0.0699\n",
            "Epoch 144/200\n",
            "50029/50029 [==============================] - 1s 22us/step - loss: 0.0692\n",
            "Epoch 145/200\n",
            "50029/50029 [==============================] - 1s 22us/step - loss: 0.0688\n",
            "Epoch 146/200\n",
            "50029/50029 [==============================] - 1s 22us/step - loss: 0.0693\n",
            "Epoch 147/200\n",
            "50029/50029 [==============================] - 1s 22us/step - loss: 0.0688\n",
            "Epoch 148/200\n",
            "50029/50029 [==============================] - 1s 21us/step - loss: 0.0682\n",
            "Epoch 149/200\n",
            "50029/50029 [==============================] - 1s 22us/step - loss: 0.0681\n",
            "Epoch 150/200\n",
            "50029/50029 [==============================] - 1s 21us/step - loss: 0.0680\n",
            "Epoch 151/200\n",
            "50029/50029 [==============================] - 1s 21us/step - loss: 0.0686\n",
            "Epoch 152/200\n",
            "50029/50029 [==============================] - 1s 21us/step - loss: 0.0679\n",
            "Epoch 153/200\n",
            "50029/50029 [==============================] - 1s 22us/step - loss: 0.0666\n",
            "Epoch 154/200\n",
            "50029/50029 [==============================] - 1s 21us/step - loss: 0.0674\n",
            "Epoch 155/200\n",
            "50029/50029 [==============================] - 1s 21us/step - loss: 0.0683\n",
            "Epoch 156/200\n",
            "50029/50029 [==============================] - 1s 22us/step - loss: 0.0663\n",
            "Epoch 157/200\n",
            "50029/50029 [==============================] - 1s 22us/step - loss: 0.0660\n",
            "Epoch 158/200\n",
            "50029/50029 [==============================] - 1s 21us/step - loss: 0.0680\n",
            "Epoch 159/200\n",
            "50029/50029 [==============================] - 1s 20us/step - loss: 0.0679\n",
            "Epoch 160/200\n",
            "50029/50029 [==============================] - 1s 21us/step - loss: 0.0662\n",
            "Epoch 161/200\n",
            "50029/50029 [==============================] - 1s 21us/step - loss: 0.0648\n",
            "Epoch 162/200\n",
            "50029/50029 [==============================] - 1s 21us/step - loss: 0.0674\n",
            "Epoch 163/200\n",
            "50029/50029 [==============================] - 1s 20us/step - loss: 0.0653\n",
            "Epoch 164/200\n",
            "50029/50029 [==============================] - 1s 22us/step - loss: 0.0656\n",
            "Epoch 165/200\n",
            "50029/50029 [==============================] - 1s 21us/step - loss: 0.0647\n",
            "Epoch 166/200\n",
            "50029/50029 [==============================] - 1s 21us/step - loss: 0.0658\n",
            "Epoch 167/200\n",
            "50029/50029 [==============================] - 1s 21us/step - loss: 0.0674\n",
            "Epoch 168/200\n",
            "50029/50029 [==============================] - 1s 22us/step - loss: 0.0653\n",
            "Epoch 169/200\n",
            "50029/50029 [==============================] - 1s 21us/step - loss: 0.0656\n",
            "Epoch 170/200\n",
            "50029/50029 [==============================] - 1s 21us/step - loss: 0.0655\n",
            "Epoch 171/200\n",
            "50029/50029 [==============================] - 1s 20us/step - loss: 0.0650\n",
            "Epoch 172/200\n",
            "50029/50029 [==============================] - 1s 22us/step - loss: 0.0636\n",
            "Epoch 173/200\n",
            "50029/50029 [==============================] - 1s 21us/step - loss: 0.0641\n",
            "Epoch 174/200\n",
            "50029/50029 [==============================] - 1s 21us/step - loss: 0.0640\n",
            "Epoch 175/200\n",
            "50029/50029 [==============================] - 1s 22us/step - loss: 0.0637\n",
            "Epoch 176/200\n",
            "50029/50029 [==============================] - 1s 21us/step - loss: 0.0637\n",
            "Epoch 177/200\n",
            "50029/50029 [==============================] - 1s 21us/step - loss: 0.0631\n",
            "Epoch 178/200\n",
            "50029/50029 [==============================] - 1s 21us/step - loss: 0.0644\n",
            "Epoch 179/200\n",
            "50029/50029 [==============================] - 1s 21us/step - loss: 0.0636\n",
            "Epoch 180/200\n",
            "50029/50029 [==============================] - 1s 21us/step - loss: 0.0635\n",
            "Epoch 181/200\n",
            "50029/50029 [==============================] - 1s 20us/step - loss: 0.0643\n",
            "Epoch 182/200\n",
            "50029/50029 [==============================] - 1s 21us/step - loss: 0.0622\n",
            "Epoch 183/200\n",
            "50029/50029 [==============================] - 1s 20us/step - loss: 0.0636\n",
            "Epoch 184/200\n",
            "50029/50029 [==============================] - 1s 21us/step - loss: 0.0632\n",
            "Epoch 185/200\n",
            "50029/50029 [==============================] - 1s 21us/step - loss: 0.0634\n",
            "Epoch 186/200\n",
            "50029/50029 [==============================] - 1s 21us/step - loss: 0.0616\n",
            "Epoch 187/200\n",
            "50029/50029 [==============================] - 1s 21us/step - loss: 0.0618\n",
            "Epoch 188/200\n",
            "50029/50029 [==============================] - 1s 22us/step - loss: 0.0624\n",
            "Epoch 189/200\n",
            "50029/50029 [==============================] - 1s 21us/step - loss: 0.0635\n",
            "Epoch 190/200\n",
            "50029/50029 [==============================] - 1s 21us/step - loss: 0.0625\n",
            "Epoch 191/200\n",
            "50029/50029 [==============================] - 1s 21us/step - loss: 0.0629\n",
            "Epoch 192/200\n",
            "50029/50029 [==============================] - 1s 22us/step - loss: 0.0625\n",
            "Epoch 193/200\n",
            "50029/50029 [==============================] - 1s 21us/step - loss: 0.0611\n",
            "Epoch 194/200\n",
            "50029/50029 [==============================] - 1s 21us/step - loss: 0.0618\n",
            "Epoch 195/200\n",
            "50029/50029 [==============================] - 1s 21us/step - loss: 0.0616\n",
            "Epoch 196/200\n",
            "50029/50029 [==============================] - 1s 21us/step - loss: 0.0616\n",
            "Epoch 197/200\n",
            "50029/50029 [==============================] - 1s 21us/step - loss: 0.0616\n",
            "Epoch 198/200\n",
            "50029/50029 [==============================] - 1s 20us/step - loss: 0.0607\n",
            "Epoch 199/200\n",
            "50029/50029 [==============================] - 1s 21us/step - loss: 0.0605\n",
            "Epoch 200/200\n",
            "50029/50029 [==============================] - 1s 21us/step - loss: 0.0615\n"
          ],
          "name": "stdout"
        },
        {
          "output_type": "execute_result",
          "data": {
            "text/plain": [
              "<keras.callbacks.History at 0x7fe0b49b6860>"
            ]
          },
          "metadata": {
            "tags": []
          },
          "execution_count": 43
        }
      ]
    },
    {
      "cell_type": "code",
      "metadata": {
        "id": "jOgY2sH3KKL1",
        "colab_type": "code",
        "colab": {
          "base_uri": "https://localhost:8080/",
          "height": 283
        },
        "outputId": "ea2eea6d-2349-4638-877d-4ab18aec9103"
      },
      "source": [
        "logp_pred_train = logp_model.predict(x_train_latent)\n",
        "logp_pred_test = logp_model.predict(x_latent)\n",
        "plt.scatter(logp, logp_pred_test, label=\"Test\")\n",
        "plt.scatter(logp_train, logp_pred_train, label=\"Train\")\n",
        "plt.legend()"
      ],
      "execution_count": 44,
      "outputs": [
        {
          "output_type": "execute_result",
          "data": {
            "text/plain": [
              "<matplotlib.legend.Legend at 0x7fe0aaff2f28>"
            ]
          },
          "metadata": {
            "tags": []
          },
          "execution_count": 44
        },
        {
          "output_type": "display_data",
          "data": {
            "image/png": "[encoded data removed]",
            "text/plain": [
              "<Figure size 432x288 with 1 Axes>"
            ]
          },
          "metadata": {
            "tags": []
          }
        }
      ]
    },
    {
      "cell_type": "markdown",
      "metadata": {
        "id": "YRl0QdcnI_Bc",
        "colab_type": "text"
      },
      "source": [
        "모델링 된 property를  모델링 할 때 훨씬 더 잘 맞을 것으로 예상됩니다."
      ]
    },
    {
      "cell_type": "markdown",
      "metadata": {
        "id": "b8G33iMJI-9f",
        "colab_type": "text"
      },
      "source": [
        "# From latent space to SMILES\n"
      ]
    },
    {
      "cell_type": "markdown",
      "metadata": {
        "id": "roHlF3jbKzLW",
        "colab_type": "text"
      },
      "source": [
        "latent space를 샘플링하려면 두 단계가 필요합니다. \n",
        "\n",
        "먼저 latent_to_states_model을 사용하여 state h & state c를 계산 한 다음 디코더 LSTM 네트워크의 초기 상태를 설정합니다.\n",
        "\n",
        "LSTM 네트워크에는 입력 문자 벡터가 입력되고 끝 문자 \"E\"가 나타날 때까지 다음 문자를 반복적으로 샘플링합니다."
      ]
    },
    {
      "cell_type": "code",
      "metadata": {
        "id": "5s4fDDK4LOmd",
        "colab_type": "code",
        "colab": {}
      },
      "source": [
        "def latent_to_smiles(latent):\n",
        "    #decode states and set Reset the LSTM cells with them\n",
        "    states = latent_to_states_model.predict(latent)\n",
        "    sample_model.layers[1].reset_states(states=[states[0],states[1]])\n",
        "    #Prepare the input char\n",
        "    startidx = char_to_int[\"!\"]\n",
        "    samplevec = np.zeros((1,1,22))\n",
        "    samplevec[0,0,startidx] = 1\n",
        "    smiles = \"\"\n",
        "    #Loop and predict next char\n",
        "    for i in range(28):\n",
        "        o = sample_model.predict(samplevec)\n",
        "        sampleidx = np.argmax(o)\n",
        "        samplechar = int_to_char[sampleidx]\n",
        "        if samplechar != \"E\":\n",
        "            smiles = smiles + int_to_char[sampleidx]\n",
        "            samplevec = np.zeros((1,1,22))\n",
        "            samplevec[0,0,sampleidx] = 1\n",
        "        else:\n",
        "            break\n",
        "    return smiles"
      ],
      "execution_count": 0,
      "outputs": []
    },
    {
      "cell_type": "code",
      "metadata": {
        "id": "cgZ-LtNuLOkN",
        "colab_type": "code",
        "colab": {
          "base_uri": "https://localhost:8080/",
          "height": 53
        },
        "outputId": "6487a6a2-2096-43cf-f10c-c64c111c39d0"
      },
      "source": [
        "smiles = latent_to_smiles(x_latent[0:1])\n",
        "print (smiles)\n",
        "print (smiles_test.iloc[0])"
      ],
      "execution_count": 47,
      "outputs": [
        {
          "output_type": "stream",
          "text": [
            "NCCC1OC=NO1\n",
            "NCCC1OC=NO1\n"
          ],
          "name": "stdout"
        }
      ]
    },
    {
      "cell_type": "markdown",
      "metadata": {
        "id": "m5FjLlHiLdF5",
        "colab_type": "text"
      },
      "source": [
        "테스트 세트를 샘플링 할 때 SMILES의 비율이 얼마나 큰지 아는 것이 적절할 수 있습니까?"
      ]
    },
    {
      "cell_type": "code",
      "metadata": {
        "id": "EQHNcW-VLOZQ",
        "colab_type": "code",
        "colab": {
          "base_uri": "https://localhost:8080/",
          "height": 53
        },
        "outputId": "73a0319d-b2f6-4fdc-a5be-0f5fc4642adb"
      },
      "source": [
        "wrong = 0\n",
        "for i in range(1000):\n",
        "    smiles = latent_to_smiles(x_latent[i:i+1])\n",
        "    mol = Chem.MolFromSmiles(smiles)\n",
        "    if mol:\n",
        "        pass\n",
        "    else:\n",
        "        print (smiles)\n",
        "        wrong = wrong + 1\n",
        "print (\"%0.1F percent wrongly formatted smiles\"%(wrong/float(1000)*100))\n"
      ],
      "execution_count": 49,
      "outputs": [
        {
          "output_type": "stream",
          "text": [
            "Cc1[nH]ccc1=NO\n",
            "0.1 percent wrongly formatted smiles\n"
          ],
          "name": "stdout"
        }
      ]
    },
    {
      "cell_type": "markdown",
      "metadata": {
        "id": "jomXKCGWLgoX",
        "colab_type": "text"
      },
      "source": [
        "즉  smile 형태에서 0.1% 오차가 있습니다."
      ]
    },
    {
      "cell_type": "markdown",
      "metadata": {
        "id": "K8dOG5etMC1j",
        "colab_type": "text"
      },
      "source": [
        "이것은 실제로 아주 좋습니다. 또 다른 흥미로운 점은 잠복 공간에서 분자가 \"보간\"될 수 있는지 확인하는 것입니다."
      ]
    },
    {
      "cell_type": "code",
      "metadata": {
        "id": "gttgzgY9MFD0",
        "colab_type": "code",
        "colab": {
          "base_uri": "https://localhost:8080/",
          "height": 1000
        },
        "outputId": "8377e5d7-effe-4fa7-bbee-46b00113c55d"
      },
      "source": [
        "#Interpolation test in latent_space\n",
        "i = 0\n",
        "j= 2\n",
        "latent1 = x_latent[j:j+1]\n",
        "latent0 = x_latent[i:i+1]\n",
        "mols1 = []\n",
        "ratios = np.linspace(0,1,25)\n",
        "for r in ratios:\n",
        "    #print r\n",
        "    rlatent = (1.0-r)*latent0 + r*latent1\n",
        "    smiles  = latent_to_smiles(rlatent)\n",
        "    mol = Chem.MolFromSmiles(smiles)\n",
        "    if mol:\n",
        "        mols1.append(mol)\n",
        "    else:\n",
        "        print (smiles)\n",
        "Draw.MolsToGridImage(mols1, molsPerRow=5)"
      ],
      "execution_count": 51,
      "outputs": [
        {
          "output_type": "stream",
          "text": [
            "NCCC1=OCOC1\n",
            "NCC1CNC2ON1\n",
            "CN1CCCON=C12\n",
            "CN1CCCON=C12\n"
          ],
          "name": "stdout"
        },
        {
          "output_type": "execute_result",
          "data": {
            "image/png": "[encoded data removed]",
            "text/plain": [
              "<PIL.PngImagePlugin.PngImageFile image mode=RGB size=1000x1000 at 0x7FE0AAF26A58>"
            ]
          },
          "metadata": {
            "tags": []
          },
          "execution_count": 51
        }
      ]
    },
    {
      "cell_type": "markdown",
      "metadata": {
        "id": "PbXKjKK8MuLi",
        "colab_type": "text"
      },
      "source": [
        "25 개 분자 중 2 개를 파싱 할 수 없기 때문에 잘못된 샘플링이 더 높은 것 같습니다. 보간은 또한 잠복 공간의 약간 다른 영역에 대해 동일한 분자가 어떻게 생성되는지를 보여줍니다. 이것은 분자가 불연속적이고 잠복 공간이 연속적이라는 것을 반영하며, 우리가 두 분자 사이의 경계에있을 때 실패 할 가능성이 높습니다.\n",
        "검사해야 할 또 다른 흥미로운 특성은 기존 분자 벡터에 약간의 무작위성을 추가함으로써 리드 분자와 다소 유사한 신규 분자가있을 수 있는지입니다."
      ]
    },
    {
      "cell_type": "code",
      "metadata": {
        "id": "d7o1L4znMu4m",
        "colab_type": "code",
        "colab": {
          "base_uri": "https://localhost:8080/",
          "height": 505
        },
        "outputId": "1a91dd2f-95f8-4fcf-bae7-f497e56c08a0"
      },
      "source": [
        "#Sample around the latent wector\n",
        "latent = x_latent[0:1]\n",
        "scale = 0.40\n",
        "mols = []\n",
        "for i in range(20):\n",
        "    latent_r = latent + scale*(np.random.randn(latent.shape[1])) #TODO, try with\n",
        "    smiles = latent_to_smiles(latent_r)\n",
        "    mol = Chem.MolFromSmiles(smiles)\n",
        "    if mol:\n",
        "        mols.append(mol)\n",
        "    else:\n",
        "        print (smiles)\n",
        "        \n",
        "Draw.MolsToGridImage(mols, molsPerRow=5)"
      ],
      "execution_count": 58,
      "outputs": [
        {
          "output_type": "stream",
          "text": [
            "NCCOC12OCN1\n",
            "OCCC1C=OCO1\n",
            "NCCC1CON=1O\n",
            "NCCOC1CNN\n",
            "NCC(=O)CON1N\n",
            "NCOC1CO=CN1\n",
            "NCCC1COC2=N1\n",
            "NCOCC1ON=O1\n",
            "COCCC1=ONN1\n",
            "NCCCO1C2CO1O\n",
            "NCCOC1=OOCO1\n",
            "CNCC(O1=N)CN1\n",
            "NCCOC=N1NN\n",
            "NCCC1O=COC1\n",
            "COCCO1CON1\n",
            "NNC1CCO=N1CF\n"
          ],
          "name": "stdout"
        },
        {
          "output_type": "execute_result",
          "data": {
            "image/png": "[encoded data removed]",
            "text/plain": [
              "<PIL.PngImagePlugin.PngImageFile image mode=RGB size=1000x200 at 0x7FE0B498BA58>"
            ]
          },
          "metadata": {
            "tags": []
          },
          "execution_count": 58
        }
      ]
    },
    {
      "cell_type": "markdown",
      "metadata": {
        "id": "J7-r-PtxMuCj",
        "colab_type": "text"
      },
      "source": [
        "여기서 우리는 실제로 많은 잘못된 SMILES가 생성되는 것을 볼 수 있지만 그럼에도 불구하고 잠재 벡터를 인코딩하는 데 사용 된 것과 다소 유사 할 수있는 일부 분자를 볼 수 있습니다.\n",
        "\n",
        " (위 보간에서 첫 번째 분자와 비교). 스케일링을 조정하면 창의성을 튜닝 할 수 있습니다.\n"
      ]
    },
    {
      "cell_type": "code",
      "metadata": {
        "id": "SJHPhSn-NRGh",
        "colab_type": "code",
        "colab": {
          "base_uri": "https://localhost:8080/",
          "height": 779
        },
        "outputId": "340038a3-4501-493e-c0ba-d42f9bb9e05e"
      },
      "source": [
        "#Sample around the latent wector\n",
        "latent = x_latent[0:1]\n",
        "scale = 0.20\n",
        "mols = []\n",
        "for i in range(20):\n",
        "    latent_r = latent + scale*(np.random.randn(latent.shape[1])) #TODO, try with\n",
        "    smiles = latent_to_smiles(latent_r)\n",
        "    mol = Chem.MolFromSmiles(smiles)\n",
        "    if mol:\n",
        "        mols.append(mol)\n",
        "    else:\n",
        "        print (smiles)\n",
        "        \n",
        "Draw.MolsToGridImage(mols, molsPerRow=5)"
      ],
      "execution_count": 64,
      "outputs": [
        {
          "output_type": "stream",
          "text": [
            "NCCOC=C1NN\n",
            "NCCCC1OC=O1\n",
            "NCCC1CO=CO1\n",
            "NCCO1C2CON1\n",
            "NCCCO1C=CO1\n",
            "NCCC1CON=O1\n",
            "NCCCOC1=CO\n",
            "NCCCO1C=CO1\n",
            "NCCC1CON=N1F\n"
          ],
          "name": "stdout"
        },
        {
          "output_type": "execute_result",
          "data": {
            "image/png": "[encoded data removed]",
            "text/plain": [
              "<PIL.PngImagePlugin.PngImageFile image mode=RGB size=1000x600 at 0x7FE0B509C198>"
            ]
          },
          "metadata": {
            "tags": []
          },
          "execution_count": 64
        }
      ]
    },
    {
      "cell_type": "markdown",
      "metadata": {
        "id": "qJKcyoBMNer9",
        "colab_type": "text"
      },
      "source": [
        "scale을 0.2로 했더니 위와 비슷함을 알 수 있습니다."
      ]
    },
    {
      "cell_type": "markdown",
      "metadata": {
        "id": "RqlD5i80NmF3",
        "colab_type": "text"
      },
      "source": [
        "#정리"
      ]
    },
    {
      "cell_type": "markdown",
      "metadata": {
        "id": "3yH7V0_ANnWJ",
        "colab_type": "text"
      },
      "source": [
        "이 블로그 포스트에서는 SMILES 분자 분자의 LSTM 기반 자동 인코더를 만드는 방법과 교사 시행으로 효율적으로 훈련하는 방법을 보여주었습니다. 잠재 공간은 SMILES의 구조를 반영 할 수 있지만 그럼에도 불구하고 다양한 화학 포맷 관련 작업에 유용하게 보입니다. 분자들 사이의 도메인 경계를 정하거나 랜덤 노이즈를 추가 할 때 SMILES 재구성 정확도가 떨어지는 것처럼 보입니다. 따라서, 잠재 공간은 분자의 불연속 특성을 반영하여 완전히 연속적이지 않을 수있다. 처음에는 지능을 정의하는 방법을 잘 모르기 때문에이 블로그 게시물에서 AI를 언급하지 않았지만 SMILES 문자열의 화학적 규칙을 수행하는 가중치와 계산으로 어떻게 찾을 수 있는지는 매력적입니다. LSTM 셀의 신경망은 나중에 새로운 SMILES 스트링을 만드는 데 사용됩니다."
      ]
    },
    {
      "cell_type": "code",
      "metadata": {
        "id": "vyUewmLXNRD1",
        "colab_type": "code",
        "colab": {}
      },
      "source": [
        ""
      ],
      "execution_count": 0,
      "outputs": []
    },
    {
      "cell_type": "code",
      "metadata": {
        "id": "9tbvM_7kNRAE",
        "colab_type": "code",
        "colab": {}
      },
      "source": [
        ""
      ],
      "execution_count": 0,
      "outputs": []
    },
    {
      "cell_type": "code",
      "metadata": {
        "id": "P6GNvJ89IX_B",
        "colab_type": "code",
        "colab": {}
      },
      "source": [
        "# Train/test data iter.\n",
        "\n",
        "train_data_path = \"/smile/nfs/projects/nih_drug/data/pm2/pm2.smi\"\n",
        "test_data_path = \"/smile/nfs/projects/nih_drug/data/logp/logp.smi\"\n",
        "\n",
        "def smi_data_iter(smi_path):\n",
        "    \"\"\"Yield logp SMILE representation.\"\"\"\n",
        "    with open(smi_path) as fobj:\n",
        "        for line in fobj:\n",
        "            if not len(line.strip()):\n",
        "                continue\n",
        "            _smile = line.strip().split()[0]\n",
        "            yield _smile"
      ],
      "execution_count": 0,
      "outputs": []
    },
    {
      "cell_type": "code",
      "metadata": {
        "id": "79hN6BvWIU4J",
        "colab_type": "code",
        "colab": {
          "base_uri": "https://localhost:8080/",
          "height": 376
        },
        "outputId": "8a176b4d-098f-4cd5-b5e1-a1744c7ad1ce"
      },
      "source": [
        "def build_data_tmp(data_iter, data_path):\n",
        "    \"\"\"Build temp data file inside the data_directory. This is required for tensorflow function.\"\"\"\n",
        "    with open(data_path, \"w+\") as fobj:\n",
        "        for _smile in data_iter:\n",
        "            fobj.write(\"%s\\n\" % _smile)\n",
        "            \n",
        "train_smile_path = os.path.join(data_root, \"pm2.smiles\")\n",
        "test_smile_path = os.path.join(data_root, \"logp.smiles\")\n",
        " \n",
        "build_data_tmp(smi_data_iter(train_data_path), train_smile_path)\n",
        "build_data_tmp(smi_data_iter(test_data_path), test_smile_path)"
      ],
      "execution_count": 54,
      "outputs": [
        {
          "output_type": "error",
          "ename": "FileNotFoundError",
          "evalue": "ignored",
          "traceback": [
            "\u001b[0;31m---------------------------------------------------------------------------\u001b[0m",
            "\u001b[0;31mFileNotFoundError\u001b[0m                         Traceback (most recent call last)",
            "\u001b[0;32m<ipython-input-54-421ba5e07741>\u001b[0m in \u001b[0;36m<module>\u001b[0;34m()\u001b[0m\n\u001b[1;32m      8\u001b[0m \u001b[0mtest_smile_path\u001b[0m \u001b[0;34m=\u001b[0m \u001b[0mos\u001b[0m\u001b[0;34m.\u001b[0m\u001b[0mpath\u001b[0m\u001b[0;34m.\u001b[0m\u001b[0mjoin\u001b[0m\u001b[0;34m(\u001b[0m\u001b[0mdata_root\u001b[0m\u001b[0;34m,\u001b[0m \u001b[0;34m\"logp.smiles\"\u001b[0m\u001b[0;34m)\u001b[0m\u001b[0;34m\u001b[0m\u001b[0;34m\u001b[0m\u001b[0m\n\u001b[1;32m      9\u001b[0m \u001b[0;34m\u001b[0m\u001b[0m\n\u001b[0;32m---> 10\u001b[0;31m \u001b[0mbuild_data_tmp\u001b[0m\u001b[0;34m(\u001b[0m\u001b[0msmi_data_iter\u001b[0m\u001b[0;34m(\u001b[0m\u001b[0mtrain_data_path\u001b[0m\u001b[0;34m)\u001b[0m\u001b[0;34m,\u001b[0m \u001b[0mtrain_smile_path\u001b[0m\u001b[0;34m)\u001b[0m\u001b[0;34m\u001b[0m\u001b[0;34m\u001b[0m\u001b[0m\n\u001b[0m\u001b[1;32m     11\u001b[0m \u001b[0mbuild_data_tmp\u001b[0m\u001b[0;34m(\u001b[0m\u001b[0msmi_data_iter\u001b[0m\u001b[0;34m(\u001b[0m\u001b[0mtest_data_path\u001b[0m\u001b[0;34m)\u001b[0m\u001b[0;34m,\u001b[0m \u001b[0mtest_smile_path\u001b[0m\u001b[0;34m)\u001b[0m\u001b[0;34m\u001b[0m\u001b[0;34m\u001b[0m\u001b[0m\n",
            "\u001b[0;32m<ipython-input-54-421ba5e07741>\u001b[0m in \u001b[0;36mbuild_data_tmp\u001b[0;34m(data_iter, data_path)\u001b[0m\n\u001b[1;32m      2\u001b[0m     \u001b[0;34m\"\"\"Build temp data file inside the data_directory. This is required for tensorflow function.\"\"\"\u001b[0m\u001b[0;34m\u001b[0m\u001b[0;34m\u001b[0m\u001b[0m\n\u001b[1;32m      3\u001b[0m     \u001b[0;32mwith\u001b[0m \u001b[0mopen\u001b[0m\u001b[0;34m(\u001b[0m\u001b[0mdata_path\u001b[0m\u001b[0;34m,\u001b[0m \u001b[0;34m\"w+\"\u001b[0m\u001b[0;34m)\u001b[0m \u001b[0;32mas\u001b[0m \u001b[0mfobj\u001b[0m\u001b[0;34m:\u001b[0m\u001b[0;34m\u001b[0m\u001b[0;34m\u001b[0m\u001b[0m\n\u001b[0;32m----> 4\u001b[0;31m         \u001b[0;32mfor\u001b[0m \u001b[0m_smile\u001b[0m \u001b[0;32min\u001b[0m \u001b[0mdata_iter\u001b[0m\u001b[0;34m:\u001b[0m\u001b[0;34m\u001b[0m\u001b[0;34m\u001b[0m\u001b[0m\n\u001b[0m\u001b[1;32m      5\u001b[0m             \u001b[0mfobj\u001b[0m\u001b[0;34m.\u001b[0m\u001b[0mwrite\u001b[0m\u001b[0;34m(\u001b[0m\u001b[0;34m\"%s\\n\"\u001b[0m \u001b[0;34m%\u001b[0m \u001b[0m_smile\u001b[0m\u001b[0;34m)\u001b[0m\u001b[0;34m\u001b[0m\u001b[0;34m\u001b[0m\u001b[0m\n\u001b[1;32m      6\u001b[0m \u001b[0;34m\u001b[0m\u001b[0m\n",
            "\u001b[0;32m<ipython-input-53-913ab83b59c0>\u001b[0m in \u001b[0;36msmi_data_iter\u001b[0;34m(smi_path)\u001b[0m\n\u001b[1;32m      5\u001b[0m \u001b[0;32mdef\u001b[0m \u001b[0msmi_data_iter\u001b[0m\u001b[0;34m(\u001b[0m\u001b[0msmi_path\u001b[0m\u001b[0;34m)\u001b[0m\u001b[0;34m:\u001b[0m\u001b[0;34m\u001b[0m\u001b[0;34m\u001b[0m\u001b[0m\n\u001b[1;32m      6\u001b[0m     \u001b[0;34m\"\"\"Yield logp SMILE representation.\"\"\"\u001b[0m\u001b[0;34m\u001b[0m\u001b[0;34m\u001b[0m\u001b[0m\n\u001b[0;32m----> 7\u001b[0;31m     \u001b[0;32mwith\u001b[0m \u001b[0mopen\u001b[0m\u001b[0;34m(\u001b[0m\u001b[0msmi_path\u001b[0m\u001b[0;34m)\u001b[0m \u001b[0;32mas\u001b[0m \u001b[0mfobj\u001b[0m\u001b[0;34m:\u001b[0m\u001b[0;34m\u001b[0m\u001b[0;34m\u001b[0m\u001b[0m\n\u001b[0m\u001b[1;32m      8\u001b[0m         \u001b[0;32mfor\u001b[0m \u001b[0mline\u001b[0m \u001b[0;32min\u001b[0m \u001b[0mfobj\u001b[0m\u001b[0;34m:\u001b[0m\u001b[0;34m\u001b[0m\u001b[0;34m\u001b[0m\u001b[0m\n\u001b[1;32m      9\u001b[0m             \u001b[0;32mif\u001b[0m \u001b[0;32mnot\u001b[0m \u001b[0mlen\u001b[0m\u001b[0;34m(\u001b[0m\u001b[0mline\u001b[0m\u001b[0;34m.\u001b[0m\u001b[0mstrip\u001b[0m\u001b[0;34m(\u001b[0m\u001b[0;34m)\u001b[0m\u001b[0;34m)\u001b[0m\u001b[0;34m:\u001b[0m\u001b[0;34m\u001b[0m\u001b[0;34m\u001b[0m\u001b[0m\n",
            "\u001b[0;31mFileNotFoundError\u001b[0m: [Errno 2] No such file or directory: '/smile/nfs/projects/nih_drug/data/pm2/pm2.smi'"
          ]
        }
      ]
    },
    {
      "cell_type": "code",
      "metadata": {
        "id": "WMkFc9WUI0hI",
        "colab_type": "code",
        "colab": {
          "base_uri": "https://localhost:8080/",
          "height": 388
        },
        "outputId": "05042e32-a489-4fa1-9b17-8499b11cc59c"
      },
      "source": [
        "from __future__ import print_function\n",
        "\n",
        "import smile as sm\n",
        "from smile import flags\n",
        "from unsupervised.data import build_vocab, translate_tokens\n",
        "\n",
        "\n",
        "flags.DEFINE_string(\n",
        "    \"smi_path\", \"/smile/nfs/projects/nih_drug/data/logp/logp.smi\", \"smi data path.\")\n",
        "flags.DEFINE_string(\n",
        "    \"tmp_path\", \"\", \"Temporary data path. If none, a named temporary file will be used.\")\n",
        "flags.DEFINE_string(\n",
        "    \"vocab_path\", \"\", \"Vocabulary data_path.\")\n",
        "flags.DEFINE_string(\n",
        "    \"out_path\", \"\", \"Output token path.\")\n",
        "flags.DEFINE_bool(\n",
        "    \"build_vocab\", False, \"Trigger the action: False for translating only. \"\n",
        "    \"If true, the script will build vocabulary and then translating.\")\n",
        "\n",
        "FLAGS = flags.FLAGS\n",
        "\n",
        "def main(_):\n",
        "    \"\"\"Entry function for this script.\"\"\"\n",
        "    if FLAGS.build_vocab:\n",
        "        build_vocab(FLAGS.smi_path, FLAGS.vocab_path, FLAGS.out_path, FLAGS.tmp_path)\n",
        "    else:\n",
        "        translate_tokens(FLAGS.smi_path, FLAGS.vocab_path, FLAGS.out_path, FLAGS.tmp_path)\n",
        "\n",
        "if __name__ == \"__main__\":\n",
        "    sm.app.run()"
      ],
      "execution_count": 55,
      "outputs": [
        {
          "output_type": "error",
          "ename": "ModuleNotFoundError",
          "evalue": "ignored",
          "traceback": [
            "\u001b[0;31m---------------------------------------------------------------------------\u001b[0m",
            "\u001b[0;31mModuleNotFoundError\u001b[0m                       Traceback (most recent call last)",
            "\u001b[0;32m<ipython-input-55-a12a7f1ba14a>\u001b[0m in \u001b[0;36m<module>\u001b[0;34m()\u001b[0m\n\u001b[1;32m      1\u001b[0m \u001b[0;32mfrom\u001b[0m \u001b[0m__future__\u001b[0m \u001b[0;32mimport\u001b[0m \u001b[0mprint_function\u001b[0m\u001b[0;34m\u001b[0m\u001b[0;34m\u001b[0m\u001b[0m\n\u001b[1;32m      2\u001b[0m \u001b[0;34m\u001b[0m\u001b[0m\n\u001b[0;32m----> 3\u001b[0;31m \u001b[0;32mimport\u001b[0m \u001b[0msmile\u001b[0m \u001b[0;32mas\u001b[0m \u001b[0msm\u001b[0m\u001b[0;34m\u001b[0m\u001b[0;34m\u001b[0m\u001b[0m\n\u001b[0m\u001b[1;32m      4\u001b[0m \u001b[0;32mfrom\u001b[0m \u001b[0msmile\u001b[0m \u001b[0;32mimport\u001b[0m \u001b[0mflags\u001b[0m\u001b[0;34m\u001b[0m\u001b[0;34m\u001b[0m\u001b[0m\n\u001b[1;32m      5\u001b[0m \u001b[0;32mfrom\u001b[0m \u001b[0munsupervised\u001b[0m\u001b[0;34m.\u001b[0m\u001b[0mdata\u001b[0m \u001b[0;32mimport\u001b[0m \u001b[0mbuild_vocab\u001b[0m\u001b[0;34m,\u001b[0m \u001b[0mtranslate_tokens\u001b[0m\u001b[0;34m\u001b[0m\u001b[0;34m\u001b[0m\u001b[0m\n",
            "\u001b[0;31mModuleNotFoundError\u001b[0m: No module named 'smile'",
            "",
            "\u001b[0;31m---------------------------------------------------------------------------\u001b[0;32m\nNOTE: If your import is failing due to a missing package, you can\nmanually install dependencies using either !pip or !apt.\n\nTo view examples of installing some common dependencies, click the\n\"Open Examples\" button below.\n\u001b[0;31m---------------------------------------------------------------------------\u001b[0m\n"
          ]
        }
      ]
    },
    {
      "cell_type": "code",
      "metadata": {
        "id": "MFBThQS-IrGH",
        "colab_type": "code",
        "colab": {}
      },
      "source": [
        "from unsupervised.utils import true_smile_tokenizer, data_to_token_ids\n",
        "\n",
        "train_token_path = os.path.join(data_root, \"pm2.tokens\")\n",
        "test_token_path = os.path.join(data_root, \"logp.tokens\")\n",
        "\n",
        "data_to_token_ids(train_smile_path, train_token_path, vocab_path, true_smile_tokenizer)\n",
        "data_to_token_ids(test_smile_path, test_token_path, vocab_path, true_smile_tokenizer)"
      ],
      "execution_count": 0,
      "outputs": []
    },
    {
      "cell_type": "markdown",
      "metadata": {
        "id": "ekq4uRmKIruS",
        "colab_type": "text"
      },
      "source": [
        ""
      ]
    },
    {
      "cell_type": "markdown",
      "metadata": {
        "id": "G8lDHEtsIrqz",
        "colab_type": "text"
      },
      "source": [
        ""
      ]
    },
    {
      "cell_type": "markdown",
      "metadata": {
        "id": "CHAJuHUEIroi",
        "colab_type": "text"
      },
      "source": [
        ""
      ]
    },
    {
      "cell_type": "code",
      "metadata": {
        "id": "_bHXZe3BIUzx",
        "colab_type": "code",
        "colab": {}
      },
      "source": [
        "# Build vocabulary from train_data\n",
        "\n",
        "\n",
        "from unsupervised.utils import true_smile_tokenizer, get_vocabulary\n",
        "\n",
        "vocab_path = os.path.join(data_root, \"pm2.vocab\")\n",
        "\n",
        "get_vocabulary(train_smile_path, vocab_path, tokenizer=true_smile_tokenizer)"
      ],
      "execution_count": 0,
      "outputs": []
    },
    {
      "cell_type": "code",
      "metadata": {
        "id": "TvegSd8bIUxY",
        "colab_type": "code",
        "colab": {}
      },
      "source": [
        ""
      ],
      "execution_count": 0,
      "outputs": []
    },
    {
      "cell_type": "code",
      "metadata": {
        "id": "kJxlW-9K9mi5",
        "colab_type": "code",
        "colab": {
          "base_uri": "https://localhost:8080/",
          "height": 388
        },
        "outputId": "c8438caa-7451-4eb8-819e-83f5dd474535"
      },
      "source": [
        "from __future__ import absolute_import\n",
        "from __future__ import division\n",
        "from __future__ import print_function\n",
        "\n",
        "import json\n",
        "import os\n",
        "import random\n",
        "\n",
        "import numpy as np\n",
        "import tensorflow as tf\n",
        "\n",
        "from .base_hparams import build_base_hparams\n",
        "from .utils import (initialize_vocabulary, sentence_to_token_ids, smile_tokenizer, EOS_ID, PAD_ID,\n",
        "                    GO_ID)\n",
        "\n",
        "class Seq2SeqModel(object): # pylint: disable=too-many-instance-attributes\n",
        "    \"\"\"Customized seq2seq model for fingerprint method.\"\"\"\n",
        "    MODEL_PARAMETER_FIELDS = [\n",
        "        # Feedforward parameters.\n",
        "        \"source_vocab_size\", \"target_vocab_size\", \"buckets\", \"size\", \"num_layers\", \"dropout_rate\",\n",
        "        # Training parameters.\n",
        "        \"max_gradient_norm\", \"batch_size\", \"learning_rate\", \"learning_rate_decay_factor\"\n",
        "    ]\n",
        "\n",
        "    def __init__(self, # pylint: disable=too-many-locals, too-many-arguments, super-init-not-called\n",
        "                 hparams,\n",
        "                 forward_only=False,\n",
        "                 use_lstm=False,\n",
        "                 num_samples=512,\n",
        "                 dtype=tf.float32):\n",
        "        \"\"\"Create the model.\n",
        "        Args:\n",
        "            source_vocab_size: size of the source vocabulary.\n",
        "            target_vocab_size: size of the target vocabulary.\n",
        "            buckets: a list of pairs (I, O), where I specifies maximum input length\n",
        "                that will be processed in that bucket, and O specifies maximum output\n",
        "                length. Training instances that have inputs longer than I or outputs\n",
        "                longer than O will be pushed to the next bucket and padded accordingly.\n",
        "                We assume that the list is sorted, e.g., [(2, 4), (8, 16)].\n",
        "            size: number of units in each layer of the model.\n",
        "            num_layers: number of layers in the model.\n",
        "            max_gradient_norm: gradients will be clipped to maximally this norm.\n",
        "            batch_size: the size of the batches used during training;\n",
        "                the model construction is independent of batch_size, so it can be\n",
        "                changed after initialization if this is convenient, e.g., for decoding.\n",
        "            learning_rate: learning rate to start with.\n",
        "            learning_rate_decay_factor: decay learning rate by this much when needed.\n",
        "            use_lstm: if true, we use LSTM cells instead of GRU cells.\n",
        "            num_samples: number of samples for sampled softmax.\n",
        "            forward_only: if set, we do not construct the backward pass in the model.\n",
        "            dtype: the data type to use to store internal variables.\n",
        "        \"\"\"\n",
        "        self.source_vocab_size = hparams.source_vocab_size\n",
        "        self.target_vocab_size = hparams.target_vocab_size\n",
        "        self.buckets = hparams.buckets\n",
        "        self.size = hparams.size\n",
        "        self.num_layers = hparams.num_layers\n",
        "        self.max_gradient_norm = hparams.max_gradient_norm\n",
        "        self.batch_size = hparams.batch_size\n",
        "        self.learning_rate = hparams.learning_rate\n",
        "        self.learning_rate_decay_factor = hparams.learning_rate_decay_factor\n",
        "        self.learning_rate_op = tf.Variable(\n",
        "            float(self.learning_rate), trainable=False, dtype=dtype)\n",
        "        self.learning_rate_decay_op = self.learning_rate_op.assign(\n",
        "            self.learning_rate_op * hparams.learning_rate_decay_factor)\n",
        "        self.dropout_rate = hparams.dropout_rate\n",
        "        self.global_step = tf.Variable(0, trainable=False)\n",
        "\n",
        "        size = hparams.size\n",
        "        buckets = hparams.buckets\n",
        "        dropout_rate = hparams.dropout_rate\n",
        "        num_layers = hparams.num_layers\n",
        "\n",
        "        # If we use sampled softmax, we need an output projection.\n",
        "        output_projection = None\n",
        "        softmax_loss_function = None\n",
        "        # Sampled softmax only makes sense if we sample less than vocabulary size.\n",
        "        if num_samples > 0 and num_samples < self.target_vocab_size:\n",
        "            w_t = tf.get_variable(\"proj_w\", [self.target_vocab_size, hparams.size], dtype=dtype)\n",
        "            w = tf.transpose(w_t)\n",
        "            b = tf.get_variable(\"proj_b\", [self.target_vocab_size], dtype=dtype)\n",
        "            output_projection = (w, b)\n",
        "\n",
        "            def sampled_loss(labels, logits):\n",
        "                \"\"\"Sampleed loss function.\"\"\"\n",
        "                labels = tf.reshape(labels, [-1, 1])\n",
        "                # We need to compute the sampled_softmax_loss using 32bit floats to\n",
        "                # avoid numerical instabilities.\n",
        "                local_w_t = tf.cast(w_t, tf.float32)\n",
        "                local_b = tf.cast(b, tf.float32)\n",
        "                local_inputs = tf.cast(logits, tf.float32)\n",
        "                return tf.cast(\n",
        "                    tf.nn.sampled_softmax_loss(local_w_t, local_b, labels,\n",
        "                                               local_inputs, num_samples,\n",
        "                                               self.target_vocab_size), dtype)\n",
        "            softmax_loss_function = sampled_loss\n",
        "\n",
        "        # Create the internal multi-layer cell for our RNN.\n",
        "        def single_cell():\n",
        "            \"\"\"internal single cell for RNN\"\"\"\n",
        "            if use_lstm:\n",
        "                ret = tf.contrib.rnn.BasicLSTMCell(hparams.size)\n",
        "            else:\n",
        "                ret = tf.contrib.rnn.GRUCell(hparams.size)\n",
        "            ret = tf.nn.rnn_cell.DropoutWrapper(\n",
        "                ret,\n",
        "                input_keep_prob=dropout_rate,\n",
        "                output_keep_prob=dropout_rate)\n",
        "            return ret\n",
        "        # The seq2seq function: we use embedding for the input and attention.\n",
        "        def seq2seq_f(encoder_inputs, decoder_inputs, do_decode):\n",
        "            \"\"\"Sequence to sequence function.\"\"\"\n",
        "            cell = single_cell()\n",
        "            if num_layers > 1:\n",
        "                cell = tf.contrib.rnn.MultiRNNCell(\n",
        "                    [single_cell() for _ in xrange(num_layers)])\n",
        "            return tf.contrib.legacy_seq2seq.embedding_attention_seq2seq(\n",
        "                encoder_inputs,\n",
        "                decoder_inputs,\n",
        "                cell,\n",
        "                num_encoder_symbols=hparams.source_vocab_size,\n",
        "                num_decoder_symbols=hparams.target_vocab_size,\n",
        "                embedding_size=size,\n",
        "                output_projection=output_projection,\n",
        "                feed_previous=do_decode,\n",
        "                dtype=dtype)\n",
        "\n",
        "        # Feeds for inputs.\n",
        "        self.encoder_inputs = []\n",
        "        self.decoder_inputs = []\n",
        "        self.target_weights = []\n",
        "        for i in xrange(buckets[-1][0]):  # Last bucket is the biggest one.\n",
        "            self.encoder_inputs.append(tf.placeholder(tf.int32, shape=[None],\n",
        "                                                      name=\"encoder{0}\".format(i)))\n",
        "        for i in xrange(buckets[-1][1] + 1):\n",
        "            self.decoder_inputs.append(tf.placeholder(tf.int32, shape=[None],\n",
        "                                                      name=\"decoder{0}\".format(i)))\n",
        "            self.target_weights.append(tf.placeholder(dtype, shape=[None],\n",
        "                                                      name=\"weight{0}\".format(i)))\n",
        "\n",
        "        # Our targets are decoder inputs shifted by one.\n",
        "        targets = [self.decoder_inputs[i + 1]\n",
        "                   for i in xrange(len(self.decoder_inputs) - 1)]\n",
        "\n",
        "        # Training outputs and losses.\n",
        "        if forward_only:\n",
        "            self.outputs, self.losses = tf.contrib.legacy_seq2seq.model_with_buckets(\n",
        "                self.encoder_inputs, self.decoder_inputs, targets,\n",
        "                self.target_weights, buckets, lambda x, y: seq2seq_f(x, y, True),\n",
        "                softmax_loss_function=softmax_loss_function)\n",
        "            # If we use output projection, we need to project outputs for decoding.\n",
        "            if output_projection is not None:\n",
        "                for b in xrange(len(buckets)):\n",
        "                    self.outputs[b] = [\n",
        "                        tf.matmul(output, output_projection[0]) + output_projection[1]\n",
        "                        for output in self.outputs[b]\n",
        "                    ]\n",
        "        else:\n",
        "            self.outputs, self.losses = tf.contrib.legacy_seq2seq.model_with_buckets(\n",
        "                self.encoder_inputs, self.decoder_inputs, targets,\n",
        "                self.target_weights, buckets,\n",
        "                lambda x, y: seq2seq_f(x, y, False),\n",
        "                softmax_loss_function=softmax_loss_function)\n",
        "\n",
        "        # Gradients and SGD update operation for training the model.\n",
        "        params = tf.trainable_variables()\n",
        "        self.summary_ops = []\n",
        "        if not forward_only:\n",
        "            self.gradient_norms = []\n",
        "            self.updates = []\n",
        "            lr_summary_op = tf.summary.scalar(\"learning rate\", self.learning_rate_op)\n",
        "            opt = tf.train.GradientDescentOptimizer(self.learning_rate_op)\n",
        "            for b in xrange(len(buckets)):\n",
        "                gradients = tf.gradients(self.losses[b], params)\n",
        "                clipped_gradients, norm = tf.clip_by_global_norm(gradients,\n",
        "                                                                 hparams.max_gradient_norm)\n",
        "                self.gradient_norms.append(norm)\n",
        "                self.updates.append(opt.apply_gradients(\n",
        "                    zip(clipped_gradients, params), global_step=self.global_step))\n",
        "                self.summary_ops.append(tf.summary.merge([\n",
        "                    tf.summary.scalar(\"global_norm_%d\" % b, norm),\n",
        "                    tf.summary.scalar(\"loss_%d\" % b, self.losses[b]),\n",
        "                    lr_summary_op\n",
        "                ]))\n",
        "        self.saver = tf.train.Saver(tf.global_variables())\n",
        "\n",
        "#\n",
        "#   Model load and save.\n",
        "#\n",
        "\n",
        "    @classmethod\n",
        "    def load_model_from_files(cls, model_file, checkpoint_dir, forward_only, sess=None):\n",
        "        \"\"\"Load model from file.\"\"\"\n",
        "        hparams = build_base_hparams()\n",
        "        print(\"Loading seq2seq model definition from %s...\" % model_file)\n",
        "        with open(model_file, \"r\") as fobj:\n",
        "            model_dict = json.load(fobj)\n",
        "        model_dict[\"buckets\"] = [tuple(_bucket) for _bucket in model_dict[\"buckets\"]]\n",
        "        hparams.set_from_map(model_dict)\n",
        "        model = cls(hparams, forward_only)\n",
        "        # Load model weights.\n",
        "        ckpt = tf.train.get_checkpoint_state(checkpoint_dir)\n",
        "        sess = sess or tf.get_default_session()\n",
        "        if ckpt:\n",
        "            print(\"Loading model weights from checkpoint_dir: %s\" % checkpoint_dir)\n",
        "            model.saver.restore(sess, ckpt.model_checkpoint_path)\n",
        "        else:\n",
        "            print(\"Initialize fresh parameters...\")\n",
        "            sess.run(tf.global_variables_initializer())\n",
        "        return model\n",
        "\n",
        "    @classmethod\n",
        "    def load_model_from_dir(cls, train_dir, forward_only, sess=None):\n",
        "        \"\"\"Load model definition from train_dir/model.json and train_dir/weights.\"\"\"\n",
        "        model_file = os.path.join(train_dir, \"model.json\")\n",
        "        checkpoint_dir = os.path.join(train_dir, \"weights/\")\n",
        "        return cls.load_model_from_files(model_file, checkpoint_dir, forward_only, sess)\n",
        "\n",
        "    def save_model_to_files(self, model_file, checkpoint_file, sess=None, verbose=False):\n",
        "        \"\"\"Save all the model hyper-parameters to a json file.\"\"\"\n",
        "        if verbose:\n",
        "            print(\"Save model defintion to %s...\" % model_file)\n",
        "        model_dict = {key: getattr(self, key) for key in self.MODEL_PARAMETER_FIELDS}\n",
        "        with open(model_file, \"w\") as fobj:\n",
        "            json.dump(model_dict, fobj)\n",
        "        checkpoint_dir = os.path.dirname(checkpoint_file)\n",
        "        if os.path.exists(checkpoint_dir):\n",
        "            if verbose:\n",
        "                print(\"Save weights to %s...\" % checkpoint_file)\n",
        "            sess = sess or tf.get_default_session()\n",
        "            self.saver.save(sess, checkpoint_file, global_step=self.global_step)\n",
        "        elif verbose:\n",
        "            print(\"Skip save weights to %s since the dir does not exist.\" % checkpoint_dir)\n",
        "\n",
        "    def save_model_to_dir(self, train_dir, sess=None, verbose=False):\n",
        "        \"\"\"Save model definition and weights to train_dir/model.json and train_dir/checkpoints/\"\"\"\n",
        "        model_file = os.path.join(train_dir, \"model.json\")\n",
        "        checkpoint_dir = os.path.join(train_dir, \"weights\")\n",
        "        checkpoint_file = os.path.join(checkpoint_dir, \"weights-ckpt\")\n",
        "        if not os.path.exists(checkpoint_dir):\n",
        "            os.makedirs(checkpoint_dir)\n",
        "        self.save_model_to_files(model_file, checkpoint_file, sess=sess, verbose=verbose)\n",
        "\n",
        "    def _get_encoder_state_names(self, bucket_id):\n",
        "        \"\"\"Get names of encoder_state.\"\"\"\n",
        "        if bucket_id == 0:\n",
        "            prefix = \"model_with_buckets/embedding_attention_seq2seq\"\n",
        "        else:\n",
        "            prefix = \"model_with_buckets/embedding_attention_seq2seq_%d\" % bucket_id\n",
        "        if self.num_layers < 2:\n",
        "            raise NotImplementedError(\"Cannot get state name for 1-layer RNN.\")\n",
        "        cell_prefix = (\"%s/rnn/rnn/embedding_wrapper/embedding_wrapper/\"\n",
        "                       \"multi_rnn_cell\" % prefix)\n",
        "        n = self.buckets[bucket_id][0]-1\n",
        "        encoder_state_names = [\n",
        "            \"%s/cell_%d/cell_%d/%s/add%s:0\" % (\n",
        "                cell_prefix,\n",
        "                cell_id,\n",
        "                cell_id,\n",
        "                \"gru_cell\", # In the future, we might have LSTM support.\n",
        "                \"_%d\" % n if n > 0 else \"\"\n",
        "            ) for cell_id in xrange(self.num_layers)]\n",
        "        return encoder_state_names\n",
        "\n",
        "\n",
        "    def step(self, session, encoder_inputs, decoder_inputs, target_weights, # pylint: disable=too-many-locals, too-many-arguments, too-many-branches, arguments-differ\n",
        "             bucket_id, forward_only, output_encoder_states=False):\n",
        "        \"\"\"Run a step of the model feeding the given inputs.\n",
        "        Args:\n",
        "            session: tensorflow session to use.\n",
        "            encoder_inputs: list of numpy int vectors to feed as encoder inputs.\n",
        "            decoder_inputs: list of numpy int vectors to feed as decoder inputs.\n",
        "            target_weights: list of numpy float vectors to feed as target weights.\n",
        "            bucket_id: which bucket of the model to use.\n",
        "            forward_only: whether to do the backward step or only forward.\n",
        "        Returns:\n",
        "            A triple consisting of gradient norm (or None if we did not do backward),\n",
        "            average perplexity, and the outputs.\n",
        "        Raises:\n",
        "            ValueError: if length of encoder_inputs, decoder_inputs, or\n",
        "                target_weights disagrees with bucket size for the specified bucket_id.\n",
        "        \"\"\"\n",
        "        # Check if the sizes match.\n",
        "        encoder_size, decoder_size = self.buckets[bucket_id]\n",
        "        if len(encoder_inputs) != encoder_size:\n",
        "            raise ValueError(\"Encoder length must be equal to the one in bucket,\"\n",
        "                             \" %d != %d.\" % (len(encoder_inputs), encoder_size))\n",
        "        if len(decoder_inputs) != decoder_size:\n",
        "            raise ValueError(\"Decoder length must be equal to the one in bucket,\"\n",
        "                             \" %d != %d.\" % (len(decoder_inputs), decoder_size))\n",
        "        if len(target_weights) != decoder_size:\n",
        "            raise ValueError(\"Weights length must be equal to the one in bucket,\"\n",
        "                             \" %d != %d.\" % (len(target_weights), decoder_size))\n",
        "\n",
        "        # Input feed: encoder inputs, decoder inputs, target_weights, as provided.\n",
        "        input_feed = {}\n",
        "        for l in xrange(encoder_size):\n",
        "            input_feed[self.encoder_inputs[l].name] = encoder_inputs[l]\n",
        "        for l in xrange(decoder_size):\n",
        "            input_feed[self.decoder_inputs[l].name] = decoder_inputs[l]\n",
        "            input_feed[self.target_weights[l].name] = target_weights[l]\n",
        "\n",
        "        # Since our targets are decoder inputs shifted by one, we need one more.\n",
        "        last_target = self.decoder_inputs[decoder_size].name\n",
        "        input_feed[last_target] = np.zeros([self.batch_size], dtype=np.int32)\n",
        "\n",
        "        # Output feed: depends on whether we do a backward step or not.\n",
        "        if not forward_only:\n",
        "            output_feed = [self.updates[bucket_id],  # Update Op that does SGD.\n",
        "                           self.gradient_norms[bucket_id],  # Gradient norm.\n",
        "                           self.losses[bucket_id]]  # Loss for this batch.\n",
        "        else:\n",
        "            output_feed = [self.losses[bucket_id]]  # Loss for this batch.\n",
        "            for l in xrange(decoder_size):          # Output logits.\n",
        "                output_feed.append(self.outputs[bucket_id][l])\n",
        "            if output_encoder_states:\n",
        "                default_graph = tf.get_default_graph()\n",
        "                state_names = self._get_encoder_state_names(bucket_id)\n",
        "                for state_name in state_names:\n",
        "                    var = default_graph.get_tensor_by_name(state_name)\n",
        "                    output_feed.append(var)\n",
        "\n",
        "        if not forward_only:\n",
        "            outputs, summary = session.run([output_feed, self.summary_ops[bucket_id]], input_feed)\n",
        "            return outputs[1], outputs[2], summary  # Gradient norm, loss, no outputs.\n",
        "        outputs = session.run(output_feed, input_feed)\n",
        "        if output_encoder_states:\n",
        "            # No gradient norm, loss, outputs, encoder fixed vector.\n",
        "            return None, outputs[0], outputs[1:1+decoder_size], outputs[1+decoder_size:]\n",
        "        # No gradient norm, loss, outputs.\n",
        "        return None, outputs[0], outputs[1:1+decoder_size]\n",
        "\n",
        "\n",
        "    def get_batch(self, data, bucket_id): # pylint: disable=too-many-locals\n",
        "        \"\"\"Get a random batch of data from the specified bucket, prepare for step.\n",
        "        To feed data in step(..) it must be a list of batch-major vectors, while\n",
        "        data here contains single length-major cases. So the main logic of this\n",
        "        function is to re-index data cases to be in the proper format for feeding.\n",
        "        Args:\n",
        "            data: a tuple of size len(self.buckets) in which each element contains\n",
        "                lists of pairs of input and output data that we use to create a batch.\n",
        "            bucket_id: integer, which bucket to get the batch for.\n",
        "        Returns:\n",
        "            The triple (encoder_inputs, decoder_inputs, target_weights) for\n",
        "            the constructed batch that has the proper format to call step(...) later.\n",
        "        \"\"\"\n",
        "        encoder_size, decoder_size = self.buckets[bucket_id]\n",
        "        encoder_inputs, decoder_inputs = [], []\n",
        "\n",
        "        # Get a random batch of encoder and decoder inputs from data,\n",
        "        # pad them if needed, reverse encoder inputs and add GO to decoder.\n",
        "        for _ in xrange(self.batch_size):\n",
        "            encoder_input, decoder_input = random.choice(data[bucket_id])\n",
        "\n",
        "            # Encoder inputs are padded and then reversed.\n",
        "            encoder_pad = [PAD_ID] * (encoder_size - len(encoder_input))\n",
        "            encoder_inputs.append(list(reversed(encoder_input + encoder_pad)))\n",
        "\n",
        "            # Decoder inputs get an extra \"GO\" symbol, and are padded then.\n",
        "            decoder_pad_size = decoder_size - len(decoder_input) - 1\n",
        "            decoder_inputs.append([GO_ID] + decoder_input +\n",
        "                                  [PAD_ID] * decoder_pad_size)\n",
        "\n",
        "        # Now we create batch-major vectors from the data selected above.\n",
        "        batch_encoder_inputs, batch_decoder_inputs, batch_weights = [], [], []\n",
        "\n",
        "        # Batch encoder inputs are just re-indexed encoder_inputs.\n",
        "        for length_idx in xrange(encoder_size):\n",
        "            batch_encoder_inputs.append(\n",
        "                np.array([encoder_inputs[batch_idx][length_idx]\n",
        "                          for batch_idx in xrange(self.batch_size)], dtype=np.int32))\n",
        "\n",
        "        # Batch decoder inputs are re-indexed decoder_inputs, we create weights.\n",
        "        for length_idx in xrange(decoder_size):\n",
        "            batch_decoder_inputs.append(\n",
        "                np.array([decoder_inputs[batch_idx][length_idx]\n",
        "                          for batch_idx in xrange(self.batch_size)], dtype=np.int32))\n",
        "\n",
        "            # Create target_weights to be 0 for targets that are padding.\n",
        "            batch_weight = np.ones(self.batch_size, dtype=np.float32)\n",
        "            for batch_idx in xrange(self.batch_size):\n",
        "                # We set weight to 0 if the corresponding target is a PAD symbol.\n",
        "                # The corresponding target is decoder_input shifted by 1 forward.\n",
        "                if length_idx < decoder_size - 1:\n",
        "                    target = decoder_inputs[batch_idx][length_idx + 1]\n",
        "                if length_idx == decoder_size - 1 or target == PAD_ID:\n",
        "                    batch_weight[batch_idx] = 0.0\n",
        "            batch_weights.append(batch_weight)\n",
        "        return batch_encoder_inputs, batch_decoder_inputs, batch_weights\n",
        "\n",
        "\n",
        "class FingerprintFetcher(object):\n",
        "    \"\"\"Seq2seq fingerprint fetcher for the seq2seq fingerprint.\"\"\"\n",
        "\n",
        "    def __init__(self, model_dir, vocab_path, sess=None):\n",
        "        \"\"\"Initialize a fingerprint fetcher for the seq2seq-fingerprint.\"\"\"\n",
        "        self.model_dir = model_dir\n",
        "        self.vocab_path = vocab_path\n",
        "\n",
        "        # Load tensorflow model\n",
        "        self.model = Seq2SeqModel.load_model_from_dir(self.model_dir, True, sess)\n",
        "        self.model.batch_size = 1\n",
        "\n",
        "        # Load vocabulary.\n",
        "        self.vocab, self.rev_vocab = initialize_vocabulary(self.vocab_path)\n",
        "\n",
        "    def get_bucket_id(self, token_ids):\n",
        "        \"\"\"Determine which bucket should the smile string be placed in.\"\"\"\n",
        "        _buckets = self.model.buckets\n",
        "        bucket_id = len(_buckets) - 1\n",
        "        for i, bucket in enumerate(_buckets):\n",
        "            if bucket[0] >= len(token_ids):\n",
        "                bucket_id = i\n",
        "                break\n",
        "        return bucket_id\n",
        "\n",
        "    def decode(self, smile_string, sess=None): # pylint: disable=too-many-locals\n",
        "        \"\"\"Input a smile string and will output the fingerprint and predicted output.\"\"\"\n",
        "        token_ids = sentence_to_token_ids(\n",
        "            tf.compat.as_bytes(smile_string), self.vocab,\n",
        "            tokenizer=smile_tokenizer, normalize_digits=False)\n",
        "        bucket_id = self.get_bucket_id(token_ids)\n",
        "        # Get a 1-element batch to feed the sentence to the model.\n",
        "        encoder_inputs, decoder_inputs, target_weights = self.model.get_batch(\n",
        "            {bucket_id: [(token_ids, [])]}, bucket_id)\n",
        "        # Get output logits for the sentence.\n",
        "        sess = sess or tf.get_default_session()\n",
        "        _, _, output_logits, fps = self.model.step(sess, encoder_inputs, decoder_inputs,\n",
        "                                                   target_weights, bucket_id, True, True)\n",
        "        # This is a greedy decoder - outputs are just argmaxes of output_logits.\n",
        "        outputs = [int(np.argmax(logit, axis=1)) for logit in output_logits]\n",
        "        # If there is an EOS symbol in outputs, cut them at that point.\n",
        "        if EOS_ID in outputs:\n",
        "            outputs = outputs[:outputs.index(EOS_ID)]\n",
        "        output_smile = \"\".join([tf.compat.as_str(self.rev_vocab[output]) for output in outputs])\n",
        "        seq2seq_fp = np.concatenate(tuple([fp.flatten() for fp in fps]))\n",
        "        # return the fingerprint and predicted smile.\n",
        "        return seq2seq_fp, output_smile"
      ],
      "execution_count": 56,
      "outputs": [
        {
          "output_type": "error",
          "ename": "ModuleNotFoundError",
          "evalue": "ignored",
          "traceback": [
            "\u001b[0;31m---------------------------------------------------------------------------\u001b[0m",
            "\u001b[0;31mModuleNotFoundError\u001b[0m                       Traceback (most recent call last)",
            "\u001b[0;32m<ipython-input-56-f48cea7c9e2a>\u001b[0m in \u001b[0;36m<module>\u001b[0;34m()\u001b[0m\n\u001b[1;32m     10\u001b[0m \u001b[0;32mimport\u001b[0m \u001b[0mtensorflow\u001b[0m \u001b[0;32mas\u001b[0m \u001b[0mtf\u001b[0m\u001b[0;34m\u001b[0m\u001b[0;34m\u001b[0m\u001b[0m\n\u001b[1;32m     11\u001b[0m \u001b[0;34m\u001b[0m\u001b[0m\n\u001b[0;32m---> 12\u001b[0;31m \u001b[0;32mfrom\u001b[0m \u001b[0;34m.\u001b[0m\u001b[0mbase_hparams\u001b[0m \u001b[0;32mimport\u001b[0m \u001b[0mbuild_base_hparams\u001b[0m\u001b[0;34m\u001b[0m\u001b[0;34m\u001b[0m\u001b[0m\n\u001b[0m\u001b[1;32m     13\u001b[0m from .utils import (initialize_vocabulary, sentence_to_token_ids, smile_tokenizer, EOS_ID, PAD_ID,\n\u001b[1;32m     14\u001b[0m                     GO_ID)\n",
            "\u001b[0;31mModuleNotFoundError\u001b[0m: No module named '__main__.base_hparams'; '__main__' is not a package",
            "",
            "\u001b[0;31m---------------------------------------------------------------------------\u001b[0;32m\nNOTE: If your import is failing due to a missing package, you can\nmanually install dependencies using either !pip or !apt.\n\nTo view examples of installing some common dependencies, click the\n\"Open Examples\" button below.\n\u001b[0;31m---------------------------------------------------------------------------\u001b[0m\n"
          ]
        }
      ]
    },
    {
      "cell_type": "code",
      "metadata": {
        "id": "gJSTBK2xFmnQ",
        "colab_type": "code",
        "colab": {}
      },
      "source": [
        ""
      ],
      "execution_count": 0,
      "outputs": []
    }
  ]
}